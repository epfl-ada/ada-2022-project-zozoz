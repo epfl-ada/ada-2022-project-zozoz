{
 "cells": [
  {
   "cell_type": "markdown",
   "id": "55b494e5",
   "metadata": {},
   "source": [
    "# EDA"
   ]
  },
  {
   "cell_type": "code",
   "execution_count": 17,
   "id": "393560a5",
   "metadata": {},
   "outputs": [],
   "source": [
    "import numpy as np\n",
    "import matplotlib.pyplot as plt\n",
    "import pandas as pd"
   ]
  },
  {
   "cell_type": "markdown",
   "id": "37ad9a3e",
   "metadata": {},
   "source": [
    "## Load Preprocessed Data"
   ]
  },
  {
   "cell_type": "code",
   "execution_count": 4,
   "id": "3f4c9dd0",
   "metadata": {},
   "outputs": [],
   "source": [
    "country_df = pd.read_pickle(\"../../data/Tables/country_df.pkl\")\n",
    "comes_from_df = pd.read_pickle(\"../../data/Tables/comes_from_df.pkl\")\n",
    "genre_df = pd.read_pickle(\"../../data/Tables/genre_df.pkl\")\n",
    "is_of_type_df = pd.read_pickle(\"../../data/Tables/is_of_type_df.pkl\")\n",
    "language_df = pd.read_pickle(\"../../data/Tables/language_df.pkl\")\n",
    "spoken_languages_df = pd.read_pickle(\"../../data/Tables/spoken_languages_df.pkl\")\n",
    "character_df = pd.read_pickle(\"../../data/Tables/character_df.pkl\")\n",
    "actor_df = pd.read_pickle(\"../../data/Tables/actor_df.pkl\")\n",
    "movie_df = pd.read_pickle(\"../../data/Tables/movie_df.pkl\")\n",
    "belongs_to_df = pd.read_pickle(\"../../data/Tables/belongs_to_df.pkl\")\n",
    "play_df = pd.read_pickle(\"../../data/Tables/play_df.pkl\")\n",
    "appears_in_df = pd.read_pickle(\"../../data/Tables/appears_in_df.pkl\")"
   ]
  },
  {
   "cell_type": "markdown",
   "id": "6a6a4939",
   "metadata": {},
   "source": [
    "## Movie Data Exploration"
   ]
  },
  {
   "cell_type": "code",
   "execution_count": 7,
   "id": "cc8aa0ce",
   "metadata": {},
   "outputs": [
    {
     "data": {
      "text/html": [
       "<div>\n",
       "<style scoped>\n",
       "    .dataframe tbody tr th:only-of-type {\n",
       "        vertical-align: middle;\n",
       "    }\n",
       "\n",
       "    .dataframe tbody tr th {\n",
       "        vertical-align: top;\n",
       "    }\n",
       "\n",
       "    .dataframe thead th {\n",
       "        text-align: right;\n",
       "    }\n",
       "</style>\n",
       "<table border=\"1\" class=\"dataframe\">\n",
       "  <thead>\n",
       "    <tr style=\"text-align: right;\">\n",
       "      <th></th>\n",
       "      <th>name</th>\n",
       "      <th>release_date</th>\n",
       "      <th>revenue</th>\n",
       "      <th>runtime</th>\n",
       "      <th>freebase_id</th>\n",
       "      <th>plot</th>\n",
       "    </tr>\n",
       "    <tr>\n",
       "      <th>movie_id</th>\n",
       "      <th></th>\n",
       "      <th></th>\n",
       "      <th></th>\n",
       "      <th></th>\n",
       "      <th></th>\n",
       "      <th></th>\n",
       "    </tr>\n",
       "  </thead>\n",
       "  <tbody>\n",
       "    <tr>\n",
       "      <th>975900</th>\n",
       "      <td>Ghosts of Mars</td>\n",
       "      <td>2001-08-24</td>\n",
       "      <td>14010832.0</td>\n",
       "      <td>98.0</td>\n",
       "      <td>/m/03vyhn</td>\n",
       "      <td>Set in the second half of the 22nd century, th...</td>\n",
       "    </tr>\n",
       "    <tr>\n",
       "      <th>3196793</th>\n",
       "      <td>Getting Away with Murder: The JonBenét Ramsey ...</td>\n",
       "      <td>2000-02-16</td>\n",
       "      <td>NaN</td>\n",
       "      <td>95.0</td>\n",
       "      <td>/m/08yl5d</td>\n",
       "      <td>NaN</td>\n",
       "    </tr>\n",
       "    <tr>\n",
       "      <th>28463795</th>\n",
       "      <td>Brun bitter</td>\n",
       "      <td>1988</td>\n",
       "      <td>NaN</td>\n",
       "      <td>83.0</td>\n",
       "      <td>/m/0crgdbh</td>\n",
       "      <td>NaN</td>\n",
       "    </tr>\n",
       "    <tr>\n",
       "      <th>9363483</th>\n",
       "      <td>White Of The Eye</td>\n",
       "      <td>1987</td>\n",
       "      <td>NaN</td>\n",
       "      <td>110.0</td>\n",
       "      <td>/m/0285_cd</td>\n",
       "      <td>A series of murders of rich young women throug...</td>\n",
       "    </tr>\n",
       "    <tr>\n",
       "      <th>261236</th>\n",
       "      <td>A Woman in Flames</td>\n",
       "      <td>1983</td>\n",
       "      <td>NaN</td>\n",
       "      <td>106.0</td>\n",
       "      <td>/m/01mrr1</td>\n",
       "      <td>Eva, an upper class housewife, becomes frustra...</td>\n",
       "    </tr>\n",
       "  </tbody>\n",
       "</table>\n",
       "</div>"
      ],
      "text/plain": [
       "                                                       name release_date  \\\n",
       "movie_id                                                                   \n",
       "975900                                       Ghosts of Mars   2001-08-24   \n",
       "3196793   Getting Away with Murder: The JonBenét Ramsey ...   2000-02-16   \n",
       "28463795                                        Brun bitter         1988   \n",
       "9363483                                    White Of The Eye         1987   \n",
       "261236                                    A Woman in Flames         1983   \n",
       "\n",
       "             revenue  runtime freebase_id  \\\n",
       "movie_id                                    \n",
       "975900    14010832.0     98.0   /m/03vyhn   \n",
       "3196793          NaN     95.0   /m/08yl5d   \n",
       "28463795         NaN     83.0  /m/0crgdbh   \n",
       "9363483          NaN    110.0  /m/0285_cd   \n",
       "261236           NaN    106.0   /m/01mrr1   \n",
       "\n",
       "                                                       plot  \n",
       "movie_id                                                     \n",
       "975900    Set in the second half of the 22nd century, th...  \n",
       "3196793                                                 NaN  \n",
       "28463795                                                NaN  \n",
       "9363483   A series of murders of rich young women throug...  \n",
       "261236    Eva, an upper class housewife, becomes frustra...  "
      ]
     },
     "execution_count": 7,
     "metadata": {},
     "output_type": "execute_result"
    }
   ],
   "source": [
    "movie_df.head()"
   ]
  }
 ],
 "metadata": {
  "kernelspec": {
   "display_name": "Python 3 (ipykernel)",
   "language": "python",
   "name": "python3"
  },
  "language_info": {
   "codemirror_mode": {
    "name": "ipython",
    "version": 3
   },
   "file_extension": ".py",
   "mimetype": "text/x-python",
   "name": "python",
   "nbconvert_exporter": "python",
   "pygments_lexer": "ipython3",
   "version": "3.10.4"
  }
 },
 "nbformat": 4,
 "nbformat_minor": 5
}
