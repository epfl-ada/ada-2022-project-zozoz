{
 "cells": [
  {
   "cell_type": "markdown",
   "id": "9b36402d",
   "metadata": {},
   "source": [
    "# EDA notebook of Jeremy"
   ]
  },
  {
   "cell_type": "markdown",
   "id": "f7581c9a",
   "metadata": {},
   "source": [
    "## Set Up"
   ]
  },
  {
   "cell_type": "code",
   "execution_count": 1,
   "id": "7db66bca",
   "metadata": {},
   "outputs": [],
   "source": [
    "import numpy as np\n",
    "import pandas as pd\n",
    "import itertools\n",
    "import json"
   ]
  },
  {
   "cell_type": "markdown",
   "id": "ce655b63",
   "metadata": {},
   "source": [
    "## Load Data"
   ]
  },
  {
   "cell_type": "markdown",
   "id": "7ec41ae7",
   "metadata": {},
   "source": [
    "#### Movies"
   ]
  },
  {
   "cell_type": "code",
   "execution_count": 2,
   "id": "e3dc678d",
   "metadata": {},
   "outputs": [],
   "source": [
    "movie_meta_data = pd.read_csv(\"../../data/MovieSummaries/movie.metadata.tsv\",sep=\"\\t\",\n",
    "                              names=[\"wikipedia_id\",\"freebase_id\",\n",
    "                                     \"name\",\"release_date\",\"revenue\",\n",
    "                                     \"runtime\",\"languages\",\"countries\",\"genres\"],\n",
    "                             index_col=\"wikipedia_id\")\n",
    "movie_plots = pd.read_csv(\"../../data/MovieSummaries/plot_summaries.txt\",sep=\"\\t\",\n",
    "                              names=[\"wikipedia_id\",\"plot\"],index_col=\"wikipedia_id\")\n",
    "movie_raw_df = movie_meta_data.join(movie_plots)"
   ]
  },
  {
   "cell_type": "markdown",
   "id": "f58c1523",
   "metadata": {},
   "source": [
    "#### Characters"
   ]
  },
  {
   "cell_type": "code",
   "execution_count": 3,
   "id": "c5029728",
   "metadata": {},
   "outputs": [],
   "source": [
    "character_meta_data = pd.read_csv(\"../../data/MovieSummaries/character.metadata.tsv\",sep=\"\\t\",\n",
    "                              names=[\"wikipedia_movie_id\",\"freebase_movie_id\",\n",
    "                                     \"release_date\",\"character_name\",\"actor_birth_date\",\n",
    "                                     \"actor_gender\",\"actor_height\",\"actor_ethnicity\",\"actor_name\",\n",
    "                                     \"actor_age_at_release_date\",\"freebase_map_id\",\"freebase_character_id\",\n",
    "                                     \"freebase_actor_id\"],\n",
    "                             index_col=\"freebase_character_id\")"
   ]
  },
  {
   "cell_type": "markdown",
   "id": "8d9ca59a",
   "metadata": {},
   "source": [
    "## Format Data"
   ]
  },
  {
   "cell_type": "markdown",
   "id": "d31dc026",
   "metadata": {},
   "source": [
    "### Helpers and Parsers"
   ]
  },
  {
   "cell_type": "code",
   "execution_count": 4,
   "id": "4fef53c4",
   "metadata": {},
   "outputs": [],
   "source": [
    "def freebase_dict_parser_python(entry):\n",
    "    \"\"\" Parse the entry of the given raw data freebase based entry using built-in python functions. \"\"\"\n",
    "    results = []\n",
    "    for pair in entry[1:-1].split(\",\"):\n",
    "        if len(pair) > 0:\n",
    "            single_element = pair.split(\"\\\"\")[-2].lower()\n",
    "            results.append(single_element.removesuffix(\"language\"))\n",
    "    return results\n",
    "\n",
    "def apply_entry_level_filter(entry,filter_dict):\n",
    "    \"\"\" Replace in the given entry the different terms in the filter dictionnary. \"\"\" \n",
    "    new_entry = entry\n",
    "    for old, new in filter_dict.items():\n",
    "        new_entry = new_entry.replace(old,new)\n",
    "    return new_entry\n",
    "\n",
    "def freebase_dict_parser(entry,filter_dict):\n",
    "    \"\"\" Parse the entry of the given raw data freebase based entry using json format. \"\"\"\n",
    "    entry_dict = json.loads(entry)\n",
    "    if len(entry_dict) > 0:\n",
    "        return list(set([apply_entry_level_filter(s.lower(),filter_dict)\n",
    "                         for s in entry_dict.values()]))\n",
    "    else:\n",
    "        return []\n",
    "    \n",
    "def create_flat_movie_entry_list(entry_name,movie_raw_df,filter_dict):\n",
    "    \"\"\" Create a flat list with the movie ids together with the given entry type. \"\"\"\n",
    "    flat_entry_list = [(idx,entry) for idx,entry_list in \n",
    "                      movie_raw_df[entry_name].apply(lambda e : freebase_dict_parser(e,filter_dict)).to_dict().items()\n",
    "                      for entry in entry_list]\n",
    "    return list(set(flat_entry_list))\n",
    "\n",
    "def create_entry_and_relation_table(movie_raw_df,entry_name,\n",
    "                                    entry_id_name,movie_id_name, filter_dict=dict()):\n",
    "    \"\"\" Creates the tables for both the given entity and its relation table with the movies. \"\"\"\n",
    "    entry_relation_df = pd.DataFrame(create_flat_movie_entry_list(entry_name,movie_raw_df,filter_dict)\n",
    "                        ,columns=[movie_id_name,entry_id_name])\n",
    "    entry_df = pd.DataFrame({entry_id_name:entry_relation_df[entry_id_name].unique()}).set_index([entry_id_name])\n",
    "    return entry_df,entry_relation_df"
   ]
  },
  {
   "cell_type": "markdown",
   "id": "078f6ae4",
   "metadata": {},
   "source": [
    "### Tables Creation"
   ]
  },
  {
   "cell_type": "markdown",
   "id": "61d0fed2",
   "metadata": {},
   "source": [
    "#### Country table and relation"
   ]
  },
  {
   "cell_type": "code",
   "execution_count": 5,
   "id": "e1ee4513",
   "metadata": {},
   "outputs": [],
   "source": [
    "country_df,comes_from_df = create_entry_and_relation_table(movie_raw_df,\"countries\",\n",
    "                                                           \"country_name\",\"movie_id\")"
   ]
  },
  {
   "cell_type": "markdown",
   "id": "11e2d999",
   "metadata": {},
   "source": [
    "#### Genre table and relation"
   ]
  },
  {
   "cell_type": "code",
   "execution_count": 6,
   "id": "11bcb174",
   "metadata": {},
   "outputs": [],
   "source": [
    "genre_df,is_of_type_df = create_entry_and_relation_table(movie_raw_df,\"genres\",\n",
    "                                                           \"genre_name\",\"movie_id\")"
   ]
  },
  {
   "cell_type": "markdown",
   "id": "10a08c09",
   "metadata": {},
   "source": [
    "#### Language table and relation"
   ]
  },
  {
   "cell_type": "code",
   "execution_count": 7,
   "id": "f9d37f7e",
   "metadata": {},
   "outputs": [],
   "source": [
    "language_df,spoken_languages_df = create_entry_and_relation_table(movie_raw_df,\"languages\",\"language_name\",\n",
    "                                                                  \"movie_id\",filter_dict={\" language\":\"\"})"
   ]
  },
  {
   "cell_type": "markdown",
   "id": "bbf233ce",
   "metadata": {},
   "source": [
    "#### Character Table"
   ]
  },
  {
   "cell_type": "code",
   "execution_count": 8,
   "id": "3e507f69",
   "metadata": {},
   "outputs": [],
   "source": [
    "# Remove Character with no Freebase_id because none of them has a names\n",
    "character_df = pd.DataFrame(character_meta_data[\"character_name\"][~character_meta_data.index.isna()])\n",
    "character_df = character_df[~character_df.index.duplicated()]\n",
    "character_df.index = character_df.index.rename(\"character_id\")"
   ]
  },
  {
   "cell_type": "markdown",
   "id": "00c2d8fb",
   "metadata": {},
   "source": [
    "#### Actor Table"
   ]
  },
  {
   "cell_type": "code",
   "execution_count": 9,
   "id": "af0f88e1",
   "metadata": {},
   "outputs": [],
   "source": [
    "# We remove actors that have a nan id or that have duplicated entries\n",
    "actor_df = character_meta_data[[\"actor_name\",\"actor_gender\",\n",
    "                                \"actor_height\",\"actor_ethnicity\",\"actor_birth_date\",\n",
    "                                \"freebase_actor_id\"]].set_index(\"freebase_actor_id\")\n",
    "actor_table_columns_mapping = {\"actor_birth_date\":\"birth_date\",\"actor_gender\":\"gender\",\n",
    "                                \"actor_height\":\"height\",\"actor_ethnicity\":\"ethnicity\",\n",
    "                                \"actor_name\":\"name\",\"freebase_actor_id\":\"actor_id\"}\n",
    "actor_df = actor_df[~actor_df.index.isna()]\n",
    "actor_df = actor_df[~actor_df.index.duplicated()].rename(\n",
    "                columns=actor_table_columns_mapping)\n",
    "actor_df.index = actor_df.index.rename(\"actor_id\")\n",
    "actor_df = actor_df.dropna(how=\"all\")"
   ]
  },
  {
   "cell_type": "markdown",
   "id": "79f9f762",
   "metadata": {},
   "source": [
    "#### Movie Table"
   ]
  },
  {
   "cell_type": "code",
   "execution_count": 10,
   "id": "a08d51f8",
   "metadata": {},
   "outputs": [],
   "source": [
    "movie_df = movie_raw_df[[\"name\",\"release_date\",\"revenue\",\"runtime\",\"freebase_id\",\"plot\"]]\n",
    "movie_df.index = movie_df.index.rename(\"movie_id\")"
   ]
  },
  {
   "cell_type": "markdown",
   "id": "95f134cb",
   "metadata": {},
   "source": [
    "#### Belongs_To Table"
   ]
  },
  {
   "cell_type": "code",
   "execution_count": 11,
   "id": "1ec79ca2",
   "metadata": {},
   "outputs": [],
   "source": [
    "belongs_to_df = pd.DataFrame(\n",
    "    character_meta_data[\"wikipedia_movie_id\"][~character_meta_data.index.isna()])\n",
    "belongs_to_df = belongs_to_df.reset_index().drop_duplicates()\n",
    "# Convert back index to linear range\n",
    "belongs_to_df = belongs_to_df.reset_index()[[\"freebase_character_id\",\"wikipedia_movie_id\"]]\n",
    "belongs_to_table_columns_mapping = {\"freebase_character_id\":\"character_id\",\"wikipedia_movie_id\":\"movie_id\"}\n",
    "belongs_to_df = belongs_to_df.rename(columns=belongs_to_table_columns_mapping)"
   ]
  },
  {
   "cell_type": "markdown",
   "id": "21ea92d2",
   "metadata": {},
   "source": [
    "#### Plays Table"
   ]
  },
  {
   "cell_type": "code",
   "execution_count": 12,
   "id": "3bd6260f",
   "metadata": {},
   "outputs": [],
   "source": [
    "play_df = pd.DataFrame(\n",
    "    character_meta_data[[\"freebase_actor_id\",\"freebase_map_id\"]][~character_meta_data.index.isna()])\n",
    "play_df = play_df.reset_index().drop_duplicates()\n",
    "# Convert back index to linear range\n",
    "play_df = play_df.reset_index()[[\"freebase_actor_id\",\"freebase_character_id\",\"freebase_map_id\"]]\n",
    "play_table_columns_mapping = {\"freebase_character_id\":\"character_id\",\n",
    "                                    \"freebase_actor_id\":\"actor_id\"}\n",
    "play_df = play_df.rename(columns=play_table_columns_mapping)"
   ]
  },
  {
   "cell_type": "markdown",
   "id": "b4c40601",
   "metadata": {},
   "source": [
    "#### Appears In Table"
   ]
  },
  {
   "cell_type": "code",
   "execution_count": 13,
   "id": "61b9d39a",
   "metadata": {},
   "outputs": [],
   "source": [
    "# Remove duplicates that can appear in the dataset (same actor for clark kent and superman)\n",
    "appears_in_df = character_meta_data.reset_index()[[\"freebase_actor_id\",\n",
    "    \"wikipedia_movie_id\",\"actor_age_at_release_date\"]].drop_duplicates()\n",
    "# Convert back index to linear range\n",
    "appears_in_table_columns_mapping = {\"wikipedia_movie_id\":\"movie_id\",\n",
    "                                    \"freebase_actor_id\":\"actor_id\",\n",
    "                                    \"actor_age_at_release_date\":\"actor_age\"}\n",
    "appears_in_df = appears_in_df.rename(columns=appears_in_table_columns_mapping)"
   ]
  },
  {
   "cell_type": "markdown",
   "id": "01b72ed2",
   "metadata": {},
   "source": [
    "#### Merge duplicated actors entries"
   ]
  },
  {
   "cell_type": "code",
   "execution_count": 14,
   "id": "9e7101b8",
   "metadata": {},
   "outputs": [],
   "source": [
    "def retrieve_duplicated_actors_ids(actor_dataframe):\n",
    "    \"\"\" Retrive the indices of duplicated actors in the given df. \n",
    "        \n",
    "        We state that an actor is duplicated if it has the same name\n",
    "        and the same birthdate as another entry in the df. Note that\n",
    "        we do not consider same years as to be same birth date.\n",
    "    \n",
    "    \"\"\"\n",
    "    duplicated_actors_df = actor_dataframe[\n",
    "                            actor_dataframe.duplicated(keep=False)]\n",
    "    # We stick to defined actors, the row containing only missing values cannot be\n",
    "    # Assimilated one to another.\n",
    "    duplicated_actors_df = duplicated_actors_df[~duplicated_actors_df.isna()]\n",
    "    duplicated_actors_df = duplicated_actors_df.reset_index()\n",
    "    duplicated_actors_df = duplicated_actors_df[~duplicated_actors_df[\"birth_date\"].isna()]\n",
    "    duplicated_actors_df = duplicated_actors_df.groupby(\"name\",dropna=False)\n",
    "    duplicated_actors_dict = duplicated_actors_df[\"birth_date\"].apply(list).to_dict()\n",
    "    # Filter actors\n",
    "    duplicated_actors_ids = []\n",
    "    for actor_name, birth_dates in duplicated_actors_dict.items():\n",
    "        first_date, second_date = birth_dates[0], birth_dates[1]\n",
    "        if first_date == second_date and len(first_date) > 4:\n",
    "            duplicated_actors_ids.append(\n",
    "                actor_dataframe[(actor_dataframe[\"name\"] == actor_name)\n",
    "                               & (actor_dataframe[\"birth_date\"] == first_date)].index.to_list())\n",
    "    return duplicated_actors_ids\n",
    "\n",
    "def rematch_duplicated_actor_ids(duplicated_ids,actor_dataframe,relationship_dataframes):\n",
    "    \"\"\" Merge the two actors into a single entry. \"\"\"\n",
    "    for conserved_id, thrown_id in duplicated_ids:\n",
    "        actor_dataframe.drop(thrown_id,inplace=True)\n",
    "        for relation_df in relationship_dataframes:\n",
    "            relation_df[\"actor_id\"] = relation_df[\"actor_id\"].apply(\n",
    "                lambda idx: conserved_id if idx == thrown_id else idx)\n",
    "            relation_df.drop_duplicates(inplace=True)\n",
    "        \n",
    "def proces_duplicated_actors(actor_dataframe,relationship_dataframes):\n",
    "    \"\"\" Identify duplicated actors entries and merge them together. \"\"\"\n",
    "    duplicated_ids = retrieve_duplicated_actors_ids(actor_dataframe)\n",
    "    rematch_duplicated_actor_ids(duplicated_ids,actor_dataframe,relationship_dataframes)"
   ]
  },
  {
   "cell_type": "code",
   "execution_count": 15,
   "id": "8acc6406",
   "metadata": {},
   "outputs": [],
   "source": [
    "proces_duplicated_actors(actor_df,[play_df,appears_in_df])"
   ]
  },
  {
   "cell_type": "markdown",
   "id": "2165350d",
   "metadata": {},
   "source": [
    "### Save Tables"
   ]
  },
  {
   "cell_type": "code",
   "execution_count": 16,
   "id": "b75eb060",
   "metadata": {},
   "outputs": [],
   "source": [
    "country_df.to_pickle(\"../../data/Tables/country_df.pkl\")\n",
    "comes_from_df.to_pickle(\"../../data/Tables/comes_from_df.pkl\")\n",
    "genre_df.to_pickle(\"../../data/Tables/genre_df.pkl\")\n",
    "is_of_type_df.to_pickle(\"../../data/Tables/is_of_type_df.pkl\")\n",
    "language_df.to_pickle(\"../../data/Tables/language_df.pkl\")\n",
    "spoken_languages_df.to_pickle(\"../../data/Tables/spoken_languages_df.pkl\")\n",
    "character_df.to_pickle(\"../../data/Tables/character_df.pkl\")\n",
    "actor_df.to_pickle(\"../../data/Tables/actor_df.pkl\")\n",
    "movie_df.to_pickle(\"../../data/Tables/movie_df.pkl\")\n",
    "belongs_to_df.to_pickle(\"../../data/Tables/belongs_to_df.pkl\")\n",
    "play_df.to_pickle(\"../../data/Tables/play_df.pkl\")\n",
    "appears_in_df.to_pickle(\"../../data/Tables/appears_in_df.pkl\")"
   ]
  }
 ],
 "metadata": {
  "kernelspec": {
   "display_name": "Python 3 (ipykernel)",
   "language": "python",
   "name": "python3"
  },
  "language_info": {
   "codemirror_mode": {
    "name": "ipython",
    "version": 3
   },
   "file_extension": ".py",
   "mimetype": "text/x-python",
   "name": "python",
   "nbconvert_exporter": "python",
   "pygments_lexer": "ipython3",
   "version": "3.10.4"
  }
 },
 "nbformat": 4,
 "nbformat_minor": 5
}
