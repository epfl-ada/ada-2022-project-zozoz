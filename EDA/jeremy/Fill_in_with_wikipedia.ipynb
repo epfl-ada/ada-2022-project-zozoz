{
 "cells": [
  {
   "cell_type": "markdown",
   "id": "74eb519e",
   "metadata": {},
   "source": [
    "# Use Wikipedia as alternative data source"
   ]
  },
  {
   "cell_type": "code",
   "execution_count": 128,
   "id": "f425a6f8",
   "metadata": {},
   "outputs": [],
   "source": [
    "import numpy as np\n",
    "import pandas as pd\n",
    "import wikipedia\n",
    "import re\n",
    "import timeit\n",
    "from bs4 import BeautifulSoup"
   ]
  },
  {
   "cell_type": "markdown",
   "id": "4db553be",
   "metadata": {},
   "source": [
    "## Load Formated Data"
   ]
  },
  {
   "cell_type": "code",
   "execution_count": 3,
   "id": "a153c917",
   "metadata": {},
   "outputs": [],
   "source": [
    "country_df = pd.read_pickle(\"../../data/Tables/country_df.pkl\")\n",
    "comes_from_df = pd.read_pickle(\"../../data/Tables/comes_from_df.pkl\")\n",
    "genre_df = pd.read_pickle(\"../../data/Tables/genre_df.pkl\")\n",
    "is_of_type_df = pd.read_pickle(\"../../data/Tables/is_of_type_df.pkl\")\n",
    "language_df = pd.read_pickle(\"../../data/Tables/language_df.pkl\")\n",
    "spoken_languages_df = pd.read_pickle(\"../../data/Tables/spoken_languages_df.pkl\")\n",
    "character_df = pd.read_pickle(\"../../data/Tables/character_df.pkl\")\n",
    "actor_df = pd.read_pickle(\"../../data/Tables/actor_df.pkl\")\n",
    "movie_df = pd.read_pickle(\"../../data/Tables/movie_df.pkl\")\n",
    "belongs_to_df = pd.read_pickle(\"../../data/Tables/belongs_to_df.pkl\")\n",
    "play_df = pd.read_pickle(\"../../data/Tables/play_df.pkl\")\n",
    "appears_in_df = pd.read_pickle(\"../../data/Tables/appears_in_df.pkl\")"
   ]
  },
  {
   "cell_type": "markdown",
   "id": "8ba5b1a5",
   "metadata": {},
   "source": [
    "## Test"
   ]
  },
  {
   "cell_type": "code",
   "execution_count": 13,
   "id": "2f39ffeb",
   "metadata": {},
   "outputs": [
    {
     "data": {
      "text/html": [
       "<div>\n",
       "<style scoped>\n",
       "    .dataframe tbody tr th:only-of-type {\n",
       "        vertical-align: middle;\n",
       "    }\n",
       "\n",
       "    .dataframe tbody tr th {\n",
       "        vertical-align: top;\n",
       "    }\n",
       "\n",
       "    .dataframe thead th {\n",
       "        text-align: right;\n",
       "    }\n",
       "</style>\n",
       "<table border=\"1\" class=\"dataframe\">\n",
       "  <thead>\n",
       "    <tr style=\"text-align: right;\">\n",
       "      <th></th>\n",
       "      <th>name</th>\n",
       "      <th>release_date</th>\n",
       "      <th>revenue</th>\n",
       "      <th>runtime</th>\n",
       "      <th>freebase_id</th>\n",
       "      <th>plot</th>\n",
       "    </tr>\n",
       "    <tr>\n",
       "      <th>movie_id</th>\n",
       "      <th></th>\n",
       "      <th></th>\n",
       "      <th></th>\n",
       "      <th></th>\n",
       "      <th></th>\n",
       "      <th></th>\n",
       "    </tr>\n",
       "  </thead>\n",
       "  <tbody>\n",
       "    <tr>\n",
       "      <th>975900</th>\n",
       "      <td>Ghosts of Mars</td>\n",
       "      <td>2001-08-24</td>\n",
       "      <td>14010832.0</td>\n",
       "      <td>98.0</td>\n",
       "      <td>/m/03vyhn</td>\n",
       "      <td>Set in the second half of the 22nd century, th...</td>\n",
       "    </tr>\n",
       "    <tr>\n",
       "      <th>3196793</th>\n",
       "      <td>Getting Away with Murder: The JonBenét Ramsey ...</td>\n",
       "      <td>2000-02-16</td>\n",
       "      <td>NaN</td>\n",
       "      <td>95.0</td>\n",
       "      <td>/m/08yl5d</td>\n",
       "      <td>NaN</td>\n",
       "    </tr>\n",
       "    <tr>\n",
       "      <th>28463795</th>\n",
       "      <td>Brun bitter</td>\n",
       "      <td>1988</td>\n",
       "      <td>NaN</td>\n",
       "      <td>83.0</td>\n",
       "      <td>/m/0crgdbh</td>\n",
       "      <td>NaN</td>\n",
       "    </tr>\n",
       "    <tr>\n",
       "      <th>9363483</th>\n",
       "      <td>White Of The Eye</td>\n",
       "      <td>1987</td>\n",
       "      <td>NaN</td>\n",
       "      <td>110.0</td>\n",
       "      <td>/m/0285_cd</td>\n",
       "      <td>A series of murders of rich young women throug...</td>\n",
       "    </tr>\n",
       "    <tr>\n",
       "      <th>261236</th>\n",
       "      <td>A Woman in Flames</td>\n",
       "      <td>1983</td>\n",
       "      <td>NaN</td>\n",
       "      <td>106.0</td>\n",
       "      <td>/m/01mrr1</td>\n",
       "      <td>Eva, an upper class housewife, becomes frustra...</td>\n",
       "    </tr>\n",
       "    <tr>\n",
       "      <th>...</th>\n",
       "      <td>...</td>\n",
       "      <td>...</td>\n",
       "      <td>...</td>\n",
       "      <td>...</td>\n",
       "      <td>...</td>\n",
       "      <td>...</td>\n",
       "    </tr>\n",
       "    <tr>\n",
       "      <th>35228177</th>\n",
       "      <td>Mermaids: The Body Found</td>\n",
       "      <td>2011-03-19</td>\n",
       "      <td>NaN</td>\n",
       "      <td>120.0</td>\n",
       "      <td>/m/0j7hxnt</td>\n",
       "      <td>Two former National Oceanic Atmospheric Admini...</td>\n",
       "    </tr>\n",
       "    <tr>\n",
       "      <th>34980460</th>\n",
       "      <td>Knuckle</td>\n",
       "      <td>2011-01-21</td>\n",
       "      <td>NaN</td>\n",
       "      <td>96.0</td>\n",
       "      <td>/m/0g4pl34</td>\n",
       "      <td>{{No plot}} This film follows 12 years in the ...</td>\n",
       "    </tr>\n",
       "    <tr>\n",
       "      <th>9971909</th>\n",
       "      <td>Another Nice Mess</td>\n",
       "      <td>1972-09-22</td>\n",
       "      <td>NaN</td>\n",
       "      <td>66.0</td>\n",
       "      <td>/m/02pygw1</td>\n",
       "      <td>NaN</td>\n",
       "    </tr>\n",
       "    <tr>\n",
       "      <th>913762</th>\n",
       "      <td>The Super Dimension Fortress Macross II: Lover...</td>\n",
       "      <td>1992-05-21</td>\n",
       "      <td>NaN</td>\n",
       "      <td>150.0</td>\n",
       "      <td>/m/03pcrp</td>\n",
       "      <td>The story takes place in the year 2092,The Sup...</td>\n",
       "    </tr>\n",
       "    <tr>\n",
       "      <th>12476867</th>\n",
       "      <td>Spliced</td>\n",
       "      <td>2002</td>\n",
       "      <td>NaN</td>\n",
       "      <td>86.0</td>\n",
       "      <td>/m/02w7zz8</td>\n",
       "      <td>The movie is about a teenage girl who loves ho...</td>\n",
       "    </tr>\n",
       "  </tbody>\n",
       "</table>\n",
       "<p>81741 rows × 6 columns</p>\n",
       "</div>"
      ],
      "text/plain": [
       "                                                       name release_date  \\\n",
       "movie_id                                                                   \n",
       "975900                                       Ghosts of Mars   2001-08-24   \n",
       "3196793   Getting Away with Murder: The JonBenét Ramsey ...   2000-02-16   \n",
       "28463795                                        Brun bitter         1988   \n",
       "9363483                                    White Of The Eye         1987   \n",
       "261236                                    A Woman in Flames         1983   \n",
       "...                                                     ...          ...   \n",
       "35228177                           Mermaids: The Body Found   2011-03-19   \n",
       "34980460                                            Knuckle   2011-01-21   \n",
       "9971909                                   Another Nice Mess   1972-09-22   \n",
       "913762    The Super Dimension Fortress Macross II: Lover...   1992-05-21   \n",
       "12476867                                            Spliced         2002   \n",
       "\n",
       "             revenue  runtime freebase_id  \\\n",
       "movie_id                                    \n",
       "975900    14010832.0     98.0   /m/03vyhn   \n",
       "3196793          NaN     95.0   /m/08yl5d   \n",
       "28463795         NaN     83.0  /m/0crgdbh   \n",
       "9363483          NaN    110.0  /m/0285_cd   \n",
       "261236           NaN    106.0   /m/01mrr1   \n",
       "...              ...      ...         ...   \n",
       "35228177         NaN    120.0  /m/0j7hxnt   \n",
       "34980460         NaN     96.0  /m/0g4pl34   \n",
       "9971909          NaN     66.0  /m/02pygw1   \n",
       "913762           NaN    150.0   /m/03pcrp   \n",
       "12476867         NaN     86.0  /m/02w7zz8   \n",
       "\n",
       "                                                       plot  \n",
       "movie_id                                                     \n",
       "975900    Set in the second half of the 22nd century, th...  \n",
       "3196793                                                 NaN  \n",
       "28463795                                                NaN  \n",
       "9363483   A series of murders of rich young women throug...  \n",
       "261236    Eva, an upper class housewife, becomes frustra...  \n",
       "...                                                     ...  \n",
       "35228177  Two former National Oceanic Atmospheric Admini...  \n",
       "34980460  {{No plot}} This film follows 12 years in the ...  \n",
       "9971909                                                 NaN  \n",
       "913762    The story takes place in the year 2092,The Sup...  \n",
       "12476867  The movie is about a teenage girl who loves ho...  \n",
       "\n",
       "[81741 rows x 6 columns]"
      ]
     },
     "execution_count": 13,
     "metadata": {},
     "output_type": "execute_result"
    }
   ],
   "source": [
    "movie_df"
   ]
  },
  {
   "cell_type": "code",
   "execution_count": 224,
   "id": "f4002d1c",
   "metadata": {},
   "outputs": [],
   "source": [
    "p = wikipedia.page(pageid=261236)"
   ]
  },
  {
   "cell_type": "code",
   "execution_count": 225,
   "id": "dd4bcb8a",
   "metadata": {},
   "outputs": [],
   "source": [
    "soup = BeautifulSoup(p.html(),\"html.parser\")"
   ]
  },
  {
   "cell_type": "code",
   "execution_count": 230,
   "id": "9c8046d3",
   "metadata": {},
   "outputs": [
    {
     "data": {
      "text/plain": [
       "<list_iterator at 0x1c3cdcc1ae0>"
      ]
     },
     "execution_count": 230,
     "metadata": {},
     "output_type": "execute_result"
    }
   ],
   "source": [
    "table = soup.find_all(\"table\",class_=\"infobox\")[0]"
   ]
  },
  {
   "cell_type": "code",
   "execution_count": 237,
   "id": "ec314b5f",
   "metadata": {},
   "outputs": [
    {
     "data": {
      "text/plain": [
       "<table class=\"infobox vevent\"><tbody><tr><th class=\"infobox-above summary\" colspan=\"2\" style=\"font-size: 125%; font-style: italic;\">A Woman in Flames</th></tr><tr><td class=\"infobox-image\" colspan=\"2\"><a class=\"image\" href=\"/wiki/File:A_Woman_in_Flames_dvd_cover.jpg\"><img alt=\"A Woman in Flames dvd cover.jpg\" class=\"thumbborder\" data-file-height=\"360\" data-file-width=\"256\" decoding=\"async\" height=\"309\" src=\"//upload.wikimedia.org/wikipedia/en/thumb/5/55/A_Woman_in_Flames_dvd_cover.jpg/220px-A_Woman_in_Flames_dvd_cover.jpg\" srcset=\"//upload.wikimedia.org/wikipedia/en/5/55/A_Woman_in_Flames_dvd_cover.jpg 1.5x\" width=\"220\"/></a><div class=\"infobox-caption\">German language dvd cover art</div></td></tr><tr><th class=\"infobox-label\" scope=\"row\" style=\"white-space: nowrap; padding-right: 0.65em;\">Directed by</th><td class=\"infobox-data\"><a href=\"/wiki/Robert_van_Ackeren\" title=\"Robert van Ackeren\">Robert van Ackeren</a></td></tr><tr><th class=\"infobox-label\" scope=\"row\" style=\"white-space: nowrap; padding-right: 0.65em;\">Written by</th><td class=\"infobox-data\">Robert van Ackeren<br/><a class=\"new\" href=\"/w/index.php?title=Catharina_Zwerenz&amp;action=edit&amp;redlink=1\" title=\"Catharina Zwerenz (page does not exist)\">Catharina Zwerenz</a></td></tr><tr><th class=\"infobox-label\" scope=\"row\" style=\"white-space: nowrap; padding-right: 0.65em;\">Produced by</th><td class=\"infobox-data\">Robert van Ackeren<br/><a class=\"new\" href=\"/w/index.php?title=Dieter_Geissler&amp;action=edit&amp;redlink=1\" title=\"Dieter Geissler (page does not exist)\">Dieter Geissler</a><span class=\"noprint\" style=\"font-size:85%; font-style: normal;\"> [<a class=\"extiw\" href=\"https://de.wikipedia.org/wiki/Dieter_Gei%C3%9Fler_(Schauspieler)\" title=\"de:Dieter Geißler (Schauspieler)\">de</a>]</span></td></tr><tr><th class=\"infobox-label\" scope=\"row\" style=\"white-space: nowrap; padding-right: 0.65em;\">Starring</th><td class=\"infobox-data\"><a href=\"/wiki/Gudrun_Landgrebe\" title=\"Gudrun Landgrebe\">Gudrun Landgrebe</a><br/><a href=\"/wiki/Mathieu_Carri%C3%A8re\" title=\"Mathieu Carrière\">Mathieu Carrière</a><br/><a href=\"/wiki/Hanns_Zischler\" title=\"Hanns Zischler\">Hanns Zischler</a><br/><a class=\"new\" href=\"/w/index.php?title=Gabriele_Lafari&amp;action=edit&amp;redlink=1\" title=\"Gabriele Lafari (page does not exist)\">Gabriele Lafari</a><br/><a href=\"/wiki/Matthias_Fuchs\" title=\"Matthias Fuchs\">Matthias Fuchs</a></td></tr><tr><th class=\"infobox-label\" scope=\"row\" style=\"white-space: nowrap; padding-right: 0.65em;\">Cinematography</th><td class=\"infobox-data\"><a class=\"new\" href=\"/w/index.php?title=J%C3%BCrgen_J%C3%BCrges&amp;action=edit&amp;redlink=1\" title=\"Jürgen Jürges (page does not exist)\">Jürgen Jürges</a></td></tr><tr><th class=\"infobox-label\" scope=\"row\" style=\"white-space: nowrap; padding-right: 0.65em;\">Edited by</th><td class=\"infobox-data\"><a class=\"new\" href=\"/w/index.php?title=Tanja_Schmidbauer&amp;action=edit&amp;redlink=1\" title=\"Tanja Schmidbauer (page does not exist)\">Tanja Schmidbauer</a></td></tr><tr><th class=\"infobox-label\" scope=\"row\" style=\"white-space: nowrap; padding-right: 0.65em;\">Music by</th><td class=\"infobox-data\"><a href=\"/wiki/Peer_Raben\" title=\"Peer Raben\">Peer Raben</a></td></tr><tr><th class=\"infobox-label\" scope=\"row\" style=\"white-space: nowrap; padding-right: 0.65em;\"><div style=\"display: inline-block; line-height: 1.2em; padding: .1em 0;white-space: normal;\">Release date</div></th><td class=\"infobox-data\"><div class=\"plainlist\">\n",
       "<ul><li>1983<span style=\"display:none\"> (<span class=\"bday dtstart published updated\">1983</span>)</span></li></ul>\n",
       "</div></td></tr><tr><th class=\"infobox-label\" scope=\"row\" style=\"white-space: nowrap; padding-right: 0.65em;\"><div style=\"display: inline-block; line-height: 1.2em; padding: .1em 0;white-space: normal;\">Running time</div></th><td class=\"infobox-data\">106 minutes</td></tr><tr><th class=\"infobox-label\" scope=\"row\" style=\"white-space: nowrap; padding-right: 0.65em;\">Country</th><td class=\"infobox-data\">West Germany</td></tr><tr><th class=\"infobox-label\" scope=\"row\" style=\"white-space: nowrap; padding-right: 0.65em;\">Language</th><td class=\"infobox-data\">German</td></tr></tbody></table>"
      ]
     },
     "execution_count": 237,
     "metadata": {},
     "output_type": "execute_result"
    }
   ],
   "source": [
    "table"
   ]
  }
 ],
 "metadata": {
  "kernelspec": {
   "display_name": "Python 3 (ipykernel)",
   "language": "python",
   "name": "python3"
  },
  "language_info": {
   "codemirror_mode": {
    "name": "ipython",
    "version": 3
   },
   "file_extension": ".py",
   "mimetype": "text/x-python",
   "name": "python",
   "nbconvert_exporter": "python",
   "pygments_lexer": "ipython3",
   "version": "3.10.4"
  }
 },
 "nbformat": 4,
 "nbformat_minor": 5
}
