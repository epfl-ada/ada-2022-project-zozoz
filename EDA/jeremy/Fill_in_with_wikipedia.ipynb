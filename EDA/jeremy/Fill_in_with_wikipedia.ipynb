{
 "cells": [
  {
   "cell_type": "markdown",
   "id": "74eb519e",
   "metadata": {},
   "source": [
    "# Use Wikipedia as alternative data source"
   ]
  },
  {
   "cell_type": "code",
   "execution_count": 214,
   "id": "f425a6f8",
   "metadata": {},
   "outputs": [],
   "source": [
    "import numpy as np\n",
    "import pandas as pd\n",
    "import wikipedia\n",
    "import re\n",
    "import timeit\n",
    "from bs4 import BeautifulSoup\n",
    "import time\n",
    "import bs4"
   ]
  },
  {
   "cell_type": "markdown",
   "id": "4db553be",
   "metadata": {},
   "source": [
    "## Load Formated Data"
   ]
  },
  {
   "cell_type": "code",
   "execution_count": 16,
   "id": "a153c917",
   "metadata": {},
   "outputs": [],
   "source": [
    "country_df = pd.read_pickle(\"../../data/Tables/country_df.pkl\")\n",
    "comes_from_df = pd.read_pickle(\"../../data/Tables/comes_from_df.pkl\")\n",
    "genre_df = pd.read_pickle(\"../../data/Tables/genre_df.pkl\")\n",
    "is_of_type_df = pd.read_pickle(\"../../data/Tables/is_of_type_df.pkl\")\n",
    "language_df = pd.read_pickle(\"../../data/Tables/language_df.pkl\")\n",
    "spoken_languages_df = pd.read_pickle(\"../../data/Tables/spoken_languages_df.pkl\")\n",
    "character_df = pd.read_pickle(\"../../data/Tables/character_df.pkl\")\n",
    "actor_df = pd.read_pickle(\"../../data/Tables/actor_df.pkl\")\n",
    "movie_df = pd.read_pickle(\"../../data/Tables/movie_df.pkl\")\n",
    "belongs_to_df = pd.read_pickle(\"../../data/Tables/belongs_to_df.pkl\")\n",
    "play_df = pd.read_pickle(\"../../data/Tables/play_df.pkl\")\n",
    "appears_in_df = pd.read_pickle(\"../../data/Tables/appears_in_df.pkl\")"
   ]
  },
  {
   "cell_type": "markdown",
   "id": "8ba5b1a5",
   "metadata": {},
   "source": [
    "## Parser"
   ]
  },
  {
   "cell_type": "code",
   "execution_count": 219,
   "id": "68c49f25",
   "metadata": {},
   "outputs": [],
   "source": [
    "default_movie_entries = set([\"Directed by\",\"Written by\",\"Produced by\",\"Starring\",\n",
    "                            \"Cinematography\",\"Edited by\",\"Music by\",\"Distributed by\",\n",
    "                            \"Release date\",\"Running time\",\"Country\",\"Language\",\n",
    "                            \"Budget\",\"Box office\",\"Screenplay by\",\"Based on\",\n",
    "                            \"Release dates\",\"Story by\",\"Director of Animation\"])\n",
    "def get_movie_data(page_id,entry_keys=default_movie_entries):\n",
    "    page = wikipedia.page(pageid=page_id)\n",
    "    page_parser = BeautifulSoup(page.html(),\"html.parser\")\n",
    "    table_data = page_parser.find_all(\"table\",class_=\"infobox\")[0]\n",
    "    table_data_list = [s for s in list(table_data.descendants)[0].strings \n",
    "                       if re.match(\"\\A[(,),\\n,\\[,\\]]\",s) == None]\n",
    "    entry_indices = [idx for (idx,entry) in enumerate(table_data_list)\n",
    "                    if entry in entry_keys]\n",
    "    entry_indices.append(len(table_data_list))\n",
    "    table_data_dict = dict([(table_data_list[entry_indices[i]],\n",
    "                             table_data_list[entry_indices[i]+1:entry_indices[i+1]])\n",
    "                           for i in range(len(entry_indices)-1)])\n",
    "    return table_data_dict,page.summary"
   ]
  },
  {
   "cell_type": "code",
   "execution_count": 220,
   "id": "fea8f079",
   "metadata": {},
   "outputs": [],
   "source": [
    "a = get_movie_data(12305190)"
   ]
  },
  {
   "cell_type": "code",
   "execution_count": 221,
   "id": "9e319f18",
   "metadata": {},
   "outputs": [
    {
     "data": {
      "text/plain": [
       "({'Directed by': ['Norodom Sihanouk'],\n",
       "  'Written by': ['Norodom Sihanouk'],\n",
       "  'Produced by': ['Norodom Sihanouk'],\n",
       "  'Starring': ['Norodom Sihamoni', 'San Chariya'],\n",
       "  'Release date': ['1992'],\n",
       "  'Running time': ['63 minutes'],\n",
       "  'Country': ['Cambodia'],\n",
       "  'Language': ['Khmer']},\n",
       " 'My Village at Sunset  is a 1992 Cambodian romantic drama film directed by Norodom Sihanouk.')"
      ]
     },
     "execution_count": 221,
     "metadata": {},
     "output_type": "execute_result"
    }
   ],
   "source": [
    "a"
   ]
  },
  {
   "cell_type": "markdown",
   "id": "d6096148",
   "metadata": {},
   "source": [
    "### Tests"
   ]
  },
  {
   "cell_type": "code",
   "execution_count": 208,
   "id": "711ff9e6",
   "metadata": {},
   "outputs": [
    {
     "data": {
      "text/html": [
       "<div>\n",
       "<style scoped>\n",
       "    .dataframe tbody tr th:only-of-type {\n",
       "        vertical-align: middle;\n",
       "    }\n",
       "\n",
       "    .dataframe tbody tr th {\n",
       "        vertical-align: top;\n",
       "    }\n",
       "\n",
       "    .dataframe thead th {\n",
       "        text-align: right;\n",
       "    }\n",
       "</style>\n",
       "<table border=\"1\" class=\"dataframe\">\n",
       "  <thead>\n",
       "    <tr style=\"text-align: right;\">\n",
       "      <th></th>\n",
       "      <th>name</th>\n",
       "      <th>release_date</th>\n",
       "      <th>revenue</th>\n",
       "      <th>runtime</th>\n",
       "      <th>freebase_id</th>\n",
       "      <th>plot</th>\n",
       "    </tr>\n",
       "    <tr>\n",
       "      <th>movie_id</th>\n",
       "      <th></th>\n",
       "      <th></th>\n",
       "      <th></th>\n",
       "      <th></th>\n",
       "      <th></th>\n",
       "      <th></th>\n",
       "    </tr>\n",
       "  </thead>\n",
       "  <tbody>\n",
       "    <tr>\n",
       "      <th>28340819</th>\n",
       "      <td>Montana Fishburne: An A-List Daughter Makes he...</td>\n",
       "      <td>NaN</td>\n",
       "      <td>NaN</td>\n",
       "      <td>65.0</td>\n",
       "      <td>/m/0cny8lr</td>\n",
       "      <td>NaN</td>\n",
       "    </tr>\n",
       "    <tr>\n",
       "      <th>12305190</th>\n",
       "      <td>My Village at Sunset</td>\n",
       "      <td>NaN</td>\n",
       "      <td>NaN</td>\n",
       "      <td>63.0</td>\n",
       "      <td>/m/02vzp06</td>\n",
       "      <td>After the 1991 peace agreements, a handsome, ...</td>\n",
       "    </tr>\n",
       "    <tr>\n",
       "      <th>6399567</th>\n",
       "      <td>The little cars in the great race</td>\n",
       "      <td>NaN</td>\n",
       "      <td>NaN</td>\n",
       "      <td>NaN</td>\n",
       "      <td>/m/0g3z6w</td>\n",
       "      <td>NaN</td>\n",
       "    </tr>\n",
       "    <tr>\n",
       "      <th>24364162</th>\n",
       "      <td>Nidhiyude Katha</td>\n",
       "      <td>NaN</td>\n",
       "      <td>NaN</td>\n",
       "      <td>75.0</td>\n",
       "      <td>/m/07s81gr</td>\n",
       "      <td>NaN</td>\n",
       "    </tr>\n",
       "    <tr>\n",
       "      <th>32865605</th>\n",
       "      <td>Scumbus</td>\n",
       "      <td>NaN</td>\n",
       "      <td>NaN</td>\n",
       "      <td>NaN</td>\n",
       "      <td>/m/0h3rnv0</td>\n",
       "      <td>*Ed Kavalee as Tom *Toby Truslove as Red *Lac...</td>\n",
       "    </tr>\n",
       "    <tr>\n",
       "      <th>7299021</th>\n",
       "      <td>The Unseeable</td>\n",
       "      <td>NaN</td>\n",
       "      <td>NaN</td>\n",
       "      <td>100.0</td>\n",
       "      <td>/m/0kv4b0</td>\n",
       "      <td>Set in 1934 Siam, the story involves a young p...</td>\n",
       "    </tr>\n",
       "    <tr>\n",
       "      <th>25067458</th>\n",
       "      <td>Orgasmic Birth: The Best-Kept Secret</td>\n",
       "      <td>NaN</td>\n",
       "      <td>NaN</td>\n",
       "      <td>85.0</td>\n",
       "      <td>/m/09gjlx8</td>\n",
       "      <td>NaN</td>\n",
       "    </tr>\n",
       "    <tr>\n",
       "      <th>20272899</th>\n",
       "      <td>Mary from Beijing</td>\n",
       "      <td>NaN</td>\n",
       "      <td>NaN</td>\n",
       "      <td>NaN</td>\n",
       "      <td>/m/04zx5sr</td>\n",
       "      <td>NaN</td>\n",
       "    </tr>\n",
       "    <tr>\n",
       "      <th>19286251</th>\n",
       "      <td>Maadappura</td>\n",
       "      <td>NaN</td>\n",
       "      <td>NaN</td>\n",
       "      <td>NaN</td>\n",
       "      <td>/m/04lf78v</td>\n",
       "      <td>NaN</td>\n",
       "    </tr>\n",
       "    <tr>\n",
       "      <th>32621378</th>\n",
       "      <td>Big Brother Cheng</td>\n",
       "      <td>NaN</td>\n",
       "      <td>NaN</td>\n",
       "      <td>NaN</td>\n",
       "      <td>/m/0h1byj7</td>\n",
       "      <td>NaN</td>\n",
       "    </tr>\n",
       "  </tbody>\n",
       "</table>\n",
       "</div>"
      ],
      "text/plain": [
       "                                                       name release_date  \\\n",
       "movie_id                                                                   \n",
       "28340819  Montana Fishburne: An A-List Daughter Makes he...          NaN   \n",
       "12305190                               My Village at Sunset          NaN   \n",
       "6399567                   The little cars in the great race          NaN   \n",
       "24364162                                    Nidhiyude Katha          NaN   \n",
       "32865605                                            Scumbus          NaN   \n",
       "7299021                                       The Unseeable          NaN   \n",
       "25067458               Orgasmic Birth: The Best-Kept Secret          NaN   \n",
       "20272899                                  Mary from Beijing          NaN   \n",
       "19286251                                         Maadappura          NaN   \n",
       "32621378                                  Big Brother Cheng          NaN   \n",
       "\n",
       "          revenue  runtime freebase_id  \\\n",
       "movie_id                                 \n",
       "28340819      NaN     65.0  /m/0cny8lr   \n",
       "12305190      NaN     63.0  /m/02vzp06   \n",
       "6399567       NaN      NaN   /m/0g3z6w   \n",
       "24364162      NaN     75.0  /m/07s81gr   \n",
       "32865605      NaN      NaN  /m/0h3rnv0   \n",
       "7299021       NaN    100.0   /m/0kv4b0   \n",
       "25067458      NaN     85.0  /m/09gjlx8   \n",
       "20272899      NaN      NaN  /m/04zx5sr   \n",
       "19286251      NaN      NaN  /m/04lf78v   \n",
       "32621378      NaN      NaN  /m/0h1byj7   \n",
       "\n",
       "                                                       plot  \n",
       "movie_id                                                     \n",
       "28340819                                                NaN  \n",
       "12305190   After the 1991 peace agreements, a handsome, ...  \n",
       "6399567                                                 NaN  \n",
       "24364162                                                NaN  \n",
       "32865605   *Ed Kavalee as Tom *Toby Truslove as Red *Lac...  \n",
       "7299021   Set in 1934 Siam, the story involves a young p...  \n",
       "25067458                                                NaN  \n",
       "20272899                                                NaN  \n",
       "19286251                                                NaN  \n",
       "32621378                                                NaN  "
      ]
     },
     "execution_count": 208,
     "metadata": {},
     "output_type": "execute_result"
    }
   ],
   "source": [
    "movie_df[movie_df[\"release_date\"].isna()].sample(10)"
   ]
  }
 ],
 "metadata": {
  "kernelspec": {
   "display_name": "Python 3 (ipykernel)",
   "language": "python",
   "name": "python3"
  },
  "language_info": {
   "codemirror_mode": {
    "name": "ipython",
    "version": 3
   },
   "file_extension": ".py",
   "mimetype": "text/x-python",
   "name": "python",
   "nbconvert_exporter": "python",
   "pygments_lexer": "ipython3",
   "version": "3.10.4"
  }
 },
 "nbformat": 4,
 "nbformat_minor": 5
}
