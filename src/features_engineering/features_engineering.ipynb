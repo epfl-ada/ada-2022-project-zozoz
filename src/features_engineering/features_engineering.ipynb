{
 "cells": [
  {
   "cell_type": "markdown",
   "id": "8178410a",
   "metadata": {},
   "source": [
    "# Features Engineering\n",
    "\n",
    "Our data can be very high dimensional if we consider the number of languages, countries, actors etc. We have only 44k movies, but we have several hundreds on genres, languages and countries, which gives already around 10 millions possibilities. And this is without even looking at the hundreds of thousands of actors and characters. Thus we have to come up with features that can capture signal in the data, without having to do one-hot encoding for each feature."
   ]
  },
  {
   "cell_type": "markdown",
   "id": "4bc195ac",
   "metadata": {},
   "source": [
    "## Packages"
   ]
  },
  {
   "cell_type": "code",
   "execution_count": 1,
   "id": "1d1ffb20",
   "metadata": {},
   "outputs": [],
   "source": [
    "import pandas as pd\n",
    "import numpy as np\n",
    "import seaborn as sns\n",
    "import matplotlib.pyplot as plt"
   ]
  },
  {
   "cell_type": "markdown",
   "id": "509592f3",
   "metadata": {},
   "source": [
    "## Load Data"
   ]
  },
  {
   "cell_type": "code",
   "execution_count": 2,
   "id": "67e7c42d",
   "metadata": {},
   "outputs": [],
   "source": [
    "country_df = pd.read_pickle(\"../../data/post_processing//country_df.pkl\")\n",
    "comes_from_df = pd.read_pickle(\"../../data/post_processing/comes_from_df.pkl\")\n",
    "genre_df = pd.read_pickle(\"../../data/post_processing/genre_df.pkl\")\n",
    "is_of_type_df = pd.read_pickle(\"../../data/post_processing/is_of_type_df.pkl\")\n",
    "language_df = pd.read_pickle(\"../../data/post_processing/language_df.pkl\")\n",
    "spoken_languages_df = pd.read_pickle(\"../../data/post_processing/spoken_languages_df.pkl\")\n",
    "character_df = pd.read_pickle(\"../../data/post_processing/character_df.pkl\")\n",
    "actor_df = pd.read_pickle(\"../../data/post_processing/actor_df.pkl\")\n",
    "movie_df = pd.read_pickle(\"../../data/post_processing/movie_df.pkl\")\n",
    "belongs_to_df = pd.read_pickle(\"../../data/post_processing/belongs_to_df.pkl\")\n",
    "play_df = pd.read_pickle(\"../../data/post_processing/play_df.pkl\")\n",
    "appears_in_df = pd.read_pickle(\"../../data/post_processing/appears_in_df.pkl\")\n",
    "wikipedia_imdb_mapping_table = pd.read_pickle(\"../../data/generated/wikipedia_imdb_mapping_df.pkl\")"
   ]
  },
  {
   "cell_type": "markdown",
   "id": "431d4fa6",
   "metadata": {},
   "source": [
    "## Countries\n",
    "\n",
    "For the countries we can already try to group per continent. It will give an idea of the different local influence without going in too much details. We suggest the following partition based on our previous analyses:\n",
    "\n",
    "- North America and Australia\n",
    "- Central and South America\n",
    "- Western Europe\n",
    "- Eastern Europe and Russia\n",
    "- Africa and Middle-East\n",
    "- Asia"
   ]
  },
  {
   "cell_type": "code",
   "execution_count": 3,
   "id": "26870551",
   "metadata": {},
   "outputs": [],
   "source": [
    "CONTINENT_ID = {\"North America and Australia\": [1,0,0,0,0,0],\n",
    "\"Central and South America\": [0,1,0,0,0,0],\n",
    "\"Western Europe\": [0,0,1,0,0,0],\n",
    "\"Eastern Europe and Russia\": [0,0,0,1,0,0],\n",
    "\"Africa and Middle-East\": [0,0,0,0,1,0],\n",
    "\"Asia\": [0,0,0,0,0,1]}\n",
    "\n",
    "COUNTRY_CONTINENT_MAPPING = {\n",
    "'afghanistan' : \"Africa and Middle-East\",\n",
    " 'albania' : \"Eastern Europe and Russia\",\n",
    " 'algeria' : \"Africa and Middle-East\",\n",
    " 'argentina': \"Central and South America\",\n",
    " 'armenia' : \"Africa and Middle-East\",\n",
    " 'aruba': \"Central and South America\",\n",
    " 'australia': \"North America and Australia\",\n",
    " 'austria': \"Western Europe\",\n",
    " 'azerbaijan' : \"Africa and Middle-East\",\n",
    " 'bahamas': \"Central and South America\",\n",
    " 'bahrain' : \"Africa and Middle-East\",\n",
    " 'bangladesh': \"Asia\",\n",
    " 'belgium': \"Western Europe\",\n",
    " 'bhutan': \"Asia\",\n",
    " 'bolivia': \"Central and South America\",\n",
    " 'bosnia and herzegovina' : \"Eastern Europe and Russia\",\n",
    " 'brazil': \"Central and South America\",\n",
    " 'bulgaria' : \"Eastern Europe and Russia\",\n",
    " 'burkina faso' : \"Africa and Middle-East\",\n",
    " 'burma': \"Asia\",\n",
    " 'cambodia': \"Asia\",\n",
    " 'cameroon' : \"Africa and Middle-East\",\n",
    " 'canada': \"North America and Australia\",\n",
    " 'chile': \"Central and South America\",\n",
    " 'china': \"Asia\",\n",
    " 'colombia': \"Central and South America\",\n",
    " 'congo' : \"Africa and Middle-East\",\n",
    " 'costa rica': \"Central and South America\",\n",
    " 'crime' : \"Eastern Europe and Russia\",\n",
    " 'croatia' : \"Eastern Europe and Russia\",\n",
    " 'cuba': \"Central and South America\",\n",
    " 'cyprus' : \"Eastern Europe and Russia\",\n",
    " 'czech republic' : \"Eastern Europe and Russia\",\n",
    " 'czechoslovakia' : \"Eastern Europe and Russia\",\n",
    " 'democratic republic of the congo' : \"Africa and Middle-East\",\n",
    " 'denmark': \"Western Europe\",\n",
    " 'egypt' : \"Africa and Middle-East\",\n",
    " 'estonia' : \"Eastern Europe and Russia\",\n",
    " 'ethiopia' : \"Africa and Middle-East\",\n",
    " 'finland': \"Western Europe\",\n",
    " 'france': \"Western Europe\",\n",
    " 'georgia' : \"Africa and Middle-East\",\n",
    " 'germany': \"Western Europe\",\n",
    " 'greece' : \"Eastern Europe and Russia\",\n",
    " 'haiti': \"Central and South America\",\n",
    " 'hong kong': \"Asia\",\n",
    " 'hungary' : \"Eastern Europe and Russia\",\n",
    " 'iceland': \"Western Europe\",\n",
    " 'india': \"Asia\",\n",
    " 'indonesia': \"Asia\",\n",
    " 'iran' : \"Africa and Middle-East\",\n",
    " 'iraq' : \"Africa and Middle-East\",\n",
    " 'iraqi kurdistan' : \"Africa and Middle-East\",\n",
    " 'ireland': \"Western Europe\",\n",
    " 'isle of man': \"Western Europe\",\n",
    " 'israel' : \"Africa and Middle-East\",\n",
    " 'italy': \"Western Europe\",\n",
    " 'jamaica': \"Central and South America\",\n",
    " 'japan': \"Asia\",\n",
    " 'jordan' : \"Africa and Middle-East\",\n",
    " 'kenya' : \"Africa and Middle-East\",\n",
    " 'korea': \"Asia\",\n",
    " 'kuwait' : \"Africa and Middle-East\",\n",
    " 'lebanon' : \"Africa and Middle-East\",\n",
    " 'libya' : \"Africa and Middle-East\",\n",
    " 'lithuania' : \"Eastern Europe and Russia\",\n",
    " 'luxembourg': \"Western Europe\",\n",
    " 'macau': \"Asia\",\n",
    " 'malaysia': \"Asia\",\n",
    " 'mali' : \"Africa and Middle-East\",\n",
    " 'malta': \"Western Europe\",\n",
    " 'mexico': \"Central and South America\",\n",
    " 'monaco': \"Western Europe\",\n",
    " 'mongolia': \"Asia\",\n",
    " 'montenegro' : \"Eastern Europe and Russia\",\n",
    " 'morocco' : \"Africa and Middle-East\",\n",
    " 'nepal': \"Asia\",\n",
    " 'netherlands': \"Western Europe\",\n",
    " 'new zealand': \"North America and Australia\",\n",
    " 'nigeria' : \"Africa and Middle-East\",\n",
    " 'norway': \"Western Europe\",\n",
    " 'pakistan' : \"Africa and Middle-East\",\n",
    " 'palestinian territories' : \"Africa and Middle-East\",\n",
    " 'panama': \"Central and South America\",\n",
    " 'peru': \"Central and South America\",\n",
    " 'philippines': \"Asia\",\n",
    " 'poland' : \"Eastern Europe and Russia\",\n",
    " 'portugal': \"Western Europe\",\n",
    " 'puerto rico': \"Central and South America\",\n",
    " 'republic of macedonia' : \"Eastern Europe and Russia\",\n",
    " 'romania' : \"Eastern Europe and Russia\",\n",
    " 'russia' : \"Eastern Europe and Russia\",\n",
    " 'senegal' : \"Africa and Middle-East\",\n",
    " 'serbia' : \"Eastern Europe and Russia\",\n",
    " 'serbia and montenegro' : \"Eastern Europe and Russia\",\n",
    " 'singapore': \"Asia\",\n",
    " 'slovakia' : \"Eastern Europe and Russia\",\n",
    " 'slovenia' : \"Eastern Europe and Russia\",\n",
    " 'south africa' : \"Africa and Middle-East\",\n",
    " 'south korea': \"Asia\",\n",
    " 'spain': \"Western Europe\",\n",
    " 'sri lanka': \"Asia\",\n",
    " 'sweden': \"Western Europe\",\n",
    " 'switzerland': \"Western Europe\",\n",
    " 'taiwan': \"Asia\",\n",
    " 'thailand': \"Asia\",\n",
    " 'tunisia' : \"Africa and Middle-East\",\n",
    " 'turkey' : \"Africa and Middle-East\",\n",
    " 'ukraine' : \"Eastern Europe and Russia\",\n",
    " 'united arab emirates' : \"Africa and Middle-East\",\n",
    " 'united kingdom': \"Western Europe\",\n",
    " 'united states of america': \"North America and Australia\",\n",
    " 'uruguay': \"Central and South America\",\n",
    " 'uzbekistan' : \"Africa and Middle-East\",\n",
    " 'venezuela': \"Central and South America\",\n",
    " 'vietnam': \"Asia\",\n",
    " 'yugoslavia' : \"Eastern Europe and Russia\",\n",
    " 'zambia' : \"Africa and Middle-East\",\n",
    " 'zimbabwe' : \"Africa and Middle-East\"\n",
    "}"
   ]
  },
  {
   "cell_type": "markdown",
   "id": "772e17e2",
   "metadata": {},
   "source": [
    "## Actors\n",
    "\n",
    "For the actors, we thought about the following features:\n",
    "- #number of actors in the top 5% (or 1% ?)\n",
    "- #number of actors\n",
    "- mean actor age\n",
    "- gender balance"
   ]
  },
  {
   "cell_type": "code",
   "execution_count": 17,
   "id": "765e2e52",
   "metadata": {},
   "outputs": [],
   "source": [
    "actor_movie_count = appears_in_df.groupby(\"actor_id\")[\"movie_id\"].count().values\n",
    "threshold = np.percentile(actor_movie_count,95)\n",
    "is_actor_above_threshold = appears_in_df.groupby(\"actor_id\")[\"movie_id\"].count().sort_index() >= threshold\n",
    "top_k_actors = actor_df[is_actor_above_threshold.values]"
   ]
  },
  {
   "cell_type": "code",
   "execution_count": 41,
   "id": "4ad2bbfe",
   "metadata": {},
   "outputs": [
    {
     "data": {
      "text/plain": [
       "<AxesSubplot:ylabel='Count'>"
      ]
     },
     "execution_count": 41,
     "metadata": {},
     "output_type": "execute_result"
    },
    {
     "data": {
      "image/png": "[encoded data removed]",
      "text/plain": [
       "<Figure size 600x600 with 1 Axes>"
      ]
     },
     "metadata": {},
     "output_type": "display_data"
    }
   ],
   "source": [
    "fig, ax = plt.subplots(figsize=(6,6))\n",
    "ax.set_yscale(\"log\")\n",
    "ax.set_xscale(\"log\")\n",
    "sns.histplot(appears_in_df.groupby(\"actor_id\")[\"movie_id\"].count().values,ax=ax)"
   ]
  },
  {
   "cell_type": "code",
   "execution_count": null,
   "id": "77c7ad7d",
   "metadata": {},
   "outputs": [],
   "source": []
  }
 ],
 "metadata": {
  "kernelspec": {
   "display_name": "Python 3 (ipykernel)",
   "language": "python",
   "name": "python3"
  },
  "language_info": {
   "codemirror_mode": {
    "name": "ipython",
    "version": 3
   },
   "file_extension": ".py",
   "mimetype": "text/x-python",
   "name": "python",
   "nbconvert_exporter": "python",
   "pygments_lexer": "ipython3",
   "version": "3.10.4"
  }
 },
 "nbformat": 4,
 "nbformat_minor": 5
}
