{
 "cells": [
  {
   "cell_type": "markdown",
   "id": "39364ba8-bfcb-4c86-ae67-c9c88c0a974f",
   "metadata": {},
   "source": [
    "## Packages"
   ]
  },
  {
   "cell_type": "code",
   "execution_count": 1,
   "id": "352a417b-b7a8-420a-879f-462f921a236b",
   "metadata": {},
   "outputs": [],
   "source": [
    "import pandas as pd\n",
    "import pickle as pkl\n",
    "import numpy as np\n",
    "import seaborn as sns\n",
    "import matplotlib.pyplot as plt\n",
    "import statsmodels.api as sm\n",
    "\n",
    "SUCCESS_THRESHOLD = 7.5"
   ]
  },
  {
   "cell_type": "markdown",
   "id": "6b0235b2-136a-41a3-aa6e-bb79ce77c965",
   "metadata": {},
   "source": [
    "## Load Data"
   ]
  },
  {
   "cell_type": "code",
   "execution_count": 2,
   "id": "59eb8c92-38f4-49da-b518-79f1afb0e2df",
   "metadata": {},
   "outputs": [],
   "source": [
    "country_df = pd.read_pickle(\"../../data/post_processing//country_df.pkl\")\n",
    "comes_from_df = pd.read_pickle(\"../../data/post_processing/comes_from_df.pkl\")\n",
    "genre_df = pd.read_pickle(\"../../data/post_processing/genre_df.pkl\")\n",
    "is_of_type_df = pd.read_pickle(\"../../data/post_processing/is_of_type_df.pkl\")\n",
    "language_df = pd.read_pickle(\"../../data/post_processing/language_df.pkl\")\n",
    "spoken_languages_df = pd.read_pickle(\"../../data/post_processing/spoken_languages_df.pkl\")\n",
    "character_df = pd.read_pickle(\"../../data/post_processing/character_df.pkl\")\n",
    "actor_df = pd.read_pickle(\"../../data/post_processing/actor_df.pkl\")\n",
    "movie_df = pd.read_pickle(\"../../data/post_processing/movie_df.pkl\")\n",
    "belongs_to_df = pd.read_pickle(\"../../data/post_processing/belongs_to_df.pkl\")\n",
    "play_df = pd.read_pickle(\"../../data/post_processing/play_df.pkl\")\n",
    "appears_in_df = pd.read_pickle(\"../../data/post_processing/appears_in_df.pkl\")\n",
    "wikipedia_imdb_mapping_table = pd.read_pickle(\"../../data/generated/wikipedia_imdb_mapping_df.pkl\")\n",
    "is_directed_by_df = pd.read_pickle(\"../../data/post_processing/is_directed_by_df.pkl\")\n",
    "director_df = pd.read_pickle(\"../../data/post_processing/director_df.pkl\")"
   ]
  },
  {
   "cell_type": "markdown",
   "id": "eac8f7c7-6484-43b8-9be1-4b60cc49938b",
   "metadata": {},
   "source": [
    "## KM analysis for Directors"
   ]
  },
  {
   "cell_type": "code",
   "execution_count": 3,
   "id": "187dff7b-6316-4cfd-82c7-3c3f4f1b2964",
   "metadata": {},
   "outputs": [
    {
     "data": {
      "text/html": [
       "<div>\n",
       "<style scoped>\n",
       "    .dataframe tbody tr th:only-of-type {\n",
       "        vertical-align: middle;\n",
       "    }\n",
       "\n",
       "    .dataframe tbody tr th {\n",
       "        vertical-align: top;\n",
       "    }\n",
       "\n",
       "    .dataframe thead th {\n",
       "        text-align: right;\n",
       "    }\n",
       "</style>\n",
       "<table border=\"1\" class=\"dataframe\">\n",
       "  <thead>\n",
       "    <tr style=\"text-align: right;\">\n",
       "      <th></th>\n",
       "      <th>director_id</th>\n",
       "      <th>birth_year</th>\n",
       "      <th>death_year</th>\n",
       "      <th>average_rating</th>\n",
       "      <th>release_year</th>\n",
       "      <th>director_age</th>\n",
       "      <th>success</th>\n",
       "    </tr>\n",
       "  </thead>\n",
       "  <tbody>\n",
       "    <tr>\n",
       "      <th>0</th>\n",
       "      <td>nm0000005</td>\n",
       "      <td>1918</td>\n",
       "      <td>2007</td>\n",
       "      <td>7.7</td>\n",
       "      <td>1955</td>\n",
       "      <td>37</td>\n",
       "      <td>1</td>\n",
       "    </tr>\n",
       "    <tr>\n",
       "      <th>1</th>\n",
       "      <td>nm0000005</td>\n",
       "      <td>1918</td>\n",
       "      <td>2007</td>\n",
       "      <td>7.2</td>\n",
       "      <td>1950</td>\n",
       "      <td>32</td>\n",
       "      <td>0</td>\n",
       "    </tr>\n",
       "    <tr>\n",
       "      <th>2</th>\n",
       "      <td>nm0000005</td>\n",
       "      <td>1918</td>\n",
       "      <td>2007</td>\n",
       "      <td>7.1</td>\n",
       "      <td>1960</td>\n",
       "      <td>42</td>\n",
       "      <td>0</td>\n",
       "    </tr>\n",
       "    <tr>\n",
       "      <th>3</th>\n",
       "      <td>nm0000005</td>\n",
       "      <td>1918</td>\n",
       "      <td>2007</td>\n",
       "      <td>7.6</td>\n",
       "      <td>1982</td>\n",
       "      <td>64</td>\n",
       "      <td>1</td>\n",
       "    </tr>\n",
       "    <tr>\n",
       "      <th>4</th>\n",
       "      <td>nm0000005</td>\n",
       "      <td>1918</td>\n",
       "      <td>2007</td>\n",
       "      <td>6.4</td>\n",
       "      <td>1948</td>\n",
       "      <td>30</td>\n",
       "      <td>0</td>\n",
       "    </tr>\n",
       "  </tbody>\n",
       "</table>\n",
       "</div>"
      ],
      "text/plain": [
       "  director_id  birth_year  death_year  average_rating  release_year  \\\n",
       "0   nm0000005        1918        2007             7.7          1955   \n",
       "1   nm0000005        1918        2007             7.2          1950   \n",
       "2   nm0000005        1918        2007             7.1          1960   \n",
       "3   nm0000005        1918        2007             7.6          1982   \n",
       "4   nm0000005        1918        2007             6.4          1948   \n",
       "\n",
       "   director_age  success  \n",
       "0            37        1  \n",
       "1            32        0  \n",
       "2            42        0  \n",
       "3            64        1  \n",
       "4            30        0  "
      ]
     },
     "execution_count": 3,
     "metadata": {},
     "output_type": "execute_result"
    }
   ],
   "source": [
    "movie_director = pd.merge(pd.merge(director_df, is_directed_by_df, on='director_id'), movie_df, on='movie_id')[['director_id', 'birth_year', 'death_year', 'release_date', 'average_rating']]\n",
    "movie_director.dropna(inplace=True)\n",
    "\n",
    "movie_director['release_year'] = movie_director['release_date'].dt.year\n",
    "movie_director.drop(['release_date'], axis=1, inplace=True)\n",
    "\n",
    "movie_director['director_age'] = (movie_director['release_year'] - movie_director['birth_year'])\n",
    "movie_director = movie_director[movie_director['director_age'] > 18]\n",
    "\n",
    "# a movie is a success if rating higher than threshold and release before director's death\n",
    "movie_director['success'] = np.where((movie_director.average_rating > SUCCESS_THRESHOLD) & (movie_director.release_year < movie_director.death_year),1,0)\n",
    "\n",
    "movie_director.head()"
   ]
  },
  {
   "cell_type": "code",
   "execution_count": 4,
   "id": "897436c8-81a9-4b81-a8fc-4314375d0216",
   "metadata": {},
   "outputs": [
    {
     "data": {
      "text/html": [
       "<div>\n",
       "<style scoped>\n",
       "    .dataframe tbody tr th:only-of-type {\n",
       "        vertical-align: middle;\n",
       "    }\n",
       "\n",
       "    .dataframe tbody tr th {\n",
       "        vertical-align: top;\n",
       "    }\n",
       "\n",
       "    .dataframe thead th {\n",
       "        text-align: right;\n",
       "    }\n",
       "</style>\n",
       "<table border=\"1\" class=\"dataframe\">\n",
       "  <thead>\n",
       "    <tr style=\"text-align: right;\">\n",
       "      <th></th>\n",
       "      <th>success</th>\n",
       "      <th>success_age</th>\n",
       "    </tr>\n",
       "  </thead>\n",
       "  <tbody>\n",
       "    <tr>\n",
       "      <th>nm0000005</th>\n",
       "      <td>1</td>\n",
       "      <td>37</td>\n",
       "    </tr>\n",
       "    <tr>\n",
       "      <th>nm0000008</th>\n",
       "      <td>0</td>\n",
       "      <td>37</td>\n",
       "    </tr>\n",
       "    <tr>\n",
       "      <th>nm0000009</th>\n",
       "      <td>0</td>\n",
       "      <td>42</td>\n",
       "    </tr>\n",
       "    <tr>\n",
       "      <th>nm0000018</th>\n",
       "      <td>0</td>\n",
       "      <td>59</td>\n",
       "    </tr>\n",
       "    <tr>\n",
       "      <th>nm0000019</th>\n",
       "      <td>1</td>\n",
       "      <td>33</td>\n",
       "    </tr>\n",
       "  </tbody>\n",
       "</table>\n",
       "</div>"
      ],
      "text/plain": [
       "           success  success_age\n",
       "nm0000005        1           37\n",
       "nm0000008        0           37\n",
       "nm0000009        0           42\n",
       "nm0000018        0           59\n",
       "nm0000019        1           33"
      ]
     },
     "execution_count": 4,
     "metadata": {},
     "output_type": "execute_result"
    }
   ],
   "source": [
    "directors = {}\n",
    "for director, group in movie_director.groupby(['director_id', 'success']):        \n",
    "    if director[1] == 1:\n",
    "        directors[director[0]] = [1, group[\"director_age\"].min()]\n",
    "    else:\n",
    "        if director[0] in directors:\n",
    "            continue\n",
    "        else:\n",
    "            directors[director[0]] = [0, group[\"director_age\"].max()]\n",
    "director_km = pd.DataFrame(directors).transpose()\n",
    "director_km.rename(columns={director_km.columns[0]: 'success', director_km.columns[1]: 'success_age'}, inplace=True)\n",
    "director_km.head()"
   ]
  },
  {
   "cell_type": "code",
   "execution_count": 5,
   "id": "a0ee5dd9-934d-4047-a347-796fda6c731d",
   "metadata": {},
   "outputs": [],
   "source": [
    "director_sf = sm.SurvfuncRight(director_km[\"success_age\"], director_km[\"success\"])"
   ]
  },
  {
   "cell_type": "code",
   "execution_count": 7,
   "id": "e6a08e64-c4ae-4183-871a-ec731152251d",
   "metadata": {},
   "outputs": [
    {
     "data": {
      "image/png": "[encoded data removed]",
      "text/plain": [
       "<Figure size 640x480 with 1 Axes>"
      ]
     },
     "metadata": {},
     "output_type": "display_data"
    }
   ],
   "source": [
    "fig = director_sf.plot()\n",
    "ax = fig.get_axes()[0]\n",
    "pt = ax.get_lines()[1]\n",
    "pt.set_visible(False)\n",
    "plt.title(\"Success of directors through a survival analysis\")\n",
    "plt.xlabel(\"Age of directors\")\n",
    "plt.ylabel(\"Proportion of unsuccessful directors\")\n",
    "plt.show()"
   ]
  }
 ],
 "metadata": {
  "kernelspec": {
   "display_name": "Python 3 (ipykernel)",
   "language": "python",
   "name": "python3"
  },
  "language_info": {
   "codemirror_mode": {
    "name": "ipython",
    "version": 3
   },
   "file_extension": ".py",
   "mimetype": "text/x-python",
   "name": "python",
   "nbconvert_exporter": "python",
   "pygments_lexer": "ipython3",
   "version": "3.8.8"
  }
 },
 "nbformat": 4,
 "nbformat_minor": 5
}
