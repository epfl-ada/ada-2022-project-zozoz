{
 "cells": [
  {
   "cell_type": "markdown",
   "id": "0f18af69",
   "metadata": {},
   "source": [
    "# Plot Processing\n",
    "\n",
    "The plot of the movie is certainly a key element in its final quality. Thus we will try to comes with summary features.\n",
    "\n",
    "We will base our analysis on the BOW matrix, which is constructed in the following way:\n",
    "- Preprocess plots: tokenization + casefolding + stopwords and Named Entity removal + lemmatization\n",
    "- BOW creation\n",
    "- BOW matrix creation\n",
    "\n",
    "Then we will extract the following features:\n",
    "- Odds ratio computation in order to capture terms that are more frequent in popular (high ratio) or unpopular (low ratio) movies.\n",
    "- LDA topic extraction, to add a second layer of potential topic but more coarsed and dataset tailored."
   ]
  },
  {
   "cell_type": "markdown",
   "id": "5655b01b",
   "metadata": {},
   "source": [
    "## Packages"
   ]
  },
  {
   "cell_type": "code",
   "execution_count": 6,
   "id": "2dcabd84",
   "metadata": {},
   "outputs": [],
   "source": [
    "# Global packages\n",
    "import pandas as pd\n",
    "import numpy as np\n",
    "import matplotlib.pyplot as plt\n",
    "import seaborn as sns\n",
    "import pickle\n",
    "# ML models\n",
    "from sklearn.decomposition import LatentDirichletAllocation\n",
    "# Sparse matrix\n",
    "from scipy.sparse import csr_matrix\n",
    "from scipy.sparse import save_npz\n",
    "from scipy.sparse import load_npz"
   ]
  },
  {
   "cell_type": "markdown",
   "id": "9616c931",
   "metadata": {},
   "source": [
    "## Load Global data"
   ]
  },
  {
   "cell_type": "code",
   "execution_count": 19,
   "id": "9e06128a",
   "metadata": {},
   "outputs": [],
   "source": [
    "movie_df = pd.read_pickle(\"../../data/post_processing/movie_df.pkl\")\n",
    "is_of_type_df = pd.read_pickle(\"../../data/post_processing/is_of_type_df.pkl\")"
   ]
  },
  {
   "cell_type": "markdown",
   "id": "9ccef0ef",
   "metadata": {},
   "source": [
    "## Load Locally\n",
    "\n",
    "The processing of the dataset takes some time. Thus you can load directly the following files that will save you the cost of the preprocessing.\n",
    "\n",
    "Once done you can directly jump to the Odds Ratio section."
   ]
  },
  {
   "cell_type": "code",
   "execution_count": 8,
   "id": "061320b0",
   "metadata": {},
   "outputs": [],
   "source": [
    "# Load data\n",
    "movies_with_plot_df = pd.read_pickle(\"../../data/post_processing/plot_df.pkl\")\n",
    "BOW_matrix = load_npz(\"../../data/post_processing/BOW_matrix.npz\")\n",
    "with open(\"../../data/post_processing/BOW_mapping.pkl\", 'rb') as handle:\n",
    "    BOW_dict = pickle.load(handle)\n",
    "reversed_BOW_dict = {v:k for k,v in BOW_dict.items()}"
   ]
  },
  {
   "cell_type": "markdown",
   "id": "5bdec2f8",
   "metadata": {},
   "source": [
    "## Full Pipeline\n",
    "### Plot Preprocessing"
   ]
  },
  {
   "cell_type": "code",
   "execution_count": 4,
   "id": "d8505885",
   "metadata": {},
   "outputs": [
    {
     "name": "stderr",
     "output_type": "stream",
     "text": [
      "[nltk_data] Downloading package stopwords to\n",
      "[nltk_data]     C:\\Users\\jerem\\AppData\\Roaming\\nltk_data...\n",
      "[nltk_data]   Package stopwords is already up-to-date!\n"
     ]
    }
   ],
   "source": [
    "# imports \n",
    "import nltk\n",
    "from nltk.corpus import stopwords\n",
    "from nltk.tokenize import RegexpTokenizer\n",
    "from nltk.stem import WordNetLemmatizer\n",
    "nltk.download(\"stopwords\")\n",
    "tokenizer = RegexpTokenizer(r'\\w+')\n",
    "lemmatizer = WordNetLemmatizer()\n",
    "stop_words = set(stopwords.words(\"english\"))"
   ]
  },
  {
   "cell_type": "code",
   "execution_count": 5,
   "id": "4b5510b1",
   "metadata": {},
   "outputs": [
    {
     "data": {
      "text/html": [
       "<div>\n",
       "<style scoped>\n",
       "    .dataframe tbody tr th:only-of-type {\n",
       "        vertical-align: middle;\n",
       "    }\n",
       "\n",
       "    .dataframe tbody tr th {\n",
       "        vertical-align: top;\n",
       "    }\n",
       "\n",
       "    .dataframe thead th {\n",
       "        text-align: right;\n",
       "    }\n",
       "</style>\n",
       "<table border=\"1\" class=\"dataframe\">\n",
       "  <thead>\n",
       "    <tr style=\"text-align: right;\">\n",
       "      <th></th>\n",
       "      <th>plot</th>\n",
       "      <th>tokenized</th>\n",
       "    </tr>\n",
       "    <tr>\n",
       "      <th>movie_id</th>\n",
       "      <th></th>\n",
       "      <th></th>\n",
       "    </tr>\n",
       "  </thead>\n",
       "  <tbody>\n",
       "    <tr>\n",
       "      <th>975900</th>\n",
       "      <td>Set in the second half of the 22nd century, th...</td>\n",
       "      <td>[Set, in, the, second, half, of, the, 22nd, ce...</td>\n",
       "    </tr>\n",
       "    <tr>\n",
       "      <th>261236</th>\n",
       "      <td>Eva, an upper class housewife, becomes frustra...</td>\n",
       "      <td>[Eva, an, upper, class, housewife, becomes, fr...</td>\n",
       "    </tr>\n",
       "    <tr>\n",
       "      <th>171005</th>\n",
       "      <td>{{Plot|dateAct 1Act 2Act 3Act 4Act 5 Finally n...</td>\n",
       "      <td>[Plot, dateAct, 1Act, 2Act, 3Act, 4Act, 5, Fin...</td>\n",
       "    </tr>\n",
       "  </tbody>\n",
       "</table>\n",
       "</div>"
      ],
      "text/plain": [
       "                                                       plot  \\\n",
       "movie_id                                                      \n",
       "975900    Set in the second half of the 22nd century, th...   \n",
       "261236    Eva, an upper class housewife, becomes frustra...   \n",
       "171005    {{Plot|dateAct 1Act 2Act 3Act 4Act 5 Finally n...   \n",
       "\n",
       "                                                  tokenized  \n",
       "movie_id                                                     \n",
       "975900    [Set, in, the, second, half, of, the, 22nd, ce...  \n",
       "261236    [Eva, an, upper, class, housewife, becomes, fr...  \n",
       "171005    [Plot, dateAct, 1Act, 2Act, 3Act, 4Act, 5, Fin...  "
      ]
     },
     "execution_count": 5,
     "metadata": {},
     "output_type": "execute_result"
    }
   ],
   "source": [
    "# Tokenize\n",
    "movies_with_plot_df = pd.DataFrame(movie_df[~movie_df[\"plot\"].isna()][\"plot\"])\n",
    "movies_with_plot_df[\"tokenized\"] = movies_with_plot_df[\"plot\"].apply(tokenizer.tokenize)\n",
    "movies_with_plot_df.head(3)"
   ]
  },
  {
   "cell_type": "code",
   "execution_count": null,
   "id": "d79a4057",
   "metadata": {},
   "outputs": [],
   "source": [
    "# POS + NER\n",
    "def extract_ne(token_list: list, entity_list=[\"PERSON\"]) -> set:\n",
    "    \"\"\"\n",
    "    \"\"\"\n",
    "    entity_set = set(entity_list)\n",
    "    tags = nltk.pos_tag(token_list)\n",
    "    tree = nltk.ne_chunk(tags, binary=False)\n",
    "    return set(\n",
    "        \" \".join(i[0] for i in t)\n",
    "        for t in tree\n",
    "        if hasattr(t, \"label\") and t.label() in entity_set\n",
    "     )\n",
    "movies_with_plot_df[\"NER\"] = movies_with_plot_df[\"tokenized\"].apply(extract_ne)"
   ]
  },
  {
   "cell_type": "code",
   "execution_count": null,
   "id": "e5867540",
   "metadata": {},
   "outputs": [],
   "source": [
    "# Add the NER to the stop words because they carry too noisy information \n",
    "for row_id, row_data in movies_with_plot_df[\"NER\"].apply(lambda l: set(l)).iteritems():\n",
    "    stop_words = stop_words.union(row_data)"
   ]
  },
  {
   "cell_type": "code",
   "execution_count": null,
   "id": "f109f154",
   "metadata": {},
   "outputs": [],
   "source": [
    "# Stopwords and Casefolding\n",
    "movies_with_plot_df[\"no_stopwords\"] = movies_with_plot_df[\"tokenized\"].apply(\n",
    "    lambda l: [s.casefold() for s in l if s.casefold() not in stop_words and s not in stop_words])\n",
    "movies_with_plot_df.head(3)"
   ]
  },
  {
   "cell_type": "code",
   "execution_count": null,
   "id": "06c62a10",
   "metadata": {},
   "outputs": [],
   "source": [
    "# Lemmatize\n",
    "movies_with_plot_df[\"lemmatized\"] = movies_with_plot_df[\"no_stopwords\"].apply(\n",
    "    lambda l: [lemmatizer.lemmatize(s) for s in l])\n",
    "movies_with_plot_df.head(3)"
   ]
  },
  {
   "cell_type": "markdown",
   "id": "b63a7115",
   "metadata": {},
   "source": [
    "### BOW creation"
   ]
  },
  {
   "cell_type": "code",
   "execution_count": null,
   "id": "adb6e705",
   "metadata": {},
   "outputs": [],
   "source": [
    "BOW = set()\n",
    "for row_id, row_data in movies_with_plot_df[\"lemmatized\"].apply(lambda l: set(l)).iteritems():\n",
    "    BOW = BOW.union(row_data)"
   ]
  },
  {
   "cell_type": "markdown",
   "id": "23d0bb53",
   "metadata": {},
   "source": [
    "### BOW Matrix"
   ]
  },
  {
   "cell_type": "code",
   "execution_count": null,
   "id": "6e73229c",
   "metadata": {},
   "outputs": [],
   "source": [
    "def BOW_mapping(words_list: list, BOW_dict: dict) -> dict:\n",
    "    \"\"\"\n",
    "    Map the BOW for each plot to its encoding in row id and number of occurences.\n",
    "    \n",
    "    :param words_list: List of the words contained in the plot (BOW).\n",
    "    :param BOW_dict: Dictionnary containing the mapping between words and ids in the BOW matrix.\n",
    "    \n",
    "    :return: The dictionnary with the ids of each words and their number of occurences.\n",
    "    \n",
    "    \"\"\"\n",
    "    movie_mapping = dict()\n",
    "    for w in words_list:\n",
    "        word_id = BOW_dict[w]\n",
    "        if word_id not in movie_mapping:\n",
    "            movie_mapping[word_id] = 1\n",
    "        else:\n",
    "            movie_mapping[word_id] += 1 \n",
    "    return movie_mapping"
   ]
  },
  {
   "cell_type": "code",
   "execution_count": null,
   "id": "8f63cc14",
   "metadata": {},
   "outputs": [],
   "source": [
    "BOW_dict = dict(zip(BOW,range(len(BOW))))\n",
    "reversed_BOW_dict = {v:k for k,v in BOW_dict.items()}"
   ]
  },
  {
   "cell_type": "code",
   "execution_count": null,
   "id": "dda5e944",
   "metadata": {},
   "outputs": [],
   "source": [
    "movies_with_plot_df[\"encoding\"] = movies_with_plot_df[\"lemmatized\"].apply(\n",
    "    lambda l: BOW_mapping(l,BOW_dict))\n",
    "movies_with_plot_df.head(3)"
   ]
  },
  {
   "cell_type": "code",
   "execution_count": null,
   "id": "57e67b3c",
   "metadata": {},
   "outputs": [],
   "source": [
    "# Create sparse matrix representation\n",
    "number_of_words_per_movie = movies_with_plot_df[\"encoding\"].apply(len).reset_index()[\"encoding\"].values\n",
    "column_ids = np.array([i for i in range(len(number_of_words_per_movie)) \n",
    "                       for j in range(number_of_words_per_movie[i])])\n",
    "row_ids = movies_with_plot_df[\"encoding\"].apply(lambda d: list(d.keys()))\n",
    "row_ids = row_ids.reset_index()[\"encoding\"].agg(np.concatenate)\n",
    "data = movies_with_plot_df[\"encoding\"].apply(lambda d: list(d.values()))\n",
    "data = data.reset_index()[\"encoding\"].agg(np.concatenate)\n",
    "BOW_matrix = csr_matrix((data, (column_ids,row_ids)))"
   ]
  },
  {
   "cell_type": "code",
   "execution_count": null,
   "id": "172aaaba",
   "metadata": {},
   "outputs": [],
   "source": [
    "# Save data\n",
    "movies_with_plot_df.to_pickle(\"../../data/post_processing/plot_df.pkl\")\n",
    "save_npz(\"../../data/post_processing/BOW_matrix.npz\",BOW_matrix)\n",
    "with open(\"../../data/post_processing/BOW_mapping.pkl\", 'wb') as handle:\n",
    "    pickle.dump(BOW_dict, handle, protocol=pickle.HIGHEST_PROTOCOL)"
   ]
  },
  {
   "cell_type": "markdown",
   "id": "4aa2e018",
   "metadata": {},
   "source": [
    "## Odds ratio"
   ]
  },
  {
   "cell_type": "code",
   "execution_count": 9,
   "id": "326410e3",
   "metadata": {},
   "outputs": [],
   "source": [
    "EPSILON = 1e-4 # Set to 1e-4 empirically, but idea is to have at least one occurence in all corpus\n",
    "SUCCESS_THRESHOLD = 7.5\n",
    "\n",
    "def compute_term_frequency(matrix: csr_matrix, epsilon=EPSILON, doc_freq=False, hard_clip=False):\n",
    "    \"\"\"\n",
    "    Compute the term frequency of words in the given BOW matrix.\n",
    "    \n",
    "    :param matrix: Scipy sparse BOW matrix.\n",
    "    :param epsilon: Smoothing parameter.\n",
    "    :param doc_freq: Indicator if the term frequency should be multiplied by the doc_freq.\n",
    "                     It gives more weights to terms that appear in many documents.\n",
    "    :param hard_clip: Indicator if the frequency in a term should be capped to 1.\n",
    "                     Similar to doc_freq, it avoid bias toward docs with lot of repetitions.\n",
    "    \n",
    "    :return: Numpy array containing the smoothed term frequency.\n",
    "    \"\"\"\n",
    "    tf = np.array(matrix.sum(axis=0).tolist()[0])\n",
    "    tf = (tf+EPSILON)/tf.sum()\n",
    "    if hard_clip:\n",
    "        capped_occurence = matrix.copy()\n",
    "        capped_occurence[capped_occurence>1] = 1\n",
    "        tf = np.array(capped_occurence.sum(axis=0).tolist()[0])\n",
    "        tf = (tf+EPSILON)/tf.sum()\n",
    "        return tf\n",
    "    elif doc_freq:\n",
    "        capped_occurence = matrix.copy()\n",
    "        capped_occurence[capped_occurence>1] = 1\n",
    "        doc_number = epsilon+np.array(capped_occurence.sum(axis=0).tolist()[0])\n",
    "        return doc_number*tf\n",
    "    else:\n",
    "        return tf\n",
    "    \n",
    "def get_top_k_terms(tf_popular: np.array, tf_unpopular: np.array,\n",
    "                    reversed_BOW_dictionnary: dict, k=30,\n",
    "                    bad_movie=False):\n",
    "    \"\"\"\n",
    "    Print the terms with the highest or lowest odd ratio in the data.\n",
    "    \n",
    "    :param tf_popular: Term frequency for popular movies.\n",
    "    :param tf_unpopular: Term frequency for unpopular movies.\n",
    "    :param reversed_BOW_dictionnary: Dictionnary of term index with word string.\n",
    "    :param k: Number of terms to retrieve.\n",
    "    :param bad_movie: Indicator if should return the lowest log odds, so best term for bad movies.\n",
    "    \n",
    "    \"\"\"\n",
    "    # Log odds\n",
    "    log_odds = np.log(tf_popular/tf_unpopular)\n",
    "    if bad_movie:\n",
    "        log_odds = -log_odds\n",
    "    top_k_ids = np.argpartition(log_odds, -k)[-k:]\n",
    "    top_log_odds = sorted([(idx,log_odds[idx]) for idx in top_k_ids],key=lambda l: -l[1])\n",
    "    print(f\"The top {k} terms with the highest log odds are:\")\n",
    "    for idx, value in top_log_odds:\n",
    "        print(f\"\\t-{reversed_BOW_dict[idx]}: {value}\")"
   ]
  },
  {
   "cell_type": "code",
   "execution_count": 10,
   "id": "ecbbbe38",
   "metadata": {},
   "outputs": [],
   "source": [
    "popular_row_ids = (movies_with_plot_df.merge(movie_df[\"average_rating\"],how=\"left\",on=\"movie_id\"\n",
    "                         ).reset_index()[\"average_rating\"] > SUCCESS_THRESHOLD).values\n",
    "unpopular_row_ids = ~popular_row_ids"
   ]
  },
  {
   "cell_type": "code",
   "execution_count": 11,
   "id": "db63568c",
   "metadata": {},
   "outputs": [],
   "source": [
    "# An alternative is to do an harder filtering on the movies we want to consider rather than simple\n",
    "# one sided threshold.\n",
    "popular_row_ids = (movies_with_plot_df.merge(movie_df[\"average_rating\"],how=\"left\",on=\"movie_id\"\n",
    "                         ).reset_index()[\"average_rating\"] > 8.5).values\n",
    "unpopular_row_ids = (movies_with_plot_df.merge(movie_df[\"average_rating\"],how=\"left\",on=\"movie_id\"\n",
    "                         ).reset_index()[\"average_rating\"] < 4.5).values"
   ]
  },
  {
   "cell_type": "code",
   "execution_count": 12,
   "id": "5d50d4d2",
   "metadata": {},
   "outputs": [],
   "source": [
    "# Term frequency for popular movies with smoothing term\n",
    "tf_popular_movies = compute_term_frequency(BOW_matrix[popular_row_ids,:],\n",
    "                                           doc_freq=False,hard_clip=False)\n",
    "# Term frequecy for unpopular movies with smoothing term\n",
    "tf_unpopular_movies = compute_term_frequency(BOW_matrix[unpopular_row_ids,:],\n",
    "                                             doc_freq=False,hard_clip=False)"
   ]
  },
  {
   "cell_type": "code",
   "execution_count": 13,
   "id": "4cdce4c5",
   "metadata": {},
   "outputs": [
    {
     "name": "stdout",
     "output_type": "stream",
     "text": [
      "The top 30 terms with the highest log odds are:\n",
      "\t-alien: 12.129503607433069\n",
      "\t-scientist: 12.007336038430578\n",
      "\t-monster: 11.787013502711522\n",
      "\t-strange: 11.772828877779922\n",
      "\t-zombie: 11.456159534561106\n",
      "\t-vampire: 11.330996522325917\n",
      "\t-base: 11.308523691726355\n",
      "\t-wood: 11.29709500896437\n",
      "\t-shark: 11.225636130124736\n",
      "\t-unfortunately: 11.213213625558257\n",
      "\t-animal: 11.200634859174164\n",
      "\t-experiment: 11.148675187753913\n",
      "\t-lab: 11.121646551895624\n",
      "\t-box: 11.121646551895624\n",
      "\t-stab: 11.079682411504924\n",
      "\t-underground: 11.05069491664842\n",
      "\t-talking: 11.05069491664842\n",
      "\t-mask: 11.035879852812323\n",
      "\t-expedition: 11.02084199806195\n",
      "\t-jungle: 10.925531969772537\n",
      "\t-california: 10.908724879704694\n",
      "\t-treasure: 10.891630475568022\n",
      "\t-robot: 10.874238763104135\n",
      "\t-dad: 10.874238763104135\n",
      "\t-drink: 10.856539217333\n",
      "\t-investigation: 10.838520744297794\n",
      "\t-castle: 10.838520744297794\n",
      "\t-sequence: 10.801479541227952\n",
      "\t-sheriff: 10.801479541227952\n",
      "\t-helicopter: 10.78243138254166\n"
     ]
    }
   ],
   "source": [
    "get_top_k_terms(tf_popular_movies,tf_unpopular_movies,reversed_BOW_dict,k=30,bad_movie=True)"
   ]
  },
  {
   "cell_type": "code",
   "execution_count": 14,
   "id": "0e6ca6ba",
   "metadata": {},
   "outputs": [
    {
     "data": {
      "image/png": "[encoded data removed]",
      "text/plain": [
       "<Figure size 600x600 with 1 Axes>"
      ]
     },
     "metadata": {},
     "output_type": "display_data"
    }
   ],
   "source": [
    "# Log odds\n",
    "log_odds = np.log(tf_popular_movies/tf_unpopular_movies)\n",
    "# Plot\n",
    "fig,ax = plt.subplots(figsize=(6,6))\n",
    "fig.suptitle(\"Plot of log odds of term frequency in popular and unpopular movies\")\n",
    "ax.set_xlabel(\"log_odds\")\n",
    "ax.set_yscale(\"log\")\n",
    "sns.histplot(log_odds,ax=ax);"
   ]
  },
  {
   "cell_type": "markdown",
   "id": "1550d287",
   "metadata": {},
   "source": [
    "## LDA\n",
    "\n",
    "We creates topic generation based on plots and try to see if the results could generate good features. The idea would be to have an addition to the genre of the movie, and maybe do interaction terms. The issue is that the preliminary results give topics that are too broad most of the times, but if we want to push the analysis, we can integrate them."
   ]
  },
  {
   "cell_type": "code",
   "execution_count": 15,
   "id": "78278ca6",
   "metadata": {},
   "outputs": [],
   "source": [
    "LDA = LatentDirichletAllocation(n_components=30)\n",
    "LDA_fit = LDA.fit(BOW_matrix);"
   ]
  },
  {
   "cell_type": "code",
   "execution_count": 39,
   "id": "74d06e41",
   "metadata": {
    "scrolled": true
   },
   "outputs": [
    {
     "name": "stdout",
     "output_type": "stream",
     "text": [
      "stage 709.2107436209355\n",
      "dance 738.845409989678\n",
      "love 740.1913723626755\n",
      "film 1082.4606292365074\n",
      "show 886.4065079430325\n",
      "new 763.2069604644043\n",
      "play 1139.6730194357435\n",
      "band 930.0858495217976\n",
      "music 1095.7106061280401\n",
      "song 1076.0842157874247\n",
      "--------\n",
      "day 1551.6515203813044\n",
      "make 1778.87011277304\n",
      "mr 1604.6757636879556\n",
      "friend 1894.9108453684737\n",
      "show 1807.6828547594607\n",
      "tell 1581.2979954589518\n",
      "go 2958.6107503380126\n",
      "one 1746.9092109952994\n",
      "back 1818.605346331763\n",
      "get 3882.857365545321\n",
      "--------\n",
      "car 3258.557269962315\n",
      "one 3332.5055081543164\n",
      "take 3375.8163106633433\n",
      "back 4307.961178104664\n",
      "find 6268.349691484994\n",
      "go 5532.006757792141\n",
      "tell 4872.836353633353\n",
      "see 4025.026644776206\n",
      "house 4683.112340808272\n",
      "get 3750.612209849839\n",
      "--------\n",
      "find 3841.2778433591134\n",
      "year 4080.0264254791077\n",
      "tell 4670.966864107527\n",
      "family 4382.35287775513\n",
      "friend 4218.532478829616\n",
      "home 4676.299308862989\n",
      "life 5834.211979105999\n",
      "father 5389.842034487537\n",
      "love 5112.602927773667\n",
      "mother 5400.205720982859\n",
      "--------\n",
      "\n",
      "\n",
      " name                      Brun bitter\n",
      "release_date      1988-01-01 00:00:00\n",
      "revenue                           NaN\n",
      "runtime                          83.0\n",
      "freebase_id                /m/0crgdbh\n",
      "plot                              NaN\n",
      "average_rating                    5.7\n",
      "num_votes                          40\n",
      "Name: 28463795, dtype: object\n",
      "\n",
      "\n",
      "        movie_id     genre_name\n",
      "2126   28463795          drama\n",
      "56576  28463795  crime fiction\n"
     ]
    }
   ],
   "source": [
    "words_nb = 10 # Number of words to be displayed per topic.\n",
    "topic_nb = 4 # Best topics we want to be displayed.\n",
    "test_movie_id = 1 # Id of the movies for which we want to see the LDA results.\n",
    "test_movie = BOW_matrix[test_movie_id,:].reshape(1,len(BOW_dict))\n",
    "top_topics = np.argpartition(LDA_fit.transform(test_movie).reshape(-1), -topic_nb)[-topic_nb:]\n",
    "for topic in top_topics:\n",
    "    top_words_ids = np.argpartition(LDA_fit.components_[topic,:], -words_nb)[-words_nb:]\n",
    "    for word_id in top_words_ids:\n",
    "        print(list(BOW_dict)[word_id], LDA_fit.components_[topic,word_id])\n",
    "    print(\"--------\")\n",
    "print(\"\\n\\n\",movie_df.loc[movie_df.index[test_movie_id]])\n",
    "print(\"\\n\\n\",is_of_type_df[is_of_type_df[\"movie_id\"] == movie_df.index[test_movie_id]])"
   ]
  },
  {
   "cell_type": "markdown",
   "id": "805113a0",
   "metadata": {},
   "source": [
    "---"
   ]
  }
 ],
 "metadata": {
  "kernelspec": {
   "display_name": "Python 3 (ipykernel)",
   "language": "python",
   "name": "python3"
  },
  "language_info": {
   "codemirror_mode": {
    "name": "ipython",
    "version": 3
   },
   "file_extension": ".py",
   "mimetype": "text/x-python",
   "name": "python",
   "nbconvert_exporter": "python",
   "pygments_lexer": "ipython3",
   "version": "3.10.4"
  }
 },
 "nbformat": 4,
 "nbformat_minor": 5
}
