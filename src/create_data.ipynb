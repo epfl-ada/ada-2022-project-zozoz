{
 "cells": [
  {
   "cell_type": "markdown",
   "metadata": {},
   "source": [
    "# Loading and Formating Data pipeline"
   ]
  },
  {
   "cell_type": "markdown",
   "metadata": {},
   "source": [
    "## Packages"
   ]
  },
  {
   "cell_type": "code",
   "execution_count": 1,
   "metadata": {},
   "outputs": [],
   "source": [
    "%load_ext autoreload\n",
    "%autoreload 2"
   ]
  },
  {
   "cell_type": "code",
   "execution_count": 2,
   "metadata": {},
   "outputs": [],
   "source": [
    "import pandas as pd\n",
    "import numpy as np\n",
    "from utils import data_load\n",
    "from dateutil.parser import parse as parse_date"
   ]
  },
  {
   "cell_type": "markdown",
   "metadata": {},
   "source": [
    "## Data Wrangling of CMU dataset"
   ]
  },
  {
   "cell_type": "markdown",
   "metadata": {},
   "source": [
    "### Raw Metadata Extraction\n",
    "\n",
    "We extract here into dataframe the raw information from the CMU dataset. Note that we are merging the plot, when available, directly in the raw movie dataframe."
   ]
  },
  {
   "cell_type": "code",
   "execution_count": 3,
   "metadata": {},
   "outputs": [],
   "source": [
    "raw_movie_df = data_load.get_raw_movie_dataframe(\"../data/MovieSummaries/movie.metadata.tsv\",\"../data/MovieSummaries/plot_summaries.txt\")\n",
    "raw_character_df = data_load.get_raw_character_dataframe(\"../data/MovieSummaries/character.metadata.tsv\")"
   ]
  },
  {
   "cell_type": "markdown",
   "metadata": {},
   "source": [
    "### Tables Creation\n",
    "\n",
    "We create now the different tables according to the ER diagram we have designed."
   ]
  },
  {
   "cell_type": "markdown",
   "metadata": {},
   "source": [
    "##### Country table and relation"
   ]
  },
  {
   "cell_type": "code",
   "execution_count": 4,
   "metadata": {},
   "outputs": [],
   "source": [
    "country_df, comes_from_df = data_load.create_entry_and_relation_table(raw_movie_df,\"countries\",\n",
    "                                                           \"country_name\",\"movie_id\")"
   ]
  },
  {
   "cell_type": "markdown",
   "metadata": {},
   "source": [
    "##### Genre table and relation"
   ]
  },
  {
   "cell_type": "code",
   "execution_count": 5,
   "metadata": {},
   "outputs": [],
   "source": [
    "genre_df, is_of_type_df = data_load.create_entry_and_relation_table(raw_movie_df,\"genres\",\n",
    "                                                           \"genre_name\",\"movie_id\")"
   ]
  },
  {
   "cell_type": "markdown",
   "metadata": {},
   "source": [
    "##### Language table and relation"
   ]
  },
  {
   "cell_type": "code",
   "execution_count": 6,
   "metadata": {},
   "outputs": [],
   "source": [
    "language_df, spoken_languages_df = data_load.create_entry_and_relation_table(raw_movie_df,\"languages\",\"language_name\",\n",
    "                                                                  \"movie_id\",filter_dict={\" language\":\"\"})"
   ]
  },
  {
   "cell_type": "markdown",
   "metadata": {},
   "source": [
    "##### Character table\n",
    "\n",
    "We remove characters with no Freebase_id because none of them has a name"
   ]
  },
  {
   "cell_type": "code",
   "execution_count": 7,
   "metadata": {},
   "outputs": [],
   "source": [
    "character_df = pd.DataFrame(raw_character_df[\"character_name\"][~raw_character_df.index.isna()])\n",
    "character_df = character_df[~character_df.index.duplicated()]\n",
    "character_df.index = character_df.index.rename(\"character_id\")"
   ]
  },
  {
   "cell_type": "markdown",
   "metadata": {},
   "source": [
    "##### Actor table\n",
    "\n",
    "We will not keep actors and actresses that have a nan id, that are filled with only nan values or duplicated entries in the dataset.\n",
    "\n",
    "One example of such duplicated entries is Clark Kent and Superman that are two different characters, thus there will be two rows in the original CMU character df, but they are played by the same actor."
   ]
  },
  {
   "cell_type": "code",
   "execution_count": 8,
   "metadata": {},
   "outputs": [],
   "source": [
    "actor_df = raw_character_df[[\"actor_name\",\"actor_gender\",\n",
    "                                \"actor_height\",\"actor_ethnicity\",\"actor_birth_date\",\n",
    "                                \"freebase_actor_id\"]].set_index(\"freebase_actor_id\")\n",
    "actor_table_columns_mapping = {\"actor_birth_date\":\"birth_date\",\"actor_gender\":\"gender\",\n",
    "                                \"actor_height\":\"height\",\"actor_ethnicity\":\"ethnicity\",\n",
    "                                \"actor_name\":\"name\",\"freebase_actor_id\":\"actor_id\"}\n",
    "actor_df = actor_df[~actor_df.index.isna()]\n",
    "actor_df = actor_df[~actor_df.index.duplicated()].rename(\n",
    "                columns=actor_table_columns_mapping)\n",
    "actor_df.index = actor_df.index.rename(\"actor_id\")\n",
    "actor_df = actor_df.dropna(how=\"all\")"
   ]
  },
  {
   "cell_type": "markdown",
   "metadata": {},
   "source": [
    "##### Movie table"
   ]
  },
  {
   "cell_type": "code",
   "execution_count": 9,
   "metadata": {},
   "outputs": [],
   "source": [
    "movie_df = raw_movie_df[[\"name\",\"release_date\",\"revenue\",\"runtime\",\"freebase_id\",\"plot\"]]\n",
    "movie_df.loc[movie_df[\"release_date\"] == \"1010-12-02\",\"release_date\"] = \"2010-12-02\"\n",
    "movie_df.index = raw_movie_df.index.rename(\"movie_id\")"
   ]
  },
  {
   "cell_type": "markdown",
   "metadata": {},
   "source": [
    "##### \"Belongs to\" table"
   ]
  },
  {
   "cell_type": "code",
   "execution_count": 10,
   "metadata": {},
   "outputs": [],
   "source": [
    "belongs_to_df = pd.DataFrame(\n",
    "    raw_character_df[\"wikipedia_movie_id\"][~raw_character_df.index.isna()])\n",
    "belongs_to_df = belongs_to_df.reset_index().drop_duplicates()\n",
    "# Convert back index to linear range\n",
    "belongs_to_df = belongs_to_df.reset_index()[[\"freebase_character_id\",\"wikipedia_movie_id\"]]\n",
    "belongs_to_table_columns_mapping = {\"freebase_character_id\":\"character_id\",\"wikipedia_movie_id\":\"movie_id\"}\n",
    "belongs_to_df = belongs_to_df.rename(columns=belongs_to_table_columns_mapping)"
   ]
  },
  {
   "cell_type": "markdown",
   "metadata": {},
   "source": [
    "##### \"Plays\" table"
   ]
  },
  {
   "cell_type": "code",
   "execution_count": 11,
   "metadata": {},
   "outputs": [],
   "source": [
    "play_df = pd.DataFrame(\n",
    "    raw_character_df[[\"freebase_actor_id\",\"freebase_map_id\"]][~raw_character_df.index.isna()])\n",
    "play_df = play_df.reset_index().drop_duplicates()\n",
    "# Convert back index to linear range\n",
    "play_df = play_df.reset_index()[[\"freebase_actor_id\",\"freebase_character_id\",\"freebase_map_id\"]]\n",
    "play_table_columns_mapping = {\"freebase_character_id\":\"character_id\",\n",
    "                                    \"freebase_actor_id\":\"actor_id\"}\n",
    "play_df = play_df.rename(columns=play_table_columns_mapping)"
   ]
  },
  {
   "cell_type": "markdown",
   "metadata": {},
   "source": [
    "##### \"Appears in\" table\n",
    "\n",
    "Remove duplicates that can appear in the dataset (same actor for clark kent and superman)"
   ]
  },
  {
   "cell_type": "code",
   "execution_count": 12,
   "metadata": {},
   "outputs": [],
   "source": [
    "appears_in_df = raw_character_df.reset_index()[[\"freebase_actor_id\",\n",
    "    \"wikipedia_movie_id\",\"actor_age_at_release_date\"]].drop_duplicates()\n",
    "# Convert back index to linear range\n",
    "appears_in_table_columns_mapping = {\"wikipedia_movie_id\":\"movie_id\",\n",
    "                                    \"freebase_actor_id\":\"actor_id\",\n",
    "                                    \"actor_age_at_release_date\":\"actor_age\"}\n",
    "appears_in_df = appears_in_df.rename(columns=appears_in_table_columns_mapping)"
   ]
  },
  {
   "cell_type": "markdown",
   "metadata": {},
   "source": [
    "### Filter out the duplicated actors and actresses\n",
    "\n",
    "In the dataset we have some duplicated actors and actresses. They have different freebase ids but have exactly the same attributes and are indeed duplicates when we look at the filmography. However, for many of such duplicates we do not have enough information to be assume with confidence that there are duplicates. Are two actors named John Bravo the same actors or not? It is hard to tell. Thus we decided that we tagged two actors entries as duplicates if they share the same name and same birthdate (the same birthyear is not consider as sufficient)."
   ]
  },
  {
   "cell_type": "code",
   "execution_count": 13,
   "metadata": {},
   "outputs": [],
   "source": [
    "data_load.process_duplicated_actors(actor_df,[play_df,appears_in_df])"
   ]
  },
  {
   "cell_type": "markdown",
   "metadata": {},
   "source": [
    "---"
   ]
  },
  {
   "cell_type": "markdown",
   "metadata": {},
   "source": [
    "## Data Integration\n",
    "\n",
    "Our primary goal is to perform a time serie analysis of the different features we have in our movie dataset. The problem is that around 12% of the dataset is missing the release date entry. We will try to gather information from IMDB and Wikipedia to recover the information and thus avoid to throw away this data."
   ]
  },
  {
   "cell_type": "markdown",
   "metadata": {},
   "source": [
    "### Wikipedia Data Integration"
   ]
  },
  {
   "cell_type": "code",
   "execution_count": 14,
   "metadata": {},
   "outputs": [
    {
     "name": "stdout",
     "output_type": "stream",
     "text": [
      "We have the wikipedia data for 5205 movie with no release date in the CMU dataset.\n"
     ]
    }
   ],
   "source": [
    "wikipedia_data = pd.read_json(\"../data/Wikipedia/no_release_date_movies.json\").T\n",
    "print(f\"We have the wikipedia data for {len(wikipedia_data)} movie with no release date in the CMU dataset.\")"
   ]
  },
  {
   "cell_type": "code",
   "execution_count": 15,
   "metadata": {},
   "outputs": [],
   "source": [
    "data_load.parse_date_columns(wikipedia_data)"
   ]
  },
  {
   "cell_type": "code",
   "execution_count": 16,
   "metadata": {},
   "outputs": [
    {
     "name": "stdout",
     "output_type": "stream",
     "text": [
      "There are 719 movies for which we cannot retrieve the release date from the wikipedia data.\n"
     ]
    }
   ],
   "source": [
    "unparsable_date_movies = wikipedia_data[(wikipedia_data[\"Release dates\"] == \"\") \n",
    "               & (wikipedia_data[\"Release date\"] == \"\")\n",
    "               & (wikipedia_data[\"Original release\"] == \"\")]\n",
    "print(f\"There are {len(unparsable_date_movies)} movies for which we cannot retrieve the release date from the wikipedia data.\")"
   ]
  },
  {
   "cell_type": "code",
   "execution_count": 17,
   "metadata": {},
   "outputs": [],
   "source": [
    "wikipedia_retrieved_dates = (wikipedia_data[\"Release dates\"]\n",
    "                             + wikipedia_data[\"Release date\"]\n",
    "                             + wikipedia_data[\"Original release\"])\n",
    "wikipedia_retrieved_dates = wikipedia_retrieved_dates[wikipedia_retrieved_dates != \"\"]\n",
    "wikipedia_retrieved_dates = pd.DataFrame(wikipedia_retrieved_dates,columns=[\"release_date\"])"
   ]
  },
  {
   "cell_type": "code",
   "execution_count": 18,
   "metadata": {},
   "outputs": [
    {
     "name": "stderr",
     "output_type": "stream",
     "text": [
      "C:\\Users\\jerem\\AppData\\Local\\Temp\\ipykernel_12792\\1313338418.py:1: SettingWithCopyWarning: \n",
      "A value is trying to be set on a copy of a slice from a DataFrame.\n",
      "Try using .loc[row_indexer,col_indexer] = value instead\n",
      "\n",
      "See the caveats in the documentation: https://pandas.pydata.org/pandas-docs/stable/user_guide/indexing.html#returning-a-view-versus-a-copy\n",
      "  movie_df.update(wikipedia_retrieved_dates)\n"
     ]
    }
   ],
   "source": [
    "movie_df.update(wikipedia_retrieved_dates)"
   ]
  },
  {
   "cell_type": "code",
   "execution_count": 19,
   "metadata": {},
   "outputs": [
    {
     "name": "stderr",
     "output_type": "stream",
     "text": [
      "C:\\Users\\jerem\\AppData\\Local\\Temp\\ipykernel_12792\\1670570636.py:1: SettingWithCopyWarning: \n",
      "A value is trying to be set on a copy of a slice from a DataFrame.\n",
      "Try using .loc[row_indexer,col_indexer] = value instead\n",
      "\n",
      "See the caveats in the documentation: https://pandas.pydata.org/pandas-docs/stable/user_guide/indexing.html#returning-a-view-versus-a-copy\n",
      "  movie_df[\"release_date\"] = pd.to_datetime(movie_df[\"release_date\"])\n"
     ]
    }
   ],
   "source": [
    "movie_df[\"release_date\"] = pd.to_datetime(movie_df[\"release_date\"])"
   ]
  },
  {
   "cell_type": "markdown",
   "metadata": {},
   "source": [
    "### IMDB Data Integration\n",
    "\n",
    "We are interested in all the complementary information that we can retrieve using the IMDB database. To do so we will keep track of mapping between the wikipedia indices and the IMDB page indices. The mapping is not necessarly straightforward. We will first map on the name, but we may have duplicates as some movies have the same names. This method is not perfect also because we may have misspelled names. Thus we need to find a way to filter out duplicates that may occur. We will first conserve entries that share the same date of release. Then if it is not enough to remove all duplicates we will filter on the runtime. And if the latter is not sufficient, we keep the movie with the highest vote, because it is the one that is most likely to be present in our dataset."
   ]
  },
  {
   "cell_type": "code",
   "execution_count": 20,
   "metadata": {},
   "outputs": [],
   "source": [
    "imdb_rating_df = data_load.load_imdb_title_ratings()\n",
    "imdb_rating_df.set_index(\"tconst\",inplace=True)\n",
    "imdb_movie_df = data_load.load_imdb_title_basics()\n",
    "imdb_movie_df = imdb_movie_df[imdb_movie_df.title_type == \"movie\"].reset_index()\n",
    "imdb_movie_df.drop([\"index\",\"original_title\",\"title_type\",\"is_adult\",\"end_year\",\"genres\"], axis='columns', inplace=True)"
   ]
  },
  {
   "cell_type": "code",
   "execution_count": 22,
   "metadata": {
    "scrolled": true
   },
   "outputs": [
    {
     "data": {
      "text/html": [
       "<div>\n",
       "<style scoped>\n",
       "    .dataframe tbody tr th:only-of-type {\n",
       "        vertical-align: middle;\n",
       "    }\n",
       "\n",
       "    .dataframe tbody tr th {\n",
       "        vertical-align: top;\n",
       "    }\n",
       "\n",
       "    .dataframe thead th {\n",
       "        text-align: right;\n",
       "    }\n",
       "</style>\n",
       "<table border=\"1\" class=\"dataframe\">\n",
       "  <thead>\n",
       "    <tr style=\"text-align: right;\">\n",
       "      <th></th>\n",
       "      <th>tconst</th>\n",
       "      <th>primary_title</th>\n",
       "      <th>start_year</th>\n",
       "      <th>runtime_minutes</th>\n",
       "    </tr>\n",
       "  </thead>\n",
       "  <tbody>\n",
       "    <tr>\n",
       "      <th>0</th>\n",
       "      <td>tt0000009</td>\n",
       "      <td>Miss Jerry</td>\n",
       "      <td>1894</td>\n",
       "      <td>45</td>\n",
       "    </tr>\n",
       "    <tr>\n",
       "      <th>1</th>\n",
       "      <td>tt0000502</td>\n",
       "      <td>Bohemios</td>\n",
       "      <td>1905</td>\n",
       "      <td>100</td>\n",
       "    </tr>\n",
       "    <tr>\n",
       "      <th>2</th>\n",
       "      <td>tt0000574</td>\n",
       "      <td>The Story of the Kelly Gang</td>\n",
       "      <td>1906</td>\n",
       "      <td>70</td>\n",
       "    </tr>\n",
       "    <tr>\n",
       "      <th>3</th>\n",
       "      <td>tt0000591</td>\n",
       "      <td>The Prodigal Son</td>\n",
       "      <td>1907</td>\n",
       "      <td>90</td>\n",
       "    </tr>\n",
       "    <tr>\n",
       "      <th>4</th>\n",
       "      <td>tt0000615</td>\n",
       "      <td>Robbery Under Arms</td>\n",
       "      <td>1907</td>\n",
       "      <td>0</td>\n",
       "    </tr>\n",
       "    <tr>\n",
       "      <th>...</th>\n",
       "      <td>...</td>\n",
       "      <td>...</td>\n",
       "      <td>...</td>\n",
       "      <td>...</td>\n",
       "    </tr>\n",
       "    <tr>\n",
       "      <th>627188</th>\n",
       "      <td>tt9916622</td>\n",
       "      <td>Rodolpho Teóphilo - O Legado de um Pioneiro</td>\n",
       "      <td>2015</td>\n",
       "      <td>57</td>\n",
       "    </tr>\n",
       "    <tr>\n",
       "      <th>627189</th>\n",
       "      <td>tt9916680</td>\n",
       "      <td>De la ilusión al desconcierto: cine colombiano...</td>\n",
       "      <td>2007</td>\n",
       "      <td>100</td>\n",
       "    </tr>\n",
       "    <tr>\n",
       "      <th>627190</th>\n",
       "      <td>tt9916706</td>\n",
       "      <td>Dankyavar Danka</td>\n",
       "      <td>2013</td>\n",
       "      <td>0</td>\n",
       "    </tr>\n",
       "    <tr>\n",
       "      <th>627191</th>\n",
       "      <td>tt9916730</td>\n",
       "      <td>6 Gunn</td>\n",
       "      <td>2017</td>\n",
       "      <td>116</td>\n",
       "    </tr>\n",
       "    <tr>\n",
       "      <th>627192</th>\n",
       "      <td>tt9916754</td>\n",
       "      <td>Chico Albuquerque - Revelações</td>\n",
       "      <td>2013</td>\n",
       "      <td>49</td>\n",
       "    </tr>\n",
       "  </tbody>\n",
       "</table>\n",
       "<p>627193 rows × 4 columns</p>\n",
       "</div>"
      ],
      "text/plain": [
       "           tconst                                      primary_title  \\\n",
       "0       tt0000009                                         Miss Jerry   \n",
       "1       tt0000502                                           Bohemios   \n",
       "2       tt0000574                        The Story of the Kelly Gang   \n",
       "3       tt0000591                                   The Prodigal Son   \n",
       "4       tt0000615                                 Robbery Under Arms   \n",
       "...           ...                                                ...   \n",
       "627188  tt9916622        Rodolpho Teóphilo - O Legado de um Pioneiro   \n",
       "627189  tt9916680  De la ilusión al desconcierto: cine colombiano...   \n",
       "627190  tt9916706                                    Dankyavar Danka   \n",
       "627191  tt9916730                                             6 Gunn   \n",
       "627192  tt9916754                     Chico Albuquerque - Revelações   \n",
       "\n",
       "        start_year  runtime_minutes  \n",
       "0             1894               45  \n",
       "1             1905              100  \n",
       "2             1906               70  \n",
       "3             1907               90  \n",
       "4             1907                0  \n",
       "...            ...              ...  \n",
       "627188        2015               57  \n",
       "627189        2007              100  \n",
       "627190        2013                0  \n",
       "627191        2017              116  \n",
       "627192        2013               49  \n",
       "\n",
       "[627193 rows x 4 columns]"
      ]
     },
     "execution_count": 22,
     "metadata": {},
     "output_type": "execute_result"
    }
   ],
   "source": [
    "imdb_movie_df"
   ]
  },
  {
   "cell_type": "code",
   "execution_count": 113,
   "metadata": {},
   "outputs": [],
   "source": [
    "# we merge on the titles name (problem: names not unique and maybe spelling errors)\n",
    "merged = movie_df.reset_index().merge(\n",
    "    imdb_movie_df, left_on='name', right_on='primary_title', how='left', suffixes=('_cmu', '_imdb'))\n",
    "merged[\"release_date\"] = pd.to_datetime(merged[\"release_date\"])"
   ]
  },
  {
   "cell_type": "code",
   "execution_count": 114,
   "metadata": {},
   "outputs": [],
   "source": [
    "merged_standard = merged[~merged[\"movie_id\"].duplicated(keep=False)]\n",
    "merged_duplicated = merged[merged[\"movie_id\"].duplicated(keep=False)]"
   ]
  },
  {
   "cell_type": "code",
   "execution_count": 115,
   "metadata": {},
   "outputs": [],
   "source": [
    "merged_duplicated = merged_duplicated[\n",
    "    merged_duplicated.release_date.apply(lambda r: r.year) == merged_duplicated.start_year]\n",
    "merged_standard = pd.concat([\n",
    "    merged_standard,merged_duplicated[~merged_duplicated[\"movie_id\"].duplicated(keep=False)]])"
   ]
  },
  {
   "cell_type": "code",
   "execution_count": 116,
   "metadata": {},
   "outputs": [],
   "source": [
    "merged_duplicated = merged_duplicated[merged_duplicated[\"movie_id\"].duplicated(keep=False)]\n",
    "merged_duplicated = merged_duplicated[merged_duplicated[\"runtime\"] == \n",
    "                                      merged_duplicated[\"runtime_minutes\"]]\n",
    "merged_standard = pd.concat([\n",
    "    merged_standard,merged_duplicated[~merged_duplicated[\"movie_id\"].duplicated(keep=False)]])"
   ]
  },
  {
   "cell_type": "code",
   "execution_count": 117,
   "metadata": {},
   "outputs": [],
   "source": [
    "merged_duplicated = merged_duplicated[merged_duplicated[\"movie_id\"].duplicated(keep=False)]\n",
    "merged_duplicated = merged_duplicated.reset_index()"
   ]
  },
  {
   "cell_type": "code",
   "execution_count": 118,
   "metadata": {},
   "outputs": [
    {
     "data": {
      "text/html": [
       "<div>\n",
       "<style scoped>\n",
       "    .dataframe tbody tr th:only-of-type {\n",
       "        vertical-align: middle;\n",
       "    }\n",
       "\n",
       "    .dataframe tbody tr th {\n",
       "        vertical-align: top;\n",
       "    }\n",
       "\n",
       "    .dataframe thead th {\n",
       "        text-align: right;\n",
       "    }\n",
       "</style>\n",
       "<table border=\"1\" class=\"dataframe\">\n",
       "  <thead>\n",
       "    <tr style=\"text-align: right;\">\n",
       "      <th></th>\n",
       "      <th>index</th>\n",
       "      <th>movie_id</th>\n",
       "      <th>name</th>\n",
       "      <th>release_date</th>\n",
       "      <th>revenue</th>\n",
       "      <th>runtime</th>\n",
       "      <th>freebase_id</th>\n",
       "      <th>plot</th>\n",
       "      <th>tconst</th>\n",
       "      <th>primary_title</th>\n",
       "      <th>start_year</th>\n",
       "      <th>runtime_minutes</th>\n",
       "    </tr>\n",
       "  </thead>\n",
       "  <tbody>\n",
       "    <tr>\n",
       "      <th>0</th>\n",
       "      <td>5407</td>\n",
       "      <td>16958933</td>\n",
       "      <td>Inferno</td>\n",
       "      <td>1999-01-01</td>\n",
       "      <td>NaN</td>\n",
       "      <td>95.0</td>\n",
       "      <td>/m/0413dmv</td>\n",
       "      <td>The film opens as Eddie Lomax  drives an India...</td>\n",
       "      <td>tt0139151</td>\n",
       "      <td>Inferno</td>\n",
       "      <td>1999</td>\n",
       "      <td>95</td>\n",
       "    </tr>\n",
       "    <tr>\n",
       "      <th>1</th>\n",
       "      <td>5408</td>\n",
       "      <td>16958933</td>\n",
       "      <td>Inferno</td>\n",
       "      <td>1999-01-01</td>\n",
       "      <td>NaN</td>\n",
       "      <td>95.0</td>\n",
       "      <td>/m/0413dmv</td>\n",
       "      <td>The film opens as Eddie Lomax  drives an India...</td>\n",
       "      <td>tt0209043</td>\n",
       "      <td>Inferno</td>\n",
       "      <td>1999</td>\n",
       "      <td>95</td>\n",
       "    </tr>\n",
       "    <tr>\n",
       "      <th>2</th>\n",
       "      <td>25514</td>\n",
       "      <td>33238319</td>\n",
       "      <td>The Reunion</td>\n",
       "      <td>2011-10-21</td>\n",
       "      <td>NaN</td>\n",
       "      <td>90.0</td>\n",
       "      <td>/m/0h134d0</td>\n",
       "      <td>After the death of her father, Nina  is charge...</td>\n",
       "      <td>tt1699135</td>\n",
       "      <td>The Reunion</td>\n",
       "      <td>2011</td>\n",
       "      <td>90</td>\n",
       "    </tr>\n",
       "    <tr>\n",
       "      <th>3</th>\n",
       "      <td>25515</td>\n",
       "      <td>33238319</td>\n",
       "      <td>The Reunion</td>\n",
       "      <td>2011-10-21</td>\n",
       "      <td>NaN</td>\n",
       "      <td>90.0</td>\n",
       "      <td>/m/0h134d0</td>\n",
       "      <td>After the death of her father, Nina  is charge...</td>\n",
       "      <td>tt1792543</td>\n",
       "      <td>The Reunion</td>\n",
       "      <td>2011</td>\n",
       "      <td>90</td>\n",
       "    </tr>\n",
       "    <tr>\n",
       "      <th>4</th>\n",
       "      <td>35338</td>\n",
       "      <td>31701975</td>\n",
       "      <td>The Artist</td>\n",
       "      <td>2011-05-15</td>\n",
       "      <td>133432856.0</td>\n",
       "      <td>100.0</td>\n",
       "      <td>/m/0gmcwlb</td>\n",
       "      <td>In 1927, silent film star George Valentin is p...</td>\n",
       "      <td>tt1655442</td>\n",
       "      <td>The Artist</td>\n",
       "      <td>2011</td>\n",
       "      <td>100</td>\n",
       "    </tr>\n",
       "    <tr>\n",
       "      <th>5</th>\n",
       "      <td>35339</td>\n",
       "      <td>31701975</td>\n",
       "      <td>The Artist</td>\n",
       "      <td>2011-05-15</td>\n",
       "      <td>133432856.0</td>\n",
       "      <td>100.0</td>\n",
       "      <td>/m/0gmcwlb</td>\n",
       "      <td>In 1927, silent film star George Valentin is p...</td>\n",
       "      <td>tt1825978</td>\n",
       "      <td>The Artist</td>\n",
       "      <td>2011</td>\n",
       "      <td>100</td>\n",
       "    </tr>\n",
       "    <tr>\n",
       "      <th>6</th>\n",
       "      <td>47411</td>\n",
       "      <td>2462649</td>\n",
       "      <td>Violent Cop</td>\n",
       "      <td>2000-01-01</td>\n",
       "      <td>NaN</td>\n",
       "      <td>88.0</td>\n",
       "      <td>/m/07fttx</td>\n",
       "      <td>NaN</td>\n",
       "      <td>tt0275052</td>\n",
       "      <td>Violent Cop</td>\n",
       "      <td>2000</td>\n",
       "      <td>88</td>\n",
       "    </tr>\n",
       "    <tr>\n",
       "      <th>7</th>\n",
       "      <td>47412</td>\n",
       "      <td>2462649</td>\n",
       "      <td>Violent Cop</td>\n",
       "      <td>2000-01-01</td>\n",
       "      <td>NaN</td>\n",
       "      <td>88.0</td>\n",
       "      <td>/m/07fttx</td>\n",
       "      <td>NaN</td>\n",
       "      <td>tt4143626</td>\n",
       "      <td>Violent Cop</td>\n",
       "      <td>2000</td>\n",
       "      <td>88</td>\n",
       "    </tr>\n",
       "    <tr>\n",
       "      <th>8</th>\n",
       "      <td>62821</td>\n",
       "      <td>12165949</td>\n",
       "      <td>The 11th Hour</td>\n",
       "      <td>2007-05-19</td>\n",
       "      <td>985207.0</td>\n",
       "      <td>95.0</td>\n",
       "      <td>/m/02vs16l</td>\n",
       "      <td>With contributions from over 50 politicians, s...</td>\n",
       "      <td>tt0492931</td>\n",
       "      <td>The 11th Hour</td>\n",
       "      <td>2007</td>\n",
       "      <td>95</td>\n",
       "    </tr>\n",
       "    <tr>\n",
       "      <th>9</th>\n",
       "      <td>62822</td>\n",
       "      <td>12165949</td>\n",
       "      <td>The 11th Hour</td>\n",
       "      <td>2007-05-19</td>\n",
       "      <td>985207.0</td>\n",
       "      <td>95.0</td>\n",
       "      <td>/m/02vs16l</td>\n",
       "      <td>With contributions from over 50 politicians, s...</td>\n",
       "      <td>tt1043415</td>\n",
       "      <td>The 11th Hour</td>\n",
       "      <td>2007</td>\n",
       "      <td>95</td>\n",
       "    </tr>\n",
       "    <tr>\n",
       "      <th>10</th>\n",
       "      <td>77018</td>\n",
       "      <td>9379337</td>\n",
       "      <td>The Last Word</td>\n",
       "      <td>2008-01-01</td>\n",
       "      <td>NaN</td>\n",
       "      <td>90.0</td>\n",
       "      <td>/m/0286jn1</td>\n",
       "      <td>An odd-but-gifted poet, Evan Merck  makes his ...</td>\n",
       "      <td>tt0876233</td>\n",
       "      <td>The Last Word</td>\n",
       "      <td>2008</td>\n",
       "      <td>90</td>\n",
       "    </tr>\n",
       "    <tr>\n",
       "      <th>11</th>\n",
       "      <td>77019</td>\n",
       "      <td>9379337</td>\n",
       "      <td>The Last Word</td>\n",
       "      <td>2008-01-01</td>\n",
       "      <td>NaN</td>\n",
       "      <td>90.0</td>\n",
       "      <td>/m/0286jn1</td>\n",
       "      <td>An odd-but-gifted poet, Evan Merck  makes his ...</td>\n",
       "      <td>tt1553919</td>\n",
       "      <td>The Last Word</td>\n",
       "      <td>2008</td>\n",
       "      <td>90</td>\n",
       "    </tr>\n",
       "    <tr>\n",
       "      <th>12</th>\n",
       "      <td>79839</td>\n",
       "      <td>31996794</td>\n",
       "      <td>O Maria</td>\n",
       "      <td>2010-12-19</td>\n",
       "      <td>NaN</td>\n",
       "      <td>110.0</td>\n",
       "      <td>/m/0gvt7mr</td>\n",
       "      <td>Maria is a single woman of forty plus, living ...</td>\n",
       "      <td>tt12003716</td>\n",
       "      <td>O Maria</td>\n",
       "      <td>2010</td>\n",
       "      <td>110</td>\n",
       "    </tr>\n",
       "    <tr>\n",
       "      <th>13</th>\n",
       "      <td>79840</td>\n",
       "      <td>31996794</td>\n",
       "      <td>O Maria</td>\n",
       "      <td>2010-12-19</td>\n",
       "      <td>NaN</td>\n",
       "      <td>110.0</td>\n",
       "      <td>/m/0gvt7mr</td>\n",
       "      <td>Maria is a single woman of forty plus, living ...</td>\n",
       "      <td>tt12008720</td>\n",
       "      <td>O Maria</td>\n",
       "      <td>2010</td>\n",
       "      <td>110</td>\n",
       "    </tr>\n",
       "    <tr>\n",
       "      <th>14</th>\n",
       "      <td>120957</td>\n",
       "      <td>18501121</td>\n",
       "      <td>End of the World</td>\n",
       "      <td>1931-01-23</td>\n",
       "      <td>NaN</td>\n",
       "      <td>105.0</td>\n",
       "      <td>/m/04dz2ww</td>\n",
       "      <td>The film opens with Jean Novalic  playing Jesu...</td>\n",
       "      <td>tt0021864</td>\n",
       "      <td>End of the World</td>\n",
       "      <td>1931</td>\n",
       "      <td>105</td>\n",
       "    </tr>\n",
       "    <tr>\n",
       "      <th>15</th>\n",
       "      <td>120958</td>\n",
       "      <td>18501121</td>\n",
       "      <td>End of the World</td>\n",
       "      <td>1931-01-23</td>\n",
       "      <td>NaN</td>\n",
       "      <td>105.0</td>\n",
       "      <td>/m/04dz2ww</td>\n",
       "      <td>The film opens with Jean Novalic  playing Jesu...</td>\n",
       "      <td>tt0025084</td>\n",
       "      <td>End of the World</td>\n",
       "      <td>1931</td>\n",
       "      <td>105</td>\n",
       "    </tr>\n",
       "    <tr>\n",
       "      <th>16</th>\n",
       "      <td>137348</td>\n",
       "      <td>35508135</td>\n",
       "      <td>The Reunion</td>\n",
       "      <td>2011-10-13</td>\n",
       "      <td>NaN</td>\n",
       "      <td>90.0</td>\n",
       "      <td>/m/0j9nm_x</td>\n",
       "      <td>NaN</td>\n",
       "      <td>tt1699135</td>\n",
       "      <td>The Reunion</td>\n",
       "      <td>2011</td>\n",
       "      <td>90</td>\n",
       "    </tr>\n",
       "    <tr>\n",
       "      <th>17</th>\n",
       "      <td>137349</td>\n",
       "      <td>35508135</td>\n",
       "      <td>The Reunion</td>\n",
       "      <td>2011-10-13</td>\n",
       "      <td>NaN</td>\n",
       "      <td>90.0</td>\n",
       "      <td>/m/0j9nm_x</td>\n",
       "      <td>NaN</td>\n",
       "      <td>tt1792543</td>\n",
       "      <td>The Reunion</td>\n",
       "      <td>2011</td>\n",
       "      <td>90</td>\n",
       "    </tr>\n",
       "    <tr>\n",
       "      <th>18</th>\n",
       "      <td>142558</td>\n",
       "      <td>10813763</td>\n",
       "      <td>Sati Sulochana</td>\n",
       "      <td>1934-03-03</td>\n",
       "      <td>NaN</td>\n",
       "      <td>170.0</td>\n",
       "      <td>/m/02qqvpl</td>\n",
       "      <td>Sati Sulochana is based on the character Suloc...</td>\n",
       "      <td>tt0244185</td>\n",
       "      <td>Sati Sulochana</td>\n",
       "      <td>1934</td>\n",
       "      <td>170</td>\n",
       "    </tr>\n",
       "    <tr>\n",
       "      <th>19</th>\n",
       "      <td>142559</td>\n",
       "      <td>10813763</td>\n",
       "      <td>Sati Sulochana</td>\n",
       "      <td>1934-03-03</td>\n",
       "      <td>NaN</td>\n",
       "      <td>170.0</td>\n",
       "      <td>/m/02qqvpl</td>\n",
       "      <td>Sati Sulochana is based on the character Suloc...</td>\n",
       "      <td>tt0265702</td>\n",
       "      <td>Sati Sulochana</td>\n",
       "      <td>1934</td>\n",
       "      <td>170</td>\n",
       "    </tr>\n",
       "    <tr>\n",
       "      <th>20</th>\n",
       "      <td>158512</td>\n",
       "      <td>28195972</td>\n",
       "      <td>The Disappeared</td>\n",
       "      <td>2008-01-01</td>\n",
       "      <td>NaN</td>\n",
       "      <td>96.0</td>\n",
       "      <td>/m/0djb89b</td>\n",
       "      <td>Matthew Ryan  has just been released from a ps...</td>\n",
       "      <td>tt1094295</td>\n",
       "      <td>The Disappeared</td>\n",
       "      <td>2008</td>\n",
       "      <td>96</td>\n",
       "    </tr>\n",
       "    <tr>\n",
       "      <th>21</th>\n",
       "      <td>158513</td>\n",
       "      <td>28195972</td>\n",
       "      <td>The Disappeared</td>\n",
       "      <td>2008-01-01</td>\n",
       "      <td>NaN</td>\n",
       "      <td>96.0</td>\n",
       "      <td>/m/0djb89b</td>\n",
       "      <td>Matthew Ryan  has just been released from a ps...</td>\n",
       "      <td>tt1366862</td>\n",
       "      <td>The Disappeared</td>\n",
       "      <td>2008</td>\n",
       "      <td>96</td>\n",
       "    </tr>\n",
       "  </tbody>\n",
       "</table>\n",
       "</div>"
      ],
      "text/plain": [
       "     index  movie_id              name release_date      revenue  runtime  \\\n",
       "0     5407  16958933           Inferno   1999-01-01          NaN     95.0   \n",
       "1     5408  16958933           Inferno   1999-01-01          NaN     95.0   \n",
       "2    25514  33238319       The Reunion   2011-10-21          NaN     90.0   \n",
       "3    25515  33238319       The Reunion   2011-10-21          NaN     90.0   \n",
       "4    35338  31701975        The Artist   2011-05-15  133432856.0    100.0   \n",
       "5    35339  31701975        The Artist   2011-05-15  133432856.0    100.0   \n",
       "6    47411   2462649       Violent Cop   2000-01-01          NaN     88.0   \n",
       "7    47412   2462649       Violent Cop   2000-01-01          NaN     88.0   \n",
       "8    62821  12165949     The 11th Hour   2007-05-19     985207.0     95.0   \n",
       "9    62822  12165949     The 11th Hour   2007-05-19     985207.0     95.0   \n",
       "10   77018   9379337     The Last Word   2008-01-01          NaN     90.0   \n",
       "11   77019   9379337     The Last Word   2008-01-01          NaN     90.0   \n",
       "12   79839  31996794           O Maria   2010-12-19          NaN    110.0   \n",
       "13   79840  31996794           O Maria   2010-12-19          NaN    110.0   \n",
       "14  120957  18501121  End of the World   1931-01-23          NaN    105.0   \n",
       "15  120958  18501121  End of the World   1931-01-23          NaN    105.0   \n",
       "16  137348  35508135       The Reunion   2011-10-13          NaN     90.0   \n",
       "17  137349  35508135       The Reunion   2011-10-13          NaN     90.0   \n",
       "18  142558  10813763    Sati Sulochana   1934-03-03          NaN    170.0   \n",
       "19  142559  10813763    Sati Sulochana   1934-03-03          NaN    170.0   \n",
       "20  158512  28195972   The Disappeared   2008-01-01          NaN     96.0   \n",
       "21  158513  28195972   The Disappeared   2008-01-01          NaN     96.0   \n",
       "\n",
       "   freebase_id                                               plot      tconst  \\\n",
       "0   /m/0413dmv  The film opens as Eddie Lomax  drives an India...   tt0139151   \n",
       "1   /m/0413dmv  The film opens as Eddie Lomax  drives an India...   tt0209043   \n",
       "2   /m/0h134d0  After the death of her father, Nina  is charge...   tt1699135   \n",
       "3   /m/0h134d0  After the death of her father, Nina  is charge...   tt1792543   \n",
       "4   /m/0gmcwlb  In 1927, silent film star George Valentin is p...   tt1655442   \n",
       "5   /m/0gmcwlb  In 1927, silent film star George Valentin is p...   tt1825978   \n",
       "6    /m/07fttx                                                NaN   tt0275052   \n",
       "7    /m/07fttx                                                NaN   tt4143626   \n",
       "8   /m/02vs16l  With contributions from over 50 politicians, s...   tt0492931   \n",
       "9   /m/02vs16l  With contributions from over 50 politicians, s...   tt1043415   \n",
       "10  /m/0286jn1  An odd-but-gifted poet, Evan Merck  makes his ...   tt0876233   \n",
       "11  /m/0286jn1  An odd-but-gifted poet, Evan Merck  makes his ...   tt1553919   \n",
       "12  /m/0gvt7mr  Maria is a single woman of forty plus, living ...  tt12003716   \n",
       "13  /m/0gvt7mr  Maria is a single woman of forty plus, living ...  tt12008720   \n",
       "14  /m/04dz2ww  The film opens with Jean Novalic  playing Jesu...   tt0021864   \n",
       "15  /m/04dz2ww  The film opens with Jean Novalic  playing Jesu...   tt0025084   \n",
       "16  /m/0j9nm_x                                                NaN   tt1699135   \n",
       "17  /m/0j9nm_x                                                NaN   tt1792543   \n",
       "18  /m/02qqvpl  Sati Sulochana is based on the character Suloc...   tt0244185   \n",
       "19  /m/02qqvpl  Sati Sulochana is based on the character Suloc...   tt0265702   \n",
       "20  /m/0djb89b  Matthew Ryan  has just been released from a ps...   tt1094295   \n",
       "21  /m/0djb89b  Matthew Ryan  has just been released from a ps...   tt1366862   \n",
       "\n",
       "       primary_title  start_year  runtime_minutes  \n",
       "0            Inferno        1999               95  \n",
       "1            Inferno        1999               95  \n",
       "2        The Reunion        2011               90  \n",
       "3        The Reunion        2011               90  \n",
       "4         The Artist        2011              100  \n",
       "5         The Artist        2011              100  \n",
       "6        Violent Cop        2000               88  \n",
       "7        Violent Cop        2000               88  \n",
       "8      The 11th Hour        2007               95  \n",
       "9      The 11th Hour        2007               95  \n",
       "10     The Last Word        2008               90  \n",
       "11     The Last Word        2008               90  \n",
       "12           O Maria        2010              110  \n",
       "13           O Maria        2010              110  \n",
       "14  End of the World        1931              105  \n",
       "15  End of the World        1931              105  \n",
       "16       The Reunion        2011               90  \n",
       "17       The Reunion        2011               90  \n",
       "18    Sati Sulochana        1934              170  \n",
       "19    Sati Sulochana        1934              170  \n",
       "20   The Disappeared        2008               96  \n",
       "21   The Disappeared        2008               96  "
      ]
     },
     "execution_count": 118,
     "metadata": {},
     "output_type": "execute_result"
    }
   ],
   "source": [
    "#merged_duplicated.drop([0,1])\n",
    "merged_duplicated"
   ]
  },
  {
   "cell_type": "markdown",
   "metadata": {},
   "source": [
    "## Save Data"
   ]
  },
  {
   "cell_type": "code",
   "execution_count": null,
   "metadata": {},
   "outputs": [],
   "source": [
    "country_df.to_pickle(\"../data/generated/country_df.pkl\")\n",
    "comes_from_df.to_pickle(\"../data/generated/comes_from_df.pkl\")\n",
    "genre_df.to_pickle(\"../data/generated/genre_df.pkl\")\n",
    "is_of_type_df.to_pickle(\"../data/generated/is_of_type_df.pkl\")\n",
    "language_df.to_pickle(\"../data/generated/language_df.pkl\")\n",
    "spoken_languages_df.to_pickle(\"../data/generated/spoken_languages_df.pkl\")\n",
    "character_df.to_pickle(\"../data/generated/character_df.pkl\")\n",
    "actor_df.to_pickle(\"../data/generated/actor_df.pkl\")\n",
    "movie_df.to_pickle(\"../data/generated/movie_df.pkl\")\n",
    "belongs_to_df.to_pickle(\"../data/generated/belongs_to_df.pkl\")\n",
    "play_df.to_pickle(\"../data/generated/play_df.pkl\")\n",
    "appears_in_df.to_pickle(\"../data/generated/appears_in_df.pkl\")"
   ]
  },
  {
   "cell_type": "markdown",
   "metadata": {},
   "source": [
    "### Combine CMU with IMDB"
   ]
  },
  {
   "cell_type": "code",
   "execution_count": 25,
   "metadata": {
    "collapsed": true
   },
   "outputs": [
    {
     "ename": "KeyboardInterrupt",
     "evalue": "",
     "output_type": "error",
     "traceback": [
      "\u001b[1;31m---------------------------------------------------------------------------\u001b[0m",
      "\u001b[1;31mKeyboardInterrupt\u001b[0m                         Traceback (most recent call last)",
      "Cell \u001b[1;32mIn [25], line 1\u001b[0m\n\u001b[1;32m----> 1\u001b[0m imdb_movie_df \u001b[38;5;241m=\u001b[39m data_load\u001b[38;5;241m.\u001b[39mload_imdb_title_basics()\n\u001b[0;32m      2\u001b[0m imdb_movie_df \u001b[38;5;241m=\u001b[39m imdb_movie_df[imdb_movie_df\u001b[38;5;241m.\u001b[39mtitle_type \u001b[38;5;241m==\u001b[39m \u001b[38;5;124m\"\u001b[39m\u001b[38;5;124mmovie\u001b[39m\u001b[38;5;124m\"\u001b[39m]\n\u001b[0;32m      3\u001b[0m imdb_movie_df\u001b[38;5;241m.\u001b[39mdrop(\u001b[38;5;124m'\u001b[39m\u001b[38;5;124moriginal_title\u001b[39m\u001b[38;5;124m'\u001b[39m, axis\u001b[38;5;241m=\u001b[39m\u001b[38;5;124m'\u001b[39m\u001b[38;5;124mcolumns\u001b[39m\u001b[38;5;124m'\u001b[39m, inplace\u001b[38;5;241m=\u001b[39m\u001b[38;5;28;01mTrue\u001b[39;00m)\n",
      "File \u001b[1;32mC:\\EPFL\\master\\MA_3\\ADA\\ada-2022-project-zozoz\\src\\utils\\data_load.py:533\u001b[0m, in \u001b[0;36mload_imdb_title_basics\u001b[1;34m()\u001b[0m\n\u001b[0;32m    528\u001b[0m df\u001b[38;5;241m.\u001b[39mruntime_minutes \u001b[38;5;241m=\u001b[39m df\u001b[38;5;241m.\u001b[39mruntime_minutes\u001b[38;5;241m.\u001b[39mmap(\n\u001b[0;32m    529\u001b[0m     \u001b[38;5;28;01mlambda\u001b[39;00m r: np\u001b[38;5;241m.\u001b[39mNaN \u001b[38;5;28;01mif\u001b[39;00m r \u001b[38;5;129;01min\u001b[39;00m invalids \u001b[38;5;28;01melse\u001b[39;00m r)\u001b[38;5;241m.\u001b[39mastype(pd\u001b[38;5;241m.\u001b[39mInt64Dtype())\n\u001b[0;32m    531\u001b[0m df\u001b[38;5;241m.\u001b[39mruntime_minutes\u001b[38;5;241m.\u001b[39mfillna(\u001b[38;5;241m0\u001b[39m, inplace\u001b[38;5;241m=\u001b[39m\u001b[38;5;28;01mTrue\u001b[39;00m)\n\u001b[1;32m--> 533\u001b[0m df\u001b[38;5;241m.\u001b[39mgenres \u001b[38;5;241m=\u001b[39m \u001b[43mdf\u001b[49m\u001b[38;5;241;43m.\u001b[39;49m\u001b[43mgenres\u001b[49m\u001b[38;5;241;43m.\u001b[39;49m\u001b[43mmap\u001b[49m\u001b[43m(\u001b[49m\u001b[43mparse_imdb_list\u001b[49m\u001b[43m,\u001b[49m\u001b[43m \u001b[49m\u001b[43mna_action\u001b[49m\u001b[38;5;241;43m=\u001b[39;49m\u001b[38;5;124;43m'\u001b[39;49m\u001b[38;5;124;43mignore\u001b[39;49m\u001b[38;5;124;43m'\u001b[39;49m\u001b[43m)\u001b[49m\n\u001b[0;32m    534\u001b[0m \u001b[38;5;28;01mreturn\u001b[39;00m df\n",
      "File \u001b[1;32m~\\anaconda3\\envs\\ada\\lib\\site-packages\\pandas\\core\\series.py:4237\u001b[0m, in \u001b[0;36mSeries.map\u001b[1;34m(self, arg, na_action)\u001b[0m\n\u001b[0;32m   4162\u001b[0m \u001b[38;5;28;01mdef\u001b[39;00m \u001b[38;5;21mmap\u001b[39m(\u001b[38;5;28mself\u001b[39m, arg, na_action\u001b[38;5;241m=\u001b[39m\u001b[38;5;28;01mNone\u001b[39;00m) \u001b[38;5;241m-\u001b[39m\u001b[38;5;241m>\u001b[39m Series:\n\u001b[0;32m   4163\u001b[0m     \u001b[38;5;124;03m\"\"\"\u001b[39;00m\n\u001b[0;32m   4164\u001b[0m \u001b[38;5;124;03m    Map values of Series according to an input mapping or function.\u001b[39;00m\n\u001b[0;32m   4165\u001b[0m \n\u001b[1;32m   (...)\u001b[0m\n\u001b[0;32m   4235\u001b[0m \u001b[38;5;124;03m    dtype: object\u001b[39;00m\n\u001b[0;32m   4236\u001b[0m \u001b[38;5;124;03m    \"\"\"\u001b[39;00m\n\u001b[1;32m-> 4237\u001b[0m     new_values \u001b[38;5;241m=\u001b[39m \u001b[38;5;28;43mself\u001b[39;49m\u001b[38;5;241;43m.\u001b[39;49m\u001b[43m_map_values\u001b[49m\u001b[43m(\u001b[49m\u001b[43marg\u001b[49m\u001b[43m,\u001b[49m\u001b[43m \u001b[49m\u001b[43mna_action\u001b[49m\u001b[38;5;241;43m=\u001b[39;49m\u001b[43mna_action\u001b[49m\u001b[43m)\u001b[49m\n\u001b[0;32m   4238\u001b[0m     \u001b[38;5;28;01mreturn\u001b[39;00m \u001b[38;5;28mself\u001b[39m\u001b[38;5;241m.\u001b[39m_constructor(new_values, index\u001b[38;5;241m=\u001b[39m\u001b[38;5;28mself\u001b[39m\u001b[38;5;241m.\u001b[39mindex)\u001b[38;5;241m.\u001b[39m__finalize__(\n\u001b[0;32m   4239\u001b[0m         \u001b[38;5;28mself\u001b[39m, method\u001b[38;5;241m=\u001b[39m\u001b[38;5;124m\"\u001b[39m\u001b[38;5;124mmap\u001b[39m\u001b[38;5;124m\"\u001b[39m\n\u001b[0;32m   4240\u001b[0m     )\n",
      "File \u001b[1;32m~\\anaconda3\\envs\\ada\\lib\\site-packages\\pandas\\core\\base.py:880\u001b[0m, in \u001b[0;36mIndexOpsMixin._map_values\u001b[1;34m(self, mapper, na_action)\u001b[0m\n\u001b[0;32m    877\u001b[0m         \u001b[38;5;28;01mraise\u001b[39;00m \u001b[38;5;167;01mValueError\u001b[39;00m(msg)\n\u001b[0;32m    879\u001b[0m \u001b[38;5;66;03m# mapper is a function\u001b[39;00m\n\u001b[1;32m--> 880\u001b[0m new_values \u001b[38;5;241m=\u001b[39m \u001b[43mmap_f\u001b[49m\u001b[43m(\u001b[49m\u001b[43mvalues\u001b[49m\u001b[43m,\u001b[49m\u001b[43m \u001b[49m\u001b[43mmapper\u001b[49m\u001b[43m)\u001b[49m\n\u001b[0;32m    882\u001b[0m \u001b[38;5;28;01mreturn\u001b[39;00m new_values\n",
      "File \u001b[1;32m~\\anaconda3\\envs\\ada\\lib\\site-packages\\pandas\\core\\base.py:867\u001b[0m, in \u001b[0;36mIndexOpsMixin._map_values.<locals>.<lambda>\u001b[1;34m(values, f)\u001b[0m\n\u001b[0;32m    865\u001b[0m values \u001b[38;5;241m=\u001b[39m \u001b[38;5;28mself\u001b[39m\u001b[38;5;241m.\u001b[39m_values\u001b[38;5;241m.\u001b[39mastype(\u001b[38;5;28mobject\u001b[39m)\n\u001b[0;32m    866\u001b[0m \u001b[38;5;28;01mif\u001b[39;00m na_action \u001b[38;5;241m==\u001b[39m \u001b[38;5;124m\"\u001b[39m\u001b[38;5;124mignore\u001b[39m\u001b[38;5;124m\"\u001b[39m:\n\u001b[1;32m--> 867\u001b[0m     map_f \u001b[38;5;241m=\u001b[39m \u001b[38;5;28;01mlambda\u001b[39;00m values, f: \u001b[43mlib\u001b[49m\u001b[38;5;241;43m.\u001b[39;49m\u001b[43mmap_infer_mask\u001b[49m\u001b[43m(\u001b[49m\n\u001b[0;32m    868\u001b[0m \u001b[43m        \u001b[49m\u001b[43mvalues\u001b[49m\u001b[43m,\u001b[49m\u001b[43m \u001b[49m\u001b[43mf\u001b[49m\u001b[43m,\u001b[49m\u001b[43m \u001b[49m\u001b[43misna\u001b[49m\u001b[43m(\u001b[49m\u001b[43mvalues\u001b[49m\u001b[43m)\u001b[49m\u001b[38;5;241;43m.\u001b[39;49m\u001b[43mview\u001b[49m\u001b[43m(\u001b[49m\u001b[43mnp\u001b[49m\u001b[38;5;241;43m.\u001b[39;49m\u001b[43muint8\u001b[49m\u001b[43m)\u001b[49m\n\u001b[0;32m    869\u001b[0m \u001b[43m    \u001b[49m\u001b[43m)\u001b[49m\n\u001b[0;32m    870\u001b[0m \u001b[38;5;28;01melif\u001b[39;00m na_action \u001b[38;5;129;01mis\u001b[39;00m \u001b[38;5;28;01mNone\u001b[39;00m:\n\u001b[0;32m    871\u001b[0m     map_f \u001b[38;5;241m=\u001b[39m lib\u001b[38;5;241m.\u001b[39mmap_infer\n",
      "File \u001b[1;32m~\\anaconda3\\envs\\ada\\lib\\site-packages\\pandas\\_libs\\lib.pyx:2822\u001b[0m, in \u001b[0;36mpandas._libs.lib.map_infer_mask\u001b[1;34m()\u001b[0m\n",
      "File \u001b[1;32mC:\\EPFL\\master\\MA_3\\ADA\\ada-2022-project-zozoz\\src\\utils\\data_load.py:402\u001b[0m, in \u001b[0;36mparse_imdb_list\u001b[1;34m(x)\u001b[0m\n\u001b[0;32m    392\u001b[0m     \u001b[38;5;124;03m\"\"\"\u001b[39;00m\n\u001b[0;32m    393\u001b[0m \u001b[38;5;124;03m    Parse a string to a dictionary.\u001b[39;00m\n\u001b[0;32m    394\u001b[0m \n\u001b[1;32m   (...)\u001b[0m\n\u001b[0;32m    397\u001b[0m \u001b[38;5;124;03m    :return: A list of the values of the dictionary.\u001b[39;00m\n\u001b[0;32m    398\u001b[0m \u001b[38;5;124;03m    \"\"\"\u001b[39;00m\n\u001b[0;32m    399\u001b[0m     \u001b[38;5;28;01mreturn\u001b[39;00m \u001b[38;5;28mlist\u001b[39m(\u001b[38;5;28meval\u001b[39m(x)\u001b[38;5;241m.\u001b[39mvalues())\n\u001b[1;32m--> 402\u001b[0m \u001b[38;5;28;01mdef\u001b[39;00m \u001b[38;5;21mparse_imdb_list\u001b[39m(x) \u001b[38;5;241m-\u001b[39m\u001b[38;5;241m>\u001b[39m \u001b[38;5;28mlist\u001b[39m:\n\u001b[0;32m    403\u001b[0m     \u001b[38;5;124;03m\"\"\"\u001b[39;00m\n\u001b[0;32m    404\u001b[0m \u001b[38;5;124;03m    Parse a string to a list.\u001b[39;00m\n\u001b[0;32m    405\u001b[0m \n\u001b[1;32m   (...)\u001b[0m\n\u001b[0;32m    408\u001b[0m \u001b[38;5;124;03m    :return: A list of the values of the list.\u001b[39;00m\n\u001b[0;32m    409\u001b[0m \u001b[38;5;124;03m    \"\"\"\u001b[39;00m\n\u001b[0;32m    410\u001b[0m     \u001b[38;5;28;01mreturn\u001b[39;00m x\u001b[38;5;241m.\u001b[39msplit(\u001b[38;5;124m\"\u001b[39m\u001b[38;5;124m,\u001b[39m\u001b[38;5;124m\"\u001b[39m)\n",
      "\u001b[1;31mKeyboardInterrupt\u001b[0m: "
     ]
    }
   ],
   "source": [
    "imdb_movie_df = data_load.load_imdb_title_basics()\n",
    "imdb_movie_df = imdb_movie_df[imdb_movie_df.title_type == \"movie\"]\n",
    "imdb_movie_df.drop('original_title', axis='columns', inplace=True)"
   ]
  },
  {
   "cell_type": "code",
   "execution_count": null,
   "metadata": {},
   "outputs": [],
   "source": [
    "# we merge on the titles name (problem: names not unique and maybe spelling errors)\n",
    "merged = movie_df.reset_index().merge(imdb_movie_df, left_on='name', right_on='primary_title', how='left', suffixes=('_cmu', '_imdb'))"
   ]
  },
  {
   "cell_type": "code",
   "execution_count": 20,
   "metadata": {},
   "outputs": [],
   "source": [
    "merged = merged[merged.release_date.apply(lambda r: r.year) == merged.start_year]"
   ]
  },
  {
   "cell_type": "code",
   "execution_count": 21,
   "metadata": {},
   "outputs": [
    {
     "data": {
      "text/plain": [
       "/m/0h1z21s    5\n",
       "/m/064p159    4\n",
       "/m/0bbx0_     4\n",
       "/m/09vq1kn    4\n",
       "/m/03cg7t2    3\n",
       "             ..\n",
       "/m/03cb5j0    2\n",
       "/m/04g0gvz    2\n",
       "/m/07scm0y    2\n",
       "/m/06w9zfg    2\n",
       "/m/09s60jk    2\n",
       "Name: freebase_id, Length: 465, dtype: Int64"
      ]
     },
     "execution_count": 21,
     "metadata": {},
     "output_type": "execute_result"
    }
   ],
   "source": [
    "# we have duplicate entries\n",
    "duplicates = merged.freebase_id.value_counts()\n",
    "duplicates = duplicates[duplicates > 1]\n",
    "duplicates"
   ]
  },
  {
   "cell_type": "code",
   "execution_count": 22,
   "metadata": {},
   "outputs": [],
   "source": [
    "df_imdb_rating = data_load.load_imdb_title_ratings()"
   ]
  },
  {
   "cell_type": "code",
   "execution_count": 23,
   "metadata": {},
   "outputs": [],
   "source": [
    "# keep the ones with the most imdb votes => most meaningful\n",
    "df = merged[merged.freebase_id.isin(list(duplicates.index))].merge(df_imdb_rating, on='tconst', how='left')"
   ]
  },
  {
   "cell_type": "code",
   "execution_count": 24,
   "metadata": {},
   "outputs": [],
   "source": [
    "dropping = []\n",
    "for id in list(duplicates.index):\n",
    "    dft = df[df.freebase_id == id]\n",
    "    ids = list(dft.sort_values('num_votes', ascending=False).iloc[1:].tconst.values)\n",
    "    dropping += ids"
   ]
  },
  {
   "cell_type": "code",
   "execution_count": 25,
   "metadata": {},
   "outputs": [],
   "source": [
    "merged = merged[~merged.tconst.isin(dropping)]"
   ]
  },
  {
   "cell_type": "code",
   "execution_count": 26,
   "metadata": {},
   "outputs": [
    {
     "data": {
      "text/html": [
       "<div>\n",
       "<style scoped>\n",
       "    .dataframe tbody tr th:only-of-type {\n",
       "        vertical-align: middle;\n",
       "    }\n",
       "\n",
       "    .dataframe tbody tr th {\n",
       "        vertical-align: top;\n",
       "    }\n",
       "\n",
       "    .dataframe thead th {\n",
       "        text-align: right;\n",
       "    }\n",
       "</style>\n",
       "<table border=\"1\" class=\"dataframe\">\n",
       "  <thead>\n",
       "    <tr style=\"text-align: right;\">\n",
       "      <th></th>\n",
       "      <th>wikipedia_movie_id</th>\n",
       "      <th>freebase_id</th>\n",
       "      <th>movie_name</th>\n",
       "      <th>release_date</th>\n",
       "      <th>revenue</th>\n",
       "      <th>runtime</th>\n",
       "      <th>languages</th>\n",
       "      <th>countries</th>\n",
       "      <th>genres_cmu</th>\n",
       "      <th>tconst</th>\n",
       "      <th>title_type</th>\n",
       "      <th>primary_title</th>\n",
       "      <th>is_adult</th>\n",
       "      <th>start_year</th>\n",
       "      <th>end_year</th>\n",
       "      <th>runtime_minutes</th>\n",
       "      <th>genres_imdb</th>\n",
       "    </tr>\n",
       "  </thead>\n",
       "  <tbody>\n",
       "    <tr>\n",
       "      <th>0</th>\n",
       "      <td>975900</td>\n",
       "      <td>/m/03vyhn</td>\n",
       "      <td>Ghosts of Mars</td>\n",
       "      <td>2001-08-24</td>\n",
       "      <td>14010832.0</td>\n",
       "      <td>98.0</td>\n",
       "      <td>[English Language]</td>\n",
       "      <td>[United States of America]</td>\n",
       "      <td>[Thriller, Science Fiction, Horror, Adventure,...</td>\n",
       "      <td>tt0228333</td>\n",
       "      <td>movie</td>\n",
       "      <td>Ghosts of Mars</td>\n",
       "      <td>0</td>\n",
       "      <td>2001</td>\n",
       "      <td>&lt;NA&gt;</td>\n",
       "      <td>98</td>\n",
       "      <td>[Action, Horror, Sci-Fi]</td>\n",
       "    </tr>\n",
       "    <tr>\n",
       "      <th>2</th>\n",
       "      <td>28463795</td>\n",
       "      <td>/m/0crgdbh</td>\n",
       "      <td>Brun bitter</td>\n",
       "      <td>1988-01-01</td>\n",
       "      <td>NaN</td>\n",
       "      <td>83.0</td>\n",
       "      <td>[Norwegian Language]</td>\n",
       "      <td>[Norway]</td>\n",
       "      <td>[Crime Fiction, Drama]</td>\n",
       "      <td>tt0094806</td>\n",
       "      <td>movie</td>\n",
       "      <td>Brun bitter</td>\n",
       "      <td>0</td>\n",
       "      <td>1988</td>\n",
       "      <td>&lt;NA&gt;</td>\n",
       "      <td>83</td>\n",
       "      <td>[Crime, Drama]</td>\n",
       "    </tr>\n",
       "    <tr>\n",
       "      <th>4</th>\n",
       "      <td>261236</td>\n",
       "      <td>/m/01mrr1</td>\n",
       "      <td>A Woman in Flames</td>\n",
       "      <td>1983-01-01</td>\n",
       "      <td>NaN</td>\n",
       "      <td>106.0</td>\n",
       "      <td>[German Language]</td>\n",
       "      <td>[Germany]</td>\n",
       "      <td>[Drama]</td>\n",
       "      <td>tt0083949</td>\n",
       "      <td>movie</td>\n",
       "      <td>A Woman in Flames</td>\n",
       "      <td>0</td>\n",
       "      <td>1983</td>\n",
       "      <td>&lt;NA&gt;</td>\n",
       "      <td>106</td>\n",
       "      <td>[Drama]</td>\n",
       "    </tr>\n",
       "    <tr>\n",
       "      <th>9</th>\n",
       "      <td>10408933</td>\n",
       "      <td>/m/02qc0j7</td>\n",
       "      <td>Alexander's Ragtime Band</td>\n",
       "      <td>1938-08-16</td>\n",
       "      <td>3600000.0</td>\n",
       "      <td>106.0</td>\n",
       "      <td>[English Language]</td>\n",
       "      <td>[United States of America]</td>\n",
       "      <td>[Musical, Comedy, Black-and-white]</td>\n",
       "      <td>tt0029852</td>\n",
       "      <td>movie</td>\n",
       "      <td>Alexander's Ragtime Band</td>\n",
       "      <td>0</td>\n",
       "      <td>1938</td>\n",
       "      <td>&lt;NA&gt;</td>\n",
       "      <td>106</td>\n",
       "      <td>[Drama, Music, Musical]</td>\n",
       "    </tr>\n",
       "    <tr>\n",
       "      <th>10</th>\n",
       "      <td>9997961</td>\n",
       "      <td>/m/06_y2j7</td>\n",
       "      <td>Contigo y aquí</td>\n",
       "      <td>1974-01-01</td>\n",
       "      <td>NaN</td>\n",
       "      <td>0.0</td>\n",
       "      <td>[Spanish Language]</td>\n",
       "      <td>[Argentina]</td>\n",
       "      <td>[Musical, Drama, Comedy]</td>\n",
       "      <td>tt0200545</td>\n",
       "      <td>movie</td>\n",
       "      <td>Contigo y aquí</td>\n",
       "      <td>0</td>\n",
       "      <td>1974</td>\n",
       "      <td>&lt;NA&gt;</td>\n",
       "      <td>70</td>\n",
       "      <td>[Comedy, Drama, Musical]</td>\n",
       "    </tr>\n",
       "  </tbody>\n",
       "</table>\n",
       "</div>"
      ],
      "text/plain": [
       "    wikipedia_movie_id freebase_id                movie_name release_date  \\\n",
       "0               975900   /m/03vyhn            Ghosts of Mars   2001-08-24   \n",
       "2             28463795  /m/0crgdbh               Brun bitter   1988-01-01   \n",
       "4               261236   /m/01mrr1         A Woman in Flames   1983-01-01   \n",
       "9             10408933  /m/02qc0j7  Alexander's Ragtime Band   1938-08-16   \n",
       "10             9997961  /m/06_y2j7            Contigo y aquí   1974-01-01   \n",
       "\n",
       "       revenue  runtime             languages                   countries  \\\n",
       "0   14010832.0     98.0    [English Language]  [United States of America]   \n",
       "2          NaN     83.0  [Norwegian Language]                    [Norway]   \n",
       "4          NaN    106.0     [German Language]                   [Germany]   \n",
       "9    3600000.0    106.0    [English Language]  [United States of America]   \n",
       "10         NaN      0.0    [Spanish Language]                 [Argentina]   \n",
       "\n",
       "                                           genres_cmu     tconst title_type  \\\n",
       "0   [Thriller, Science Fiction, Horror, Adventure,...  tt0228333      movie   \n",
       "2                              [Crime Fiction, Drama]  tt0094806      movie   \n",
       "4                                             [Drama]  tt0083949      movie   \n",
       "9                  [Musical, Comedy, Black-and-white]  tt0029852      movie   \n",
       "10                           [Musical, Drama, Comedy]  tt0200545      movie   \n",
       "\n",
       "               primary_title  is_adult  start_year  end_year  runtime_minutes  \\\n",
       "0             Ghosts of Mars         0        2001      <NA>               98   \n",
       "2                Brun bitter         0        1988      <NA>               83   \n",
       "4          A Woman in Flames         0        1983      <NA>              106   \n",
       "9   Alexander's Ragtime Band         0        1938      <NA>              106   \n",
       "10            Contigo y aquí         0        1974      <NA>               70   \n",
       "\n",
       "                 genres_imdb  \n",
       "0   [Action, Horror, Sci-Fi]  \n",
       "2             [Crime, Drama]  \n",
       "4                    [Drama]  \n",
       "9    [Drama, Music, Musical]  \n",
       "10  [Comedy, Drama, Musical]  "
      ]
     },
     "execution_count": 26,
     "metadata": {},
     "output_type": "execute_result"
    }
   ],
   "source": [
    "merged.head()"
   ]
  },
  {
   "cell_type": "code",
   "execution_count": 27,
   "metadata": {},
   "outputs": [],
   "source": [
    "merged.to_pickle('../data/generated/movie_metadata.pkl')"
   ]
  }
 ],
 "metadata": {
  "kernelspec": {
   "display_name": "Python 3 (ipykernel)",
   "language": "python",
   "name": "python3"
  },
  "language_info": {
   "codemirror_mode": {
    "name": "ipython",
    "version": 3
   },
   "file_extension": ".py",
   "mimetype": "text/x-python",
   "name": "python",
   "nbconvert_exporter": "python",
   "pygments_lexer": "ipython3",
   "version": "3.10.4"
  },
  "vscode": {
   "interpreter": {
    "hash": "a665b5d41d17b532ea9890333293a1b812fa0b73c9c25c950b3cedf1bebd0438"
   }
  }
 },
 "nbformat": 4,
 "nbformat_minor": 2
}
