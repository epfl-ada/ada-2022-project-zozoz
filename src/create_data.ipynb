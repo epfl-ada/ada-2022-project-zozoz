{
 "cells": [
  {
   "cell_type": "code",
   "execution_count": 1,
   "metadata": {},
   "outputs": [],
   "source": [
    "%load_ext autoreload\n",
    "%autoreload 2"
   ]
  },
  {
   "cell_type": "code",
   "execution_count": 2,
   "metadata": {},
   "outputs": [],
   "source": [
    "import pandas as pd\n",
    "import numpy as np"
   ]
  },
  {
   "cell_type": "code",
   "execution_count": 3,
   "metadata": {},
   "outputs": [],
   "source": [
    "from utils import data_load"
   ]
  },
  {
   "cell_type": "markdown",
   "metadata": {},
   "source": [
    "### Combine CMU with IMDB"
   ]
  },
  {
   "cell_type": "code",
   "execution_count": 4,
   "metadata": {},
   "outputs": [],
   "source": [
    "df_imdb = data_load.load_imdb_title_basics()"
   ]
  },
  {
   "cell_type": "code",
   "execution_count": 5,
   "metadata": {},
   "outputs": [],
   "source": [
    "df_imdb = df_imdb[df_imdb.title_type == \"movie\"]"
   ]
  },
  {
   "cell_type": "code",
   "execution_count": 6,
   "metadata": {},
   "outputs": [],
   "source": [
    "df_cmu_movie = data_load.load_cmu_movie_metadata()"
   ]
  },
  {
   "cell_type": "code",
   "execution_count": 7,
   "metadata": {},
   "outputs": [],
   "source": [
    "df_imdb.drop('original_title', axis='columns', inplace=True)"
   ]
  },
  {
   "cell_type": "code",
   "execution_count": 8,
   "metadata": {},
   "outputs": [],
   "source": [
    "# we merge on the titles name (problem: names not unique and maybe spelling errors)\n",
    "merged = df_cmu_movie.merge(df_imdb, left_on='movie_name', right_on='primary_title', how='left', suffixes=('_cmu', '_imdb'))"
   ]
  },
  {
   "cell_type": "code",
   "execution_count": 9,
   "metadata": {},
   "outputs": [],
   "source": [
    "merged = merged[merged.release_date.apply(lambda r: r.year) == merged.start_year]"
   ]
  },
  {
   "cell_type": "code",
   "execution_count": 10,
   "metadata": {},
   "outputs": [
    {
     "data": {
      "text/plain": [
       "/m/0h1z21s    5\n",
       "/m/064p159    4\n",
       "/m/0bbx0_     4\n",
       "/m/09vq1kn    4\n",
       "/m/03cg7t2    3\n",
       "             ..\n",
       "/m/03cb5j0    2\n",
       "/m/04g0gvz    2\n",
       "/m/07scm0y    2\n",
       "/m/06w9zfg    2\n",
       "/m/09s60jk    2\n",
       "Name: freebase_id, Length: 465, dtype: Int64"
      ]
     },
     "execution_count": 10,
     "metadata": {},
     "output_type": "execute_result"
    }
   ],
   "source": [
    "# we have duplicate entries\n",
    "duplicates = merged.freebase_id.value_counts()\n",
    "duplicates = duplicates[duplicates > 1]\n",
    "duplicates"
   ]
  },
  {
   "cell_type": "code",
   "execution_count": 11,
   "metadata": {},
   "outputs": [],
   "source": [
    "df_imdb_rating = data_load.load_imdb_title_ratings()"
   ]
  },
  {
   "cell_type": "code",
   "execution_count": 12,
   "metadata": {},
   "outputs": [],
   "source": [
    "# keep the ones with the most imdb votes => most meaningful\n",
    "df = merged[merged.freebase_id.isin(list(duplicates.index))].merge(df_imdb_rating, on='tconst', how='left')"
   ]
  },
  {
   "cell_type": "code",
   "execution_count": 13,
   "metadata": {},
   "outputs": [],
   "source": [
    "dropping = []\n",
    "for id in list(duplicates.index):\n",
    "    dft = df[df.freebase_id == id]\n",
    "    ids = list(dft.sort_values('num_votes', ascending=False).iloc[1:].tconst.values)\n",
    "    dropping += ids"
   ]
  },
  {
   "cell_type": "code",
   "execution_count": 14,
   "metadata": {},
   "outputs": [],
   "source": [
    "merged = merged[~merged.tconst.isin(dropping)]"
   ]
  },
  {
   "cell_type": "code",
   "execution_count": 15,
   "metadata": {},
   "outputs": [
    {
     "data": {
      "text/html": [
       "<div>\n",
       "<style scoped>\n",
       "    .dataframe tbody tr th:only-of-type {\n",
       "        vertical-align: middle;\n",
       "    }\n",
       "\n",
       "    .dataframe tbody tr th {\n",
       "        vertical-align: top;\n",
       "    }\n",
       "\n",
       "    .dataframe thead th {\n",
       "        text-align: right;\n",
       "    }\n",
       "</style>\n",
       "<table border=\"1\" class=\"dataframe\">\n",
       "  <thead>\n",
       "    <tr style=\"text-align: right;\">\n",
       "      <th></th>\n",
       "      <th>wikipedia_movie_id</th>\n",
       "      <th>freebase_id</th>\n",
       "      <th>movie_name</th>\n",
       "      <th>release_date</th>\n",
       "      <th>revenue</th>\n",
       "      <th>runtime</th>\n",
       "      <th>languages</th>\n",
       "      <th>countries</th>\n",
       "      <th>genres_cmu</th>\n",
       "      <th>tconst</th>\n",
       "      <th>title_type</th>\n",
       "      <th>primary_title</th>\n",
       "      <th>is_adult</th>\n",
       "      <th>start_year</th>\n",
       "      <th>end_year</th>\n",
       "      <th>runtime_minutes</th>\n",
       "      <th>genres_imdb</th>\n",
       "    </tr>\n",
       "  </thead>\n",
       "  <tbody>\n",
       "    <tr>\n",
       "      <th>0</th>\n",
       "      <td>975900</td>\n",
       "      <td>/m/03vyhn</td>\n",
       "      <td>Ghosts of Mars</td>\n",
       "      <td>2001-08-24</td>\n",
       "      <td>14010832.0</td>\n",
       "      <td>98.0</td>\n",
       "      <td>[English Language]</td>\n",
       "      <td>[United States of America]</td>\n",
       "      <td>[Thriller, Science Fiction, Horror, Adventure,...</td>\n",
       "      <td>tt0228333</td>\n",
       "      <td>movie</td>\n",
       "      <td>Ghosts of Mars</td>\n",
       "      <td>0</td>\n",
       "      <td>2001</td>\n",
       "      <td>&lt;NA&gt;</td>\n",
       "      <td>98</td>\n",
       "      <td>[Action, Horror, Sci-Fi]</td>\n",
       "    </tr>\n",
       "    <tr>\n",
       "      <th>2</th>\n",
       "      <td>28463795</td>\n",
       "      <td>/m/0crgdbh</td>\n",
       "      <td>Brun bitter</td>\n",
       "      <td>1988-01-01</td>\n",
       "      <td>NaN</td>\n",
       "      <td>83.0</td>\n",
       "      <td>[Norwegian Language]</td>\n",
       "      <td>[Norway]</td>\n",
       "      <td>[Crime Fiction, Drama]</td>\n",
       "      <td>tt0094806</td>\n",
       "      <td>movie</td>\n",
       "      <td>Brun bitter</td>\n",
       "      <td>0</td>\n",
       "      <td>1988</td>\n",
       "      <td>&lt;NA&gt;</td>\n",
       "      <td>83</td>\n",
       "      <td>[Crime, Drama]</td>\n",
       "    </tr>\n",
       "    <tr>\n",
       "      <th>4</th>\n",
       "      <td>261236</td>\n",
       "      <td>/m/01mrr1</td>\n",
       "      <td>A Woman in Flames</td>\n",
       "      <td>1983-01-01</td>\n",
       "      <td>NaN</td>\n",
       "      <td>106.0</td>\n",
       "      <td>[German Language]</td>\n",
       "      <td>[Germany]</td>\n",
       "      <td>[Drama]</td>\n",
       "      <td>tt0083949</td>\n",
       "      <td>movie</td>\n",
       "      <td>A Woman in Flames</td>\n",
       "      <td>0</td>\n",
       "      <td>1983</td>\n",
       "      <td>&lt;NA&gt;</td>\n",
       "      <td>106</td>\n",
       "      <td>[Drama]</td>\n",
       "    </tr>\n",
       "    <tr>\n",
       "      <th>9</th>\n",
       "      <td>10408933</td>\n",
       "      <td>/m/02qc0j7</td>\n",
       "      <td>Alexander's Ragtime Band</td>\n",
       "      <td>1938-08-16</td>\n",
       "      <td>3600000.0</td>\n",
       "      <td>106.0</td>\n",
       "      <td>[English Language]</td>\n",
       "      <td>[United States of America]</td>\n",
       "      <td>[Musical, Comedy, Black-and-white]</td>\n",
       "      <td>tt0029852</td>\n",
       "      <td>movie</td>\n",
       "      <td>Alexander's Ragtime Band</td>\n",
       "      <td>0</td>\n",
       "      <td>1938</td>\n",
       "      <td>&lt;NA&gt;</td>\n",
       "      <td>106</td>\n",
       "      <td>[Drama, Music, Musical]</td>\n",
       "    </tr>\n",
       "    <tr>\n",
       "      <th>10</th>\n",
       "      <td>9997961</td>\n",
       "      <td>/m/06_y2j7</td>\n",
       "      <td>Contigo y aquí</td>\n",
       "      <td>1974-01-01</td>\n",
       "      <td>NaN</td>\n",
       "      <td>0.0</td>\n",
       "      <td>[Spanish Language]</td>\n",
       "      <td>[Argentina]</td>\n",
       "      <td>[Musical, Drama, Comedy]</td>\n",
       "      <td>tt0200545</td>\n",
       "      <td>movie</td>\n",
       "      <td>Contigo y aquí</td>\n",
       "      <td>0</td>\n",
       "      <td>1974</td>\n",
       "      <td>&lt;NA&gt;</td>\n",
       "      <td>70</td>\n",
       "      <td>[Comedy, Drama, Musical]</td>\n",
       "    </tr>\n",
       "  </tbody>\n",
       "</table>\n",
       "</div>"
      ],
      "text/plain": [
       "    wikipedia_movie_id freebase_id                movie_name release_date  \\\n",
       "0               975900   /m/03vyhn            Ghosts of Mars   2001-08-24   \n",
       "2             28463795  /m/0crgdbh               Brun bitter   1988-01-01   \n",
       "4               261236   /m/01mrr1         A Woman in Flames   1983-01-01   \n",
       "9             10408933  /m/02qc0j7  Alexander's Ragtime Band   1938-08-16   \n",
       "10             9997961  /m/06_y2j7            Contigo y aquí   1974-01-01   \n",
       "\n",
       "       revenue  runtime             languages                   countries  \\\n",
       "0   14010832.0     98.0    [English Language]  [United States of America]   \n",
       "2          NaN     83.0  [Norwegian Language]                    [Norway]   \n",
       "4          NaN    106.0     [German Language]                   [Germany]   \n",
       "9    3600000.0    106.0    [English Language]  [United States of America]   \n",
       "10         NaN      0.0    [Spanish Language]                 [Argentina]   \n",
       "\n",
       "                                           genres_cmu     tconst title_type  \\\n",
       "0   [Thriller, Science Fiction, Horror, Adventure,...  tt0228333      movie   \n",
       "2                              [Crime Fiction, Drama]  tt0094806      movie   \n",
       "4                                             [Drama]  tt0083949      movie   \n",
       "9                  [Musical, Comedy, Black-and-white]  tt0029852      movie   \n",
       "10                           [Musical, Drama, Comedy]  tt0200545      movie   \n",
       "\n",
       "               primary_title  is_adult  start_year  end_year  runtime_minutes  \\\n",
       "0             Ghosts of Mars         0        2001      <NA>               98   \n",
       "2                Brun bitter         0        1988      <NA>               83   \n",
       "4          A Woman in Flames         0        1983      <NA>              106   \n",
       "9   Alexander's Ragtime Band         0        1938      <NA>              106   \n",
       "10            Contigo y aquí         0        1974      <NA>               70   \n",
       "\n",
       "                 genres_imdb  \n",
       "0   [Action, Horror, Sci-Fi]  \n",
       "2             [Crime, Drama]  \n",
       "4                    [Drama]  \n",
       "9    [Drama, Music, Musical]  \n",
       "10  [Comedy, Drama, Musical]  "
      ]
     },
     "execution_count": 15,
     "metadata": {},
     "output_type": "execute_result"
    }
   ],
   "source": [
    "merged.head()"
   ]
  },
  {
   "cell_type": "code",
   "execution_count": 16,
   "metadata": {},
   "outputs": [],
   "source": [
    "merged.to_pickle('../data/custom/movie_metadata.pkl')"
   ]
  }
 ],
 "metadata": {
  "kernelspec": {
   "display_name": "Python 3.9.15 64-bit",
   "language": "python",
   "name": "python3"
  },
  "language_info": {
   "codemirror_mode": {
    "name": "ipython",
    "version": 3
   },
   "file_extension": ".py",
   "mimetype": "text/x-python",
   "name": "python",
   "nbconvert_exporter": "python",
   "pygments_lexer": "ipython3",
   "version": "3.9.15"
  },
  "orig_nbformat": 4,
  "vscode": {
   "interpreter": {
    "hash": "a665b5d41d17b532ea9890333293a1b812fa0b73c9c25c950b3cedf1bebd0438"
   }
  }
 },
 "nbformat": 4,
 "nbformat_minor": 2
}
