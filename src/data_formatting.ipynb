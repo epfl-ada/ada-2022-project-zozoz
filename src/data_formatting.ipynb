{
 "cells": [
  {
   "cell_type": "markdown",
   "id": "d4f0c4c2",
   "metadata": {},
   "source": [
    "# Data Final Formatting\n",
    "\n",
    "In this notebook we will perform the final data pre-processing steps such as data integration, and features parsing and filtering."
   ]
  },
  {
   "cell_type": "markdown",
   "id": "afa63b7a",
   "metadata": {},
   "source": [
    "## Packages"
   ]
  },
  {
   "cell_type": "code",
   "execution_count": 1,
   "id": "e8c04a8f",
   "metadata": {},
   "outputs": [],
   "source": [
    "import numpy as np\n",
    "import matplotlib as plt\n",
    "import seaborn as sns\n",
    "import pandas as pd\n",
    "from utils import data_load"
   ]
  },
  {
   "cell_type": "markdown",
   "id": "0b6bbcbc",
   "metadata": {},
   "source": [
    "## Load Data"
   ]
  },
  {
   "cell_type": "code",
   "execution_count": 2,
   "id": "a133993d",
   "metadata": {},
   "outputs": [],
   "source": [
    "country_df = pd.read_pickle(\"../data/generated/country_df.pkl\")\n",
    "comes_from_df = pd.read_pickle(\"../data/generated/comes_from_df.pkl\")\n",
    "genre_df = pd.read_pickle(\"../data/generated/genre_df.pkl\")\n",
    "is_of_type_df = pd.read_pickle(\"../data/generated/is_of_type_df.pkl\")\n",
    "language_df = pd.read_pickle(\"../data/generated/language_df.pkl\")\n",
    "spoken_languages_df = pd.read_pickle(\"../data/generated/spoken_languages_df.pkl\")\n",
    "character_df = pd.read_pickle(\"../data/generated/character_df.pkl\")\n",
    "actor_df = pd.read_pickle(\"../data/generated/actor_df.pkl\")\n",
    "movie_df = pd.read_pickle(\"../data/generated/movie_df.pkl\")\n",
    "belongs_to_df = pd.read_pickle(\"../data/generated/belongs_to_df.pkl\")\n",
    "play_df = pd.read_pickle(\"../data/generated/play_df.pkl\")\n",
    "appears_in_df = pd.read_pickle(\"../data/generated/appears_in_df.pkl\")\n",
    "wikipedia_imdb_mapping_table = pd.read_pickle(\"../data/generated/wikipedia_imdb_mapping_df.pkl\")"
   ]
  },
  {
   "cell_type": "markdown",
   "id": "10337279",
   "metadata": {},
   "source": [
    "## Helpers"
   ]
  },
  {
   "cell_type": "code",
   "execution_count": 3,
   "id": "e8735454",
   "metadata": {},
   "outputs": [],
   "source": [
    "COUNTRY_MAPPING = {\"west germany\": \"germany\", \"weimar republic\": \"germany\",\n",
    "\"german democratic republic\": \"germany\",\n",
    "\"nazi germany\": \"germany\", \"german language\": \"germany\",\n",
    "\"soviet union\": \"russia\", \"soviet occupation zone\": \"russia\",\n",
    "\"socialist federal republic of yugoslavia\": \"yugoslavia\", \n",
    "\"federal republic of yugoslavia\" : \"yugoslavia\",\n",
    "\"uzbek ssr\" : \"uzbekistan\",\n",
    "\"georgian ssr\": \"georgia\",\n",
    "\"kingdom of great britain\": \"united kingdom\", \"northern ireland\": \"united kingdom\",\n",
    "\"wales\": \"united kingdom\", \"england\": \"united kingdom\", \"scotland\": \"united kingdom\",\n",
    "\"serbia and montenegro\" : \"serbia and montenegro\",\n",
    "\"kingdom of italy\": \"italy\",\n",
    "\"mandatory palestine\": \"palestinian territories\",\n",
    "\"ukranian ssr\": \"ukraine\", \"ukrainian ssr\": \"ukraine\",\n",
    "\"malayalam language\": \"india\",\n",
    "\"slovak republic\" : \"slovakia\", \"republic of china\": \"china\"}\n",
    "\n",
    "LANGUAGE_MAPPING = {\n",
    "    \"american english\": \"english\",\n",
    "    \"american sign\": \"sign\",\n",
    "    \"assyrian neo-aramaic\": \"assyrian\",\n",
    "    \"australian aboriginal pidgin english\": \"english\",\n",
    "    \"australian english\": \"english\",\n",
    "    \"𐐾𐐲𐑉𐑋𐑌𐐲\": \"tuu\",\n",
    "    \"thai, northeastern\": \"thai\",\n",
    "    \"south african english\": \"english\",\n",
    "    \"standard cantonese\": \"cantonese\",\n",
    "    \"standard mandarin\": \"mandarin\",\n",
    "    \"standard tibetan\": \"tibetan\",\n",
    "    \"mandarin chinese\": \"mandarin\",\n",
    "    \"khmer, central\": \"khmer\",\n",
    "    \"jamaican creole english\": \"english\",\n",
    "    \"indian english\": \"english\",\n",
    "    \"french sign\": \"sign\",\n",
    "    \"france\": \"french\",\n",
    "    \"farsi, western\": \"farsi\",\n",
    "    \"egyptian, ancient\": \"ancient egyptian\",\n",
    "}"
   ]
  },
  {
   "cell_type": "code",
   "execution_count": 4,
   "id": "2779698b",
   "metadata": {},
   "outputs": [],
   "source": [
    "MOVIE_ID_COL_NAME = \"movie_id\"\n",
    "CHARACTER_ID_COL_NAME = \"character_id\"\n",
    "ACTOR_ID_COL_NAME = \"actor_id\"\n",
    "IMDB_ID_COL_NAME = \"tconst\"\n",
    "AVG_RATING_COL_NAME = \"average_rating\"\n",
    "NUM_VOTES_COL_NAME = \"num_votes\"\n",
    "DIRECTOR_ID_COL_NAME = \"director_id\"\n",
    "\n",
    "def filter_non_imdb_movies(relationship_dataframe: pd.DataFrame, feature_dataframe: pd.DataFrame,\n",
    "      movie_ids: set, feature_mapping=dict()) -> tuple:\n",
    "    \"\"\"\n",
    "    Remove movies and associated features that are not present in the IMDB database.\n",
    "    \n",
    "    :param relationship_dataframe: Pandas DataFrame with the relationship between\n",
    "                                    the features and the movies.\n",
    "    :param feature_dataframe: Pandas DataFrame with the feature data.\n",
    "    :param movie_ids: Set of movie ids present in the IMDB database.\n",
    "    :param feature_mapping: Mapping of features name for sparser representation.\n",
    "    \n",
    "    :return: Formated and filtered relationship and feature dataframes.\n",
    "    \n",
    "    \"\"\"\n",
    "    feature_name = feature_dataframe.index.name\n",
    "    new_relationship_df = relationship_dataframe[\n",
    "        relationship_dataframe[MOVIE_ID_COL_NAME].isin(movie_ids)\n",
    "    ].copy().reset_index(drop=True)\n",
    "    new_relationship_df[feature_name] = new_relationship_df[\n",
    "        feature_name].apply(lambda f: feature_mapping[f] if f in feature_mapping else f)\n",
    "    new_relationship_df = new_relationship_df.drop_duplicates().reset_index(drop=True)\n",
    "    features_set = set(new_relationship_df[feature_name])\n",
    "    new_feature_df = pd.DataFrame(features_set,columns=[feature_name]).set_index(feature_name)\n",
    "    return new_relationship_df, new_feature_df.sort_index()"
   ]
  },
  {
   "cell_type": "markdown",
   "id": "764c1d0f",
   "metadata": {},
   "source": [
    "## Integrate Ratings"
   ]
  },
  {
   "cell_type": "code",
   "execution_count": 5,
   "id": "0c3bca8b",
   "metadata": {},
   "outputs": [],
   "source": [
    "available_imdb_ids = set(wikipedia_imdb_mapping_table[IMDB_ID_COL_NAME])\n",
    "available_movie_ids = set(wikipedia_imdb_mapping_table.index)"
   ]
  },
  {
   "cell_type": "code",
   "execution_count": 6,
   "id": "3ddec49e",
   "metadata": {},
   "outputs": [],
   "source": [
    "imdb_ratings = data_load.load_imdb_title_ratings()\n",
    "imdb_ratings = imdb_ratings[\n",
    "    imdb_ratings[IMDB_ID_COL_NAME].isin(available_imdb_ids)].copy().reset_index(drop=True)"
   ]
  },
  {
   "cell_type": "code",
   "execution_count": 7,
   "id": "29477287",
   "metadata": {},
   "outputs": [],
   "source": [
    "new_movie_df = movie_df[movie_df.index.isin(available_movie_ids)].copy()\n",
    "new_movie_df = new_movie_df.merge(wikipedia_imdb_mapping_table,\n",
    "                                  how=\"left\",on=MOVIE_ID_COL_NAME).reset_index()\n",
    "new_movie_df = new_movie_df.merge(imdb_ratings,\n",
    "                                  how=\"left\",on=IMDB_ID_COL_NAME).drop(\n",
    "                                [IMDB_ID_COL_NAME],axis=1)\n",
    "new_movie_df = new_movie_df[~new_movie_df[AVG_RATING_COL_NAME].isna()]\n",
    "new_movie_df = new_movie_df.set_index(MOVIE_ID_COL_NAME)"
   ]
  },
  {
   "cell_type": "markdown",
   "id": "ea76346d",
   "metadata": {},
   "source": [
    "## Filter data for movies in the IMDB database"
   ]
  },
  {
   "cell_type": "code",
   "execution_count": 8,
   "id": "38f38129",
   "metadata": {},
   "outputs": [],
   "source": [
    "new_target_movie_ids = set(new_movie_df.index)"
   ]
  },
  {
   "cell_type": "code",
   "execution_count": 9,
   "id": "afed2724",
   "metadata": {},
   "outputs": [],
   "source": [
    "new_comes_from_df, new_country_df = filter_non_imdb_movies(comes_from_df,\n",
    "                                    country_df,new_target_movie_ids,\n",
    "                                    COUNTRY_MAPPING)\n",
    "new_is_of_type_df, new_genre_df = filter_non_imdb_movies(is_of_type_df,\n",
    "                                    genre_df,new_target_movie_ids)\n",
    "new_spoken_languages_df, new_language_df = filter_non_imdb_movies(spoken_languages_df,\n",
    "                                    language_df,new_target_movie_ids,\n",
    "                                    LANGUAGE_MAPPING)"
   ]
  },
  {
   "cell_type": "code",
   "execution_count": 10,
   "id": "f2a48812",
   "metadata": {},
   "outputs": [],
   "source": [
    "new_belongs_to_df = belongs_to_df[belongs_to_df[MOVIE_ID_COL_NAME].isin(new_target_movie_ids)]\n",
    "new_appears_in_df = appears_in_df[appears_in_df[MOVIE_ID_COL_NAME].isin(new_target_movie_ids)]"
   ]
  },
  {
   "cell_type": "code",
   "execution_count": 11,
   "id": "6fba2a4c",
   "metadata": {},
   "outputs": [],
   "source": [
    "new_character_df = character_df[character_df.index.isin(set(new_belongs_to_df[CHARACTER_ID_COL_NAME]))]\n",
    "new_actor_df = actor_df[actor_df.index.isin(set(new_appears_in_df[ACTOR_ID_COL_NAME]))]"
   ]
  },
  {
   "cell_type": "code",
   "execution_count": 12,
   "id": "e24b8663",
   "metadata": {},
   "outputs": [],
   "source": [
    "new_play_df = play_df[play_df[ACTOR_ID_COL_NAME].isin(set(new_actor_df.index))]\n",
    "new_play_df = new_play_df[new_play_df[CHARACTER_ID_COL_NAME].isin(set(new_character_df.index))\n",
    "                         ].reset_index(drop=True)"
   ]
  },
  {
   "cell_type": "markdown",
   "id": "9282307a",
   "metadata": {},
   "source": [
    "## Integrate Directors"
   ]
  },
  {
   "cell_type": "code",
   "execution_count": 13,
   "id": "d2fc5ec0",
   "metadata": {},
   "outputs": [],
   "source": [
    "director_writer_df = data_load.load_imdb_title_crew()\n",
    "director_writer_df = director_writer_df[director_writer_df[IMDB_ID_COL_NAME].isin(available_imdb_ids)]"
   ]
  },
  {
   "cell_type": "code",
   "execution_count": 14,
   "id": "8cfc7f2c",
   "metadata": {},
   "outputs": [],
   "source": [
    "raw_imdb_directors_df = wikipedia_imdb_mapping_table.reset_index()\n",
    "raw_imdb_directors_df = raw_imdb_directors_df[raw_imdb_directors_df[\"movie_id\"].isin(set(new_movie_df.index))]\n",
    "raw_imdb_directors_df = raw_imdb_directors_df.merge(director_writer_df,how=\"left\",on=IMDB_ID_COL_NAME)\n",
    "raw_imdb_directors_df = raw_imdb_directors_df[~raw_imdb_directors_df[\"directors\"].isna()]\n",
    "movie_director_list = []\n",
    "for row_id, row_data in raw_imdb_directors_df[[MOVIE_ID_COL_NAME,\"directors\"]].iterrows():\n",
    "    idx = row_data[MOVIE_ID_COL_NAME]\n",
    "    director_list = row_data[\"directors\"]\n",
    "    for d in director_list:\n",
    "        movie_director_list.append((idx,d))\n",
    "movie_director_df = pd.DataFrame(movie_director_list,\n",
    "                                 columns=[MOVIE_ID_COL_NAME,DIRECTOR_ID_COL_NAME])"
   ]
  },
  {
   "cell_type": "code",
   "execution_count": 18,
   "id": "80b100ff",
   "metadata": {},
   "outputs": [],
   "source": [
    "people_df = data_load.load_imdb_name_basics()\n",
    "director_df = people_df[people_df[\"nconst\"].isin(set(movie_director_df[DIRECTOR_ID_COL_NAME]))]"
   ]
  },
  {
   "cell_type": "code",
   "execution_count": 19,
   "id": "3847cbb4",
   "metadata": {},
   "outputs": [],
   "source": [
    "director_columns = list(director_df.columns)\n",
    "director_columns[0] = DIRECTOR_ID_COL_NAME\n",
    "director_df.columns = director_columns\n",
    "director_df = director_df.set_index(DIRECTOR_ID_COL_NAME)"
   ]
  },
  {
   "cell_type": "markdown",
   "id": "a1facd63",
   "metadata": {},
   "source": [
    "## Save Data"
   ]
  },
  {
   "cell_type": "code",
   "execution_count": 21,
   "id": "0de538ce",
   "metadata": {},
   "outputs": [],
   "source": [
    "new_country_df.to_pickle(\"../data/post_processing/country_df.pkl\")\n",
    "new_comes_from_df.to_pickle(\"../data/post_processing/comes_from_df.pkl\")\n",
    "new_genre_df.to_pickle(\"../data/post_processing/genre_df.pkl\")\n",
    "new_is_of_type_df.to_pickle(\"../data/post_processing/is_of_type_df.pkl\")\n",
    "new_language_df.to_pickle(\"../data/post_processing/language_df.pkl\")\n",
    "new_spoken_languages_df.to_pickle(\"../data/post_processing/spoken_languages_df.pkl\")\n",
    "new_character_df.to_pickle(\"../data/post_processing/character_df.pkl\")\n",
    "new_actor_df.to_pickle(\"../data/post_processing/actor_df.pkl\")\n",
    "new_movie_df.to_pickle(\"../data/post_processing/movie_df.pkl\")\n",
    "new_belongs_to_df.to_pickle(\"../data/post_processing/belongs_to_df.pkl\")\n",
    "new_play_df.to_pickle(\"../data/post_processing/play_df.pkl\")\n",
    "new_appears_in_df.to_pickle(\"../data/post_processing/appears_in_df.pkl\")\n",
    "movie_director_df.to_pickle(\"../data/post_processing/is_directed_by_df.pkl\")\n",
    "director_df.to_pickle(\"../data/post_processing/director_df.pkl\")"
   ]
  },
  {
   "cell_type": "markdown",
   "id": "97ce2635",
   "metadata": {},
   "source": [
    "---"
   ]
  }
 ],
 "metadata": {
  "kernelspec": {
   "display_name": "Python 3 (ipykernel)",
   "language": "python",
   "name": "python3"
  },
  "language_info": {
   "codemirror_mode": {
    "name": "ipython",
    "version": 3
   },
   "file_extension": ".py",
   "mimetype": "text/x-python",
   "name": "python",
   "nbconvert_exporter": "python",
   "pygments_lexer": "ipython3",
   "version": "3.10.4"
  }
 },
 "nbformat": 4,
 "nbformat_minor": 5
}
