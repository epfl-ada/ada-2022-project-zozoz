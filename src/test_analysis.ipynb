{
 "cells": [
  {
   "cell_type": "code",
   "execution_count": 4,
   "id": "3eb793c8",
   "metadata": {},
   "outputs": [],
   "source": [
    "# Importing neccessary libraries\n",
    "import pandas as pd\n",
    "import glob\n",
    "import numpy as np\n",
    "import matplotlib.pyplot as plt\n",
    "import seaborn as sns\n",
    "import math\n",
    "from datetime import datetime, date, time\n",
    "%matplotlib inline"
   ]
  },
  {
   "cell_type": "code",
   "execution_count": 5,
   "id": "c19a2838",
   "metadata": {},
   "outputs": [],
   "source": [
    "# Loading formatted data\n",
    "data_folder = '../data/Tables/'\n",
    "actor_df = pd.read_pickle(data_folder + 'actor_df.pkl')\n",
    "appears_in_df = pd.read_pickle(data_folder + 'appears_in_df.pkl')\n",
    "belongs_to_df = pd.read_pickle(data_folder + 'belongs_to_df.pkl')\n",
    "character_df = pd.read_pickle(data_folder + 'character_df.pkl')\n",
    "comes_from_df = pd.read_pickle(data_folder + 'comes_from_df.pkl')\n",
    "country_df = pd.read_pickle(data_folder + 'country_df.pkl')\n",
    "genre_df = pd.read_pickle(data_folder + 'genre_df.pkl')\n",
    "is_of_type_df = pd.read_pickle(data_folder + 'is_of_type_df.pkl')\n",
    "language_df = pd.read_pickle(data_folder + 'language_df.pkl')\n",
    "movie_df = pd.read_pickle(data_folder + 'movie_df.pkl')\n",
    "play_df = pd.read_pickle(data_folder + 'play_df.pkl')\n",
    "spoken_languages_df = pd.read_pickle(data_folder + 'spoken_languages_df.pkl')"
   ]
  },
  {
   "cell_type": "code",
   "execution_count": 6,
   "id": "587697d5",
   "metadata": {},
   "outputs": [],
   "source": [
    "movie_df['release_year'] = pd.to_datetime(movie_df.release_date, errors='coerce') # If missing day and month, -> YYYY-01-01"
   ]
  },
  {
   "cell_type": "code",
   "execution_count": 7,
   "id": "09e27ebe",
   "metadata": {},
   "outputs": [],
   "source": [
    "movie_df['release_year'] = movie_df.release_year.dt.strftime('%Y') # format date to year for seaborn\n",
    "movie_df = movie_df.dropna(subset=['release_year']) # drop missing year release\n",
    "movie_df = movie_df.sort_values(by='release_year') # sort by year"
   ]
  },
  {
   "cell_type": "code",
   "execution_count": 8,
   "id": "13810ccd",
   "metadata": {},
   "outputs": [],
   "source": [
    "movie_actor = pd.merge(pd.merge(actor_df, appears_in_df, on='actor_id'), movie_df, on='movie_id') # 436'509 actors\n",
    "movie_actor = movie_actor.sort_values('release_year')"
   ]
  },
  {
   "cell_type": "code",
   "execution_count": 9,
   "id": "439188cf",
   "metadata": {},
   "outputs": [
    {
     "data": {
      "text/html": [
       "<div>\n",
       "<style scoped>\n",
       "    .dataframe tbody tr th:only-of-type {\n",
       "        vertical-align: middle;\n",
       "    }\n",
       "\n",
       "    .dataframe tbody tr th {\n",
       "        vertical-align: top;\n",
       "    }\n",
       "\n",
       "    .dataframe thead th {\n",
       "        text-align: right;\n",
       "    }\n",
       "</style>\n",
       "<table border=\"1\" class=\"dataframe\">\n",
       "  <thead>\n",
       "    <tr style=\"text-align: right;\">\n",
       "      <th></th>\n",
       "      <th>actor_id</th>\n",
       "      <th>name_x</th>\n",
       "      <th>gender</th>\n",
       "      <th>height</th>\n",
       "      <th>ethnicity</th>\n",
       "      <th>birth_date</th>\n",
       "      <th>movie_id</th>\n",
       "      <th>actor_age</th>\n",
       "      <th>name_y</th>\n",
       "      <th>release_date</th>\n",
       "      <th>revenue</th>\n",
       "      <th>runtime</th>\n",
       "      <th>freebase_id</th>\n",
       "      <th>plot</th>\n",
       "      <th>release_year</th>\n",
       "    </tr>\n",
       "  </thead>\n",
       "  <tbody>\n",
       "    <tr>\n",
       "      <th>424365</th>\n",
       "      <td>/m/0k2pzd</td>\n",
       "      <td>Harriet Hartley</td>\n",
       "      <td>F</td>\n",
       "      <td>NaN</td>\n",
       "      <td>NaN</td>\n",
       "      <td>NaN</td>\n",
       "      <td>1082508</td>\n",
       "      <td>NaN</td>\n",
       "      <td>Roundhay Garden Scene</td>\n",
       "      <td>1888</td>\n",
       "      <td>NaN</td>\n",
       "      <td>0.03</td>\n",
       "      <td>/m/044ggd</td>\n",
       "      <td>NaN</td>\n",
       "      <td>1888</td>\n",
       "    </tr>\n",
       "    <tr>\n",
       "      <th>424364</th>\n",
       "      <td>/m/0k2pz6</td>\n",
       "      <td>Joseph Whitley</td>\n",
       "      <td>M</td>\n",
       "      <td>NaN</td>\n",
       "      <td>NaN</td>\n",
       "      <td>NaN</td>\n",
       "      <td>1082508</td>\n",
       "      <td>NaN</td>\n",
       "      <td>Roundhay Garden Scene</td>\n",
       "      <td>1888</td>\n",
       "      <td>NaN</td>\n",
       "      <td>0.03</td>\n",
       "      <td>/m/044ggd</td>\n",
       "      <td>NaN</td>\n",
       "      <td>1888</td>\n",
       "    </tr>\n",
       "    <tr>\n",
       "      <th>424363</th>\n",
       "      <td>/m/0k2pz0</td>\n",
       "      <td>Sarah Whitley</td>\n",
       "      <td>F</td>\n",
       "      <td>NaN</td>\n",
       "      <td>NaN</td>\n",
       "      <td>NaN</td>\n",
       "      <td>1082508</td>\n",
       "      <td>NaN</td>\n",
       "      <td>Roundhay Garden Scene</td>\n",
       "      <td>1888</td>\n",
       "      <td>NaN</td>\n",
       "      <td>0.03</td>\n",
       "      <td>/m/044ggd</td>\n",
       "      <td>NaN</td>\n",
       "      <td>1888</td>\n",
       "    </tr>\n",
       "    <tr>\n",
       "      <th>424362</th>\n",
       "      <td>/m/0k2pyv</td>\n",
       "      <td>Adolphe Le Prince</td>\n",
       "      <td>M</td>\n",
       "      <td>NaN</td>\n",
       "      <td>NaN</td>\n",
       "      <td>NaN</td>\n",
       "      <td>1082508</td>\n",
       "      <td>NaN</td>\n",
       "      <td>Roundhay Garden Scene</td>\n",
       "      <td>1888</td>\n",
       "      <td>NaN</td>\n",
       "      <td>0.03</td>\n",
       "      <td>/m/044ggd</td>\n",
       "      <td>NaN</td>\n",
       "      <td>1888</td>\n",
       "    </tr>\n",
       "    <tr>\n",
       "      <th>415949</th>\n",
       "      <td>/m/081ks</td>\n",
       "      <td>William Dickson</td>\n",
       "      <td>M</td>\n",
       "      <td>NaN</td>\n",
       "      <td>/m/03lmx1</td>\n",
       "      <td>1860-08-03</td>\n",
       "      <td>644824</td>\n",
       "      <td>NaN</td>\n",
       "      <td>Dickson Greeting</td>\n",
       "      <td>1891</td>\n",
       "      <td>NaN</td>\n",
       "      <td>0.05</td>\n",
       "      <td>/m/02_1qn</td>\n",
       "      <td>NaN</td>\n",
       "      <td>1891</td>\n",
       "    </tr>\n",
       "  </tbody>\n",
       "</table>\n",
       "</div>"
      ],
      "text/plain": [
       "         actor_id             name_x gender  height  ethnicity  birth_date  \\\n",
       "424365  /m/0k2pzd    Harriet Hartley      F     NaN        NaN         NaN   \n",
       "424364  /m/0k2pz6     Joseph Whitley      M     NaN        NaN         NaN   \n",
       "424363  /m/0k2pz0      Sarah Whitley      F     NaN        NaN         NaN   \n",
       "424362  /m/0k2pyv  Adolphe Le Prince      M     NaN        NaN         NaN   \n",
       "415949   /m/081ks    William Dickson      M     NaN  /m/03lmx1  1860-08-03   \n",
       "\n",
       "        movie_id  actor_age                 name_y release_date  revenue  \\\n",
       "424365   1082508        NaN  Roundhay Garden Scene         1888      NaN   \n",
       "424364   1082508        NaN  Roundhay Garden Scene         1888      NaN   \n",
       "424363   1082508        NaN  Roundhay Garden Scene         1888      NaN   \n",
       "424362   1082508        NaN  Roundhay Garden Scene         1888      NaN   \n",
       "415949    644824        NaN       Dickson Greeting         1891      NaN   \n",
       "\n",
       "        runtime freebase_id plot release_year  \n",
       "424365     0.03   /m/044ggd  NaN         1888  \n",
       "424364     0.03   /m/044ggd  NaN         1888  \n",
       "424363     0.03   /m/044ggd  NaN         1888  \n",
       "424362     0.03   /m/044ggd  NaN         1888  \n",
       "415949     0.05   /m/02_1qn  NaN         1891  "
      ]
     },
     "execution_count": 9,
     "metadata": {},
     "output_type": "execute_result"
    }
   ],
   "source": [
    "movie_actor.head()"
   ]
  },
  {
   "cell_type": "markdown",
   "id": "dfd0a528",
   "metadata": {},
   "source": [
    "## COMPARAISON AGE HOMME-FEMME"
   ]
  },
  {
   "cell_type": "code",
   "execution_count": 10,
   "id": "fa0d7c9d",
   "metadata": {},
   "outputs": [],
   "source": [
    "men_actor = movie_actor[movie_actor['gender'] == 'M']\n",
    "men_actor_age = men_actor.dropna(subset=['actor_age'])[['actor_age', 'release_year']]\n",
    "men_actor_age = men_actor_age[(men_actor_age['actor_age'] > 0)] \n",
    "men_actor_age = men_actor_age.sort_values('release_year')"
   ]
  },
  {
   "cell_type": "code",
   "execution_count": 11,
   "id": "e3ad9e65",
   "metadata": {},
   "outputs": [],
   "source": [
    "women_actor = movie_actor[movie_actor['gender'] == 'F']\n",
    "women_actor_age = women_actor.dropna(subset=['actor_age'])[['actor_age', 'release_year']]\n",
    "women_actor_age = women_actor_age[(women_actor_age['actor_age'] > 0)] \n",
    "women_actor_age = women_actor_age.sort_values('release_year')"
   ]
  },
  {
   "cell_type": "code",
   "execution_count": 12,
   "id": "ddd56188",
   "metadata": {},
   "outputs": [
    {
     "data": {
      "image/png": "[encoded data removed]",
      "text/plain": [
       "<Figure size 1440x360 with 1 Axes>"
      ]
     },
     "metadata": {
      "needs_background": "light"
     },
     "output_type": "display_data"
    }
   ],
   "source": [
    "fig, ax = plt.subplots(figsize=(20,5))\n",
    "ax.set_title('Evolution of actor age over years')\n",
    "sns.lineplot(data=women_actor_age, x='release_year', y='actor_age',legend='brief')\n",
    "sns.lineplot(data=men_actor_age, x='release_year', y='actor_age',legend='brief')\n",
    "ax.tick_params(axis='x', rotation=80)"
   ]
  },
  {
   "cell_type": "markdown",
   "id": "b8b6fbeb",
   "metadata": {},
   "source": [
    "# comparaison apparition homme femmes dans genre de film"
   ]
  },
  {
   "cell_type": "code",
   "execution_count": 13,
   "id": "2c312834",
   "metadata": {},
   "outputs": [],
   "source": [
    "men_genre = pd.merge(men_actor, is_of_type_df, on='movie_id')[['release_year', 'genre_name']]\n",
    "m_set = list(men_genre.genre_name.value_counts()[:17].index)"
   ]
  },
  {
   "cell_type": "code",
   "execution_count": 14,
   "id": "8de41c65",
   "metadata": {},
   "outputs": [],
   "source": [
    "women_genre = pd.merge(women_actor, is_of_type_df, on='movie_id')[['release_year', 'genre_name']]\n",
    "w_set = list(women_genre.genre_name.value_counts()[:17].index)"
   ]
  },
  {
   "cell_type": "code",
   "execution_count": 15,
   "id": "7a5f9c96",
   "metadata": {},
   "outputs": [],
   "source": [
    "def intersection(lst1, lst2):\n",
    "    lst3 = [value for value in lst1 if value in lst2]\n",
    "    return lst3"
   ]
  },
  {
   "cell_type": "code",
   "execution_count": 16,
   "id": "b044ffbc",
   "metadata": {},
   "outputs": [
    {
     "data": {
      "text/plain": [
       "['drama',\n",
       " 'comedy',\n",
       " 'action',\n",
       " 'thriller',\n",
       " 'romance film',\n",
       " 'crime fiction',\n",
       " 'action/adventure',\n",
       " 'world cinema',\n",
       " 'adventure',\n",
       " 'indie',\n",
       " 'black-and-white',\n",
       " 'horror',\n",
       " 'family film',\n",
       " 'musical',\n",
       " 'romantic drama',\n",
       " 'mystery']"
      ]
     },
     "execution_count": 16,
     "metadata": {},
     "output_type": "execute_result"
    }
   ],
   "source": [
    "list_genres = intersection(m_set, w_set)\n",
    "list_genres"
   ]
  },
  {
   "cell_type": "code",
   "execution_count": 17,
   "id": "c7384909",
   "metadata": {},
   "outputs": [],
   "source": [
    "men_genre = men_genre[men_genre['genre_name'].isin(list_genres)]\n",
    "women_genre = women_genre[women_genre['genre_name'].isin(list_genres)]"
   ]
  },
  {
   "cell_type": "code",
   "execution_count": 18,
   "id": "ef9e37b1",
   "metadata": {},
   "outputs": [],
   "source": [
    "men_genre = men_genre.groupby('genre_name').apply(lambda x: pd.Series({\n",
    "        'release_year': x['release_year'].values\n",
    "    }))"
   ]
  },
  {
   "cell_type": "code",
   "execution_count": 41,
   "id": "bbc7cad3",
   "metadata": {},
   "outputs": [
    {
     "data": {
      "text/plain": [
       "'1903'"
      ]
     },
     "execution_count": 41,
     "metadata": {},
     "output_type": "execute_result"
    }
   ],
   "source": [
    "list(men_genre.iloc[0].values[0])[0]"
   ]
  },
  {
   "cell_type": "code",
   "execution_count": 45,
   "id": "0d0211cf",
   "metadata": {},
   "outputs": [
    {
     "data": {
      "text/plain": [
       "(array([   81.,   294.,  2109.,  1719.,  2322.,  2965.,  5485.,  7039.,\n",
       "        11163., 14668.]),\n",
       " array([  0. ,  10.5,  21. ,  31.5,  42. ,  52.5,  63. ,  73.5,  84. ,\n",
       "         94.5, 105. ]),\n",
       " <BarContainer object of 10 artists>)"
      ]
     },
     "execution_count": 45,
     "metadata": {},
     "output_type": "execute_result"
    },
    {
     "data": {
      "image/png": "[encoded data removed]",
      "text/plain": [
       "<Figure size 432x288 with 1 Axes>"
      ]
     },
     "metadata": {
      "needs_background": "light"
     },
     "output_type": "display_data"
    }
   ],
   "source": [
    "plt.hist(list(men_genre.iloc[0].values[0]))"
   ]
  },
  {
   "cell_type": "code",
   "execution_count": 86,
   "id": "2bb9cc23",
   "metadata": {},
   "outputs": [
    {
     "data": {
      "text/plain": [
       "Text(0, 0.6, 'Number of movies')"
      ]
     },
     "execution_count": 86,
     "metadata": {},
     "output_type": "execute_result"
    },
    {
     "data": {
      "image/png": "[encoded data removed]",
      "text/plain": [
       "<Figure size 720x360 with 16 Axes>"
      ]
     },
     "metadata": {
      "needs_background": "light"
     },
     "output_type": "display_data"
    }
   ],
   "source": [
    "fig, ax = plt.subplots(4,4,figsize= (10,5), sharey = True, sharex = True)\n",
    "\n",
    "for i in range(16):\n",
    "    sbplt = ax[i%4, math.floor(i/4)]\n",
    "    sbplt.hist(men_genre.iloc[i].values,range = [0,200],bins = 20)\n",
    "    sbplt.set_title(men_genre.index[i])\n",
    "    \n",
    "fig.tight_layout()\n",
    "\n",
    "fig.text(0.4,0, \"Release year\")\n",
    "fig.text(0,0.6, \"Number of movies\", rotation = 90)"
   ]
  },
  {
   "cell_type": "code",
   "execution_count": 80,
   "id": "1dc2b7fa",
   "metadata": {},
   "outputs": [
    {
     "data": {
      "text/html": [
       "<div>\n",
       "<style scoped>\n",
       "    .dataframe tbody tr th:only-of-type {\n",
       "        vertical-align: middle;\n",
       "    }\n",
       "\n",
       "    .dataframe tbody tr th {\n",
       "        vertical-align: top;\n",
       "    }\n",
       "\n",
       "    .dataframe thead th {\n",
       "        text-align: right;\n",
       "    }\n",
       "</style>\n",
       "<table border=\"1\" class=\"dataframe\">\n",
       "  <thead>\n",
       "    <tr style=\"text-align: right;\">\n",
       "      <th></th>\n",
       "      <th>release_year</th>\n",
       "      <th>genre_name</th>\n",
       "    </tr>\n",
       "  </thead>\n",
       "  <tbody>\n",
       "    <tr>\n",
       "      <th>2</th>\n",
       "      <td>1888</td>\n",
       "      <td>indie</td>\n",
       "    </tr>\n",
       "    <tr>\n",
       "      <th>3</th>\n",
       "      <td>1888</td>\n",
       "      <td>black-and-white</td>\n",
       "    </tr>\n",
       "    <tr>\n",
       "      <th>6</th>\n",
       "      <td>1888</td>\n",
       "      <td>indie</td>\n",
       "    </tr>\n",
       "    <tr>\n",
       "      <th>7</th>\n",
       "      <td>1888</td>\n",
       "      <td>black-and-white</td>\n",
       "    </tr>\n",
       "    <tr>\n",
       "      <th>10</th>\n",
       "      <td>1894</td>\n",
       "      <td>indie</td>\n",
       "    </tr>\n",
       "    <tr>\n",
       "      <th>...</th>\n",
       "      <td>...</td>\n",
       "      <td>...</td>\n",
       "    </tr>\n",
       "    <tr>\n",
       "      <th>502220</th>\n",
       "      <td>2015</td>\n",
       "      <td>adventure</td>\n",
       "    </tr>\n",
       "    <tr>\n",
       "      <th>502221</th>\n",
       "      <td>2016</td>\n",
       "      <td>thriller</td>\n",
       "    </tr>\n",
       "    <tr>\n",
       "      <th>502222</th>\n",
       "      <td>2016</td>\n",
       "      <td>horror</td>\n",
       "    </tr>\n",
       "    <tr>\n",
       "      <th>502223</th>\n",
       "      <td>2016</td>\n",
       "      <td>thriller</td>\n",
       "    </tr>\n",
       "    <tr>\n",
       "      <th>502224</th>\n",
       "      <td>2016</td>\n",
       "      <td>horror</td>\n",
       "    </tr>\n",
       "  </tbody>\n",
       "</table>\n",
       "<p>296225 rows × 2 columns</p>\n",
       "</div>"
      ],
      "text/plain": [
       "       release_year       genre_name\n",
       "2              1888            indie\n",
       "3              1888  black-and-white\n",
       "6              1888            indie\n",
       "7              1888  black-and-white\n",
       "10             1894            indie\n",
       "...             ...              ...\n",
       "502220         2015        adventure\n",
       "502221         2016         thriller\n",
       "502222         2016           horror\n",
       "502223         2016         thriller\n",
       "502224         2016           horror\n",
       "\n",
       "[296225 rows x 2 columns]"
      ]
     },
     "execution_count": 80,
     "metadata": {},
     "output_type": "execute_result"
    }
   ],
   "source": [
    "women_genre"
   ]
  },
  {
   "cell_type": "markdown",
   "id": "464effdd",
   "metadata": {},
   "source": [
    "# je veux faire la moyenne du ratio de personnage masculin/féminin par genre de film"
   ]
  },
  {
   "cell_type": "code",
   "execution_count": 55,
   "id": "7003c493",
   "metadata": {},
   "outputs": [
    {
     "name": "stderr",
     "output_type": "stream",
     "text": [
      "/tmp/ipykernel_4730/896721564.py:3: SettingWithCopyWarning: \n",
      "A value is trying to be set on a copy of a slice from a DataFrame\n",
      "\n",
      "See the caveats in the documentation: https://pandas.pydata.org/pandas-docs/stable/user_guide/indexing.html#returning-a-view-versus-a-copy\n",
      "  actors['gender'].replace(['M','F'], [0,1], inplace=True)\n",
      "/tmp/ipykernel_4730/896721564.py:4: SettingWithCopyWarning: \n",
      "A value is trying to be set on a copy of a slice from a DataFrame\n",
      "\n",
      "See the caveats in the documentation: https://pandas.pydata.org/pandas-docs/stable/user_guide/indexing.html#returning-a-view-versus-a-copy\n",
      "  actors.rename(columns={\"gender\": \"female\"}, inplace=True)\n",
      "/tmp/ipykernel_4730/896721564.py:5: SettingWithCopyWarning: \n",
      "A value is trying to be set on a copy of a slice from a DataFrame.\n",
      "Try using .loc[row_indexer,col_indexer] = value instead\n",
      "\n",
      "See the caveats in the documentation: https://pandas.pydata.org/pandas-docs/stable/user_guide/indexing.html#returning-a-view-versus-a-copy\n",
      "  actors['male'] = 1-actors['female']\n"
     ]
    },
    {
     "data": {
      "text/html": [
       "<div>\n",
       "<style scoped>\n",
       "    .dataframe tbody tr th:only-of-type {\n",
       "        vertical-align: middle;\n",
       "    }\n",
       "\n",
       "    .dataframe tbody tr th {\n",
       "        vertical-align: top;\n",
       "    }\n",
       "\n",
       "    .dataframe thead th {\n",
       "        text-align: right;\n",
       "    }\n",
       "</style>\n",
       "<table border=\"1\" class=\"dataframe\">\n",
       "  <thead>\n",
       "    <tr style=\"text-align: right;\">\n",
       "      <th></th>\n",
       "      <th>female</th>\n",
       "      <th>movie_id</th>\n",
       "      <th>male</th>\n",
       "    </tr>\n",
       "  </thead>\n",
       "  <tbody>\n",
       "    <tr>\n",
       "      <th>424365</th>\n",
       "      <td>1.0</td>\n",
       "      <td>1082508</td>\n",
       "      <td>0.0</td>\n",
       "    </tr>\n",
       "    <tr>\n",
       "      <th>424364</th>\n",
       "      <td>0.0</td>\n",
       "      <td>1082508</td>\n",
       "      <td>1.0</td>\n",
       "    </tr>\n",
       "    <tr>\n",
       "      <th>424363</th>\n",
       "      <td>1.0</td>\n",
       "      <td>1082508</td>\n",
       "      <td>0.0</td>\n",
       "    </tr>\n",
       "    <tr>\n",
       "      <th>424362</th>\n",
       "      <td>0.0</td>\n",
       "      <td>1082508</td>\n",
       "      <td>1.0</td>\n",
       "    </tr>\n",
       "    <tr>\n",
       "      <th>415949</th>\n",
       "      <td>0.0</td>\n",
       "      <td>644824</td>\n",
       "      <td>1.0</td>\n",
       "    </tr>\n",
       "    <tr>\n",
       "      <th>...</th>\n",
       "      <td>...</td>\n",
       "      <td>...</td>\n",
       "      <td>...</td>\n",
       "    </tr>\n",
       "    <tr>\n",
       "      <th>303878</th>\n",
       "      <td>0.0</td>\n",
       "      <td>23124260</td>\n",
       "      <td>1.0</td>\n",
       "    </tr>\n",
       "    <tr>\n",
       "      <th>303877</th>\n",
       "      <td>1.0</td>\n",
       "      <td>23124260</td>\n",
       "      <td>0.0</td>\n",
       "    </tr>\n",
       "    <tr>\n",
       "      <th>303876</th>\n",
       "      <td>0.0</td>\n",
       "      <td>23124260</td>\n",
       "      <td>1.0</td>\n",
       "    </tr>\n",
       "    <tr>\n",
       "      <th>303875</th>\n",
       "      <td>0.0</td>\n",
       "      <td>23124260</td>\n",
       "      <td>1.0</td>\n",
       "    </tr>\n",
       "    <tr>\n",
       "      <th>303874</th>\n",
       "      <td>0.0</td>\n",
       "      <td>23124260</td>\n",
       "      <td>1.0</td>\n",
       "    </tr>\n",
       "  </tbody>\n",
       "</table>\n",
       "<p>436509 rows × 3 columns</p>\n",
       "</div>"
      ],
      "text/plain": [
       "        female  movie_id  male\n",
       "424365     1.0   1082508   0.0\n",
       "424364     0.0   1082508   1.0\n",
       "424363     1.0   1082508   0.0\n",
       "424362     0.0   1082508   1.0\n",
       "415949     0.0    644824   1.0\n",
       "...        ...       ...   ...\n",
       "303878     0.0  23124260   1.0\n",
       "303877     1.0  23124260   0.0\n",
       "303876     0.0  23124260   1.0\n",
       "303875     0.0  23124260   1.0\n",
       "303874     0.0  23124260   1.0\n",
       "\n",
       "[436509 rows x 3 columns]"
      ]
     },
     "execution_count": 55,
     "metadata": {},
     "output_type": "execute_result"
    }
   ],
   "source": [
    "actors = movie_actor[['gender', 'movie_id']]\n",
    "actors.groupby('movie_id').head()\n",
    "actors['gender'].replace(['M','F'], [0,1], inplace=True)\n",
    "actors.rename(columns={\"gender\": \"female\"}, inplace=True)\n",
    "actors['male'] = 1-actors['female']\n",
    "actors"
   ]
  },
  {
   "cell_type": "code",
   "execution_count": 69,
   "id": "7ecd8a26",
   "metadata": {},
   "outputs": [
    {
     "data": {
      "text/html": [
       "<div>\n",
       "<style scoped>\n",
       "    .dataframe tbody tr th:only-of-type {\n",
       "        vertical-align: middle;\n",
       "    }\n",
       "\n",
       "    .dataframe tbody tr th {\n",
       "        vertical-align: top;\n",
       "    }\n",
       "\n",
       "    .dataframe thead th {\n",
       "        text-align: right;\n",
       "    }\n",
       "</style>\n",
       "<table border=\"1\" class=\"dataframe\">\n",
       "  <thead>\n",
       "    <tr style=\"text-align: right;\">\n",
       "      <th></th>\n",
       "      <th>female</th>\n",
       "      <th>male</th>\n",
       "    </tr>\n",
       "    <tr>\n",
       "      <th>movie_id</th>\n",
       "      <th></th>\n",
       "      <th></th>\n",
       "    </tr>\n",
       "  </thead>\n",
       "  <tbody>\n",
       "    <tr>\n",
       "      <th>330</th>\n",
       "      <td>4.0</td>\n",
       "      <td>0.0</td>\n",
       "    </tr>\n",
       "    <tr>\n",
       "      <th>3217</th>\n",
       "      <td>3.0</td>\n",
       "      <td>7.0</td>\n",
       "    </tr>\n",
       "    <tr>\n",
       "      <th>3333</th>\n",
       "      <td>6.0</td>\n",
       "      <td>8.0</td>\n",
       "    </tr>\n",
       "    <tr>\n",
       "      <th>3746</th>\n",
       "      <td>3.0</td>\n",
       "      <td>11.0</td>\n",
       "    </tr>\n",
       "    <tr>\n",
       "      <th>3837</th>\n",
       "      <td>2.0</td>\n",
       "      <td>18.0</td>\n",
       "    </tr>\n",
       "    <tr>\n",
       "      <th>...</th>\n",
       "      <td>...</td>\n",
       "      <td>...</td>\n",
       "    </tr>\n",
       "    <tr>\n",
       "      <th>37373877</th>\n",
       "      <td>3.0</td>\n",
       "      <td>3.0</td>\n",
       "    </tr>\n",
       "    <tr>\n",
       "      <th>37476824</th>\n",
       "      <td>4.0</td>\n",
       "      <td>6.0</td>\n",
       "    </tr>\n",
       "    <tr>\n",
       "      <th>37478048</th>\n",
       "      <td>1.0</td>\n",
       "      <td>3.0</td>\n",
       "    </tr>\n",
       "    <tr>\n",
       "      <th>37492363</th>\n",
       "      <td>0.0</td>\n",
       "      <td>0.0</td>\n",
       "    </tr>\n",
       "    <tr>\n",
       "      <th>37501922</th>\n",
       "      <td>1.0</td>\n",
       "      <td>1.0</td>\n",
       "    </tr>\n",
       "  </tbody>\n",
       "</table>\n",
       "<p>60602 rows × 2 columns</p>\n",
       "</div>"
      ],
      "text/plain": [
       "          female  male\n",
       "movie_id              \n",
       "330          4.0   0.0\n",
       "3217         3.0   7.0\n",
       "3333         6.0   8.0\n",
       "3746         3.0  11.0\n",
       "3837         2.0  18.0\n",
       "...          ...   ...\n",
       "37373877     3.0   3.0\n",
       "37476824     4.0   6.0\n",
       "37478048     1.0   3.0\n",
       "37492363     0.0   0.0\n",
       "37501922     1.0   1.0\n",
       "\n",
       "[60602 rows x 2 columns]"
      ]
     },
     "execution_count": 69,
     "metadata": {},
     "output_type": "execute_result"
    }
   ],
   "source": [
    "count_genre = actors.groupby('movie_id').sum()\n",
    "count_genre"
   ]
  },
  {
   "cell_type": "code",
   "execution_count": 72,
   "id": "8dfaa735",
   "metadata": {},
   "outputs": [
    {
     "data": {
      "text/html": [
       "<div>\n",
       "<style scoped>\n",
       "    .dataframe tbody tr th:only-of-type {\n",
       "        vertical-align: middle;\n",
       "    }\n",
       "\n",
       "    .dataframe tbody tr th {\n",
       "        vertical-align: top;\n",
       "    }\n",
       "\n",
       "    .dataframe thead th {\n",
       "        text-align: right;\n",
       "    }\n",
       "</style>\n",
       "<table border=\"1\" class=\"dataframe\">\n",
       "  <thead>\n",
       "    <tr style=\"text-align: right;\">\n",
       "      <th></th>\n",
       "      <th>female</th>\n",
       "      <th>male</th>\n",
       "      <th>diff</th>\n",
       "    </tr>\n",
       "    <tr>\n",
       "      <th>movie_id</th>\n",
       "      <th></th>\n",
       "      <th></th>\n",
       "      <th></th>\n",
       "    </tr>\n",
       "  </thead>\n",
       "  <tbody>\n",
       "    <tr>\n",
       "      <th>330</th>\n",
       "      <td>4.0</td>\n",
       "      <td>0.0</td>\n",
       "      <td>-4.0</td>\n",
       "    </tr>\n",
       "    <tr>\n",
       "      <th>3217</th>\n",
       "      <td>3.0</td>\n",
       "      <td>7.0</td>\n",
       "      <td>4.0</td>\n",
       "    </tr>\n",
       "    <tr>\n",
       "      <th>3333</th>\n",
       "      <td>6.0</td>\n",
       "      <td>8.0</td>\n",
       "      <td>2.0</td>\n",
       "    </tr>\n",
       "    <tr>\n",
       "      <th>3746</th>\n",
       "      <td>3.0</td>\n",
       "      <td>11.0</td>\n",
       "      <td>8.0</td>\n",
       "    </tr>\n",
       "    <tr>\n",
       "      <th>3837</th>\n",
       "      <td>2.0</td>\n",
       "      <td>18.0</td>\n",
       "      <td>16.0</td>\n",
       "    </tr>\n",
       "    <tr>\n",
       "      <th>...</th>\n",
       "      <td>...</td>\n",
       "      <td>...</td>\n",
       "      <td>...</td>\n",
       "    </tr>\n",
       "    <tr>\n",
       "      <th>37373877</th>\n",
       "      <td>3.0</td>\n",
       "      <td>3.0</td>\n",
       "      <td>0.0</td>\n",
       "    </tr>\n",
       "    <tr>\n",
       "      <th>37476824</th>\n",
       "      <td>4.0</td>\n",
       "      <td>6.0</td>\n",
       "      <td>2.0</td>\n",
       "    </tr>\n",
       "    <tr>\n",
       "      <th>37478048</th>\n",
       "      <td>1.0</td>\n",
       "      <td>3.0</td>\n",
       "      <td>2.0</td>\n",
       "    </tr>\n",
       "    <tr>\n",
       "      <th>37492363</th>\n",
       "      <td>0.0</td>\n",
       "      <td>0.0</td>\n",
       "      <td>0.0</td>\n",
       "    </tr>\n",
       "    <tr>\n",
       "      <th>37501922</th>\n",
       "      <td>1.0</td>\n",
       "      <td>1.0</td>\n",
       "      <td>0.0</td>\n",
       "    </tr>\n",
       "  </tbody>\n",
       "</table>\n",
       "<p>60602 rows × 3 columns</p>\n",
       "</div>"
      ],
      "text/plain": [
       "          female  male  diff\n",
       "movie_id                    \n",
       "330          4.0   0.0  -4.0\n",
       "3217         3.0   7.0   4.0\n",
       "3333         6.0   8.0   2.0\n",
       "3746         3.0  11.0   8.0\n",
       "3837         2.0  18.0  16.0\n",
       "...          ...   ...   ...\n",
       "37373877     3.0   3.0   0.0\n",
       "37476824     4.0   6.0   2.0\n",
       "37478048     1.0   3.0   2.0\n",
       "37492363     0.0   0.0   0.0\n",
       "37501922     1.0   1.0   0.0\n",
       "\n",
       "[60602 rows x 3 columns]"
      ]
     },
     "execution_count": 72,
     "metadata": {},
     "output_type": "execute_result"
    }
   ],
   "source": [
    "count_genre['diff'] = count_genre['male'] - count_genre['female']\n",
    "count_genre"
   ]
  },
  {
   "cell_type": "code",
   "execution_count": 124,
   "id": "da897deb",
   "metadata": {},
   "outputs": [
    {
     "data": {
      "text/plain": [
       "movie_id\n",
       "330         -4.0\n",
       "3217         4.0\n",
       "3333         2.0\n",
       "3746         8.0\n",
       "3837        16.0\n",
       "            ... \n",
       "37373877     0.0\n",
       "37476824     2.0\n",
       "37478048     2.0\n",
       "37492363     0.0\n",
       "37501922     0.0\n",
       "Name: diff, Length: 60602, dtype: float64"
      ]
     },
     "execution_count": 124,
     "metadata": {},
     "output_type": "execute_result"
    }
   ],
   "source": [
    "diff_genre = count_genre['diff']\n",
    "diff_genre"
   ]
  },
  {
   "cell_type": "code",
   "execution_count": 132,
   "id": "e67da7a7",
   "metadata": {
    "scrolled": true
   },
   "outputs": [
    {
     "data": {
      "text/html": [
       "<div>\n",
       "<style scoped>\n",
       "    .dataframe tbody tr th:only-of-type {\n",
       "        vertical-align: middle;\n",
       "    }\n",
       "\n",
       "    .dataframe tbody tr th {\n",
       "        vertical-align: top;\n",
       "    }\n",
       "\n",
       "    .dataframe thead th {\n",
       "        text-align: right;\n",
       "    }\n",
       "</style>\n",
       "<table border=\"1\" class=\"dataframe\">\n",
       "  <thead>\n",
       "    <tr style=\"text-align: right;\">\n",
       "      <th></th>\n",
       "      <th></th>\n",
       "      <th>diff</th>\n",
       "    </tr>\n",
       "    <tr>\n",
       "      <th>release_year</th>\n",
       "      <th>genre_name</th>\n",
       "      <th></th>\n",
       "    </tr>\n",
       "  </thead>\n",
       "  <tbody>\n",
       "    <tr>\n",
       "      <th rowspan=\"4\" valign=\"top\">1888</th>\n",
       "      <th>black-and-white</th>\n",
       "      <td>0.0</td>\n",
       "    </tr>\n",
       "    <tr>\n",
       "      <th>indie</th>\n",
       "      <td>0.0</td>\n",
       "    </tr>\n",
       "    <tr>\n",
       "      <th>short film</th>\n",
       "      <td>0.0</td>\n",
       "    </tr>\n",
       "    <tr>\n",
       "      <th>silent film</th>\n",
       "      <td>0.0</td>\n",
       "    </tr>\n",
       "    <tr>\n",
       "      <th>1891</th>\n",
       "      <th>indie</th>\n",
       "      <td>1.0</td>\n",
       "    </tr>\n",
       "    <tr>\n",
       "      <th>...</th>\n",
       "      <th>...</th>\n",
       "      <td>...</td>\n",
       "    </tr>\n",
       "    <tr>\n",
       "      <th rowspan=\"3\" valign=\"top\">2015</th>\n",
       "      <th>crime fiction</th>\n",
       "      <td>4.0</td>\n",
       "    </tr>\n",
       "    <tr>\n",
       "      <th>fantasy</th>\n",
       "      <td>-1.0</td>\n",
       "    </tr>\n",
       "    <tr>\n",
       "      <th>science fiction</th>\n",
       "      <td>1.5</td>\n",
       "    </tr>\n",
       "    <tr>\n",
       "      <th rowspan=\"2\" valign=\"top\">2016</th>\n",
       "      <th>horror</th>\n",
       "      <td>2.0</td>\n",
       "    </tr>\n",
       "    <tr>\n",
       "      <th>thriller</th>\n",
       "      <td>2.0</td>\n",
       "    </tr>\n",
       "  </tbody>\n",
       "</table>\n",
       "<p>13465 rows × 1 columns</p>\n",
       "</div>"
      ],
      "text/plain": [
       "                              diff\n",
       "release_year genre_name           \n",
       "1888         black-and-white   0.0\n",
       "             indie             0.0\n",
       "             short film        0.0\n",
       "             silent film       0.0\n",
       "1891         indie             1.0\n",
       "...                            ...\n",
       "2015         crime fiction     4.0\n",
       "             fantasy          -1.0\n",
       "             science fiction   1.5\n",
       "2016         horror            2.0\n",
       "             thriller          2.0\n",
       "\n",
       "[13465 rows x 1 columns]"
      ]
     },
     "execution_count": 132,
     "metadata": {},
     "output_type": "execute_result"
    }
   ],
   "source": [
    "movie_genre = pd.merge(movie_df, is_of_type_df, on='movie_id')\n",
    "movie_genre = pd.merge(movie_genre, diff_genre, on='movie_id')[['release_year', 'genre_name', 'diff']]\n",
    "movie_genre = movie_genre.groupby(['release_year', 'genre_name']).mean()\n",
    "movie_genre"
   ]
  },
  {
   "cell_type": "code",
   "execution_count": 144,
   "id": "77bb3e66",
   "metadata": {},
   "outputs": [
    {
     "data": {
      "text/html": [
       "<div>\n",
       "<style scoped>\n",
       "    .dataframe tbody tr th:only-of-type {\n",
       "        vertical-align: middle;\n",
       "    }\n",
       "\n",
       "    .dataframe tbody tr th {\n",
       "        vertical-align: top;\n",
       "    }\n",
       "\n",
       "    .dataframe thead th {\n",
       "        text-align: right;\n",
       "    }\n",
       "</style>\n",
       "<table border=\"1\" class=\"dataframe\">\n",
       "  <thead>\n",
       "    <tr style=\"text-align: right;\">\n",
       "      <th></th>\n",
       "      <th>diff</th>\n",
       "    </tr>\n",
       "    <tr>\n",
       "      <th>genre_name</th>\n",
       "      <th></th>\n",
       "    </tr>\n",
       "  </thead>\n",
       "  <tbody>\n",
       "    <tr>\n",
       "      <th>c-movie</th>\n",
       "      <td>-2.000000</td>\n",
       "    </tr>\n",
       "    <tr>\n",
       "      <th>health &amp; fitness</th>\n",
       "      <td>-1.333333</td>\n",
       "    </tr>\n",
       "    <tr>\n",
       "      <th>women in prison films</th>\n",
       "      <td>-1.312500</td>\n",
       "    </tr>\n",
       "    <tr>\n",
       "      <th>romantic thriller</th>\n",
       "      <td>-1.000000</td>\n",
       "    </tr>\n",
       "    <tr>\n",
       "      <th>war effort</th>\n",
       "      <td>-1.000000</td>\n",
       "    </tr>\n",
       "    <tr>\n",
       "      <th>...</th>\n",
       "      <td>...</td>\n",
       "    </tr>\n",
       "    <tr>\n",
       "      <th>prison film</th>\n",
       "      <td>9.545455</td>\n",
       "    </tr>\n",
       "    <tr>\n",
       "      <th>ninja movie</th>\n",
       "      <td>10.000000</td>\n",
       "    </tr>\n",
       "    <tr>\n",
       "      <th>the netherlands in world war ii</th>\n",
       "      <td>10.000000</td>\n",
       "    </tr>\n",
       "    <tr>\n",
       "      <th>space opera</th>\n",
       "      <td>11.000000</td>\n",
       "    </tr>\n",
       "    <tr>\n",
       "      <th>buddy picture</th>\n",
       "      <td>22.000000</td>\n",
       "    </tr>\n",
       "  </tbody>\n",
       "</table>\n",
       "<p>360 rows × 1 columns</p>\n",
       "</div>"
      ],
      "text/plain": [
       "                                      diff\n",
       "genre_name                                \n",
       "c-movie                          -2.000000\n",
       "health & fitness                 -1.333333\n",
       "women in prison films            -1.312500\n",
       "romantic thriller                -1.000000\n",
       "war effort                       -1.000000\n",
       "...                                    ...\n",
       "prison film                       9.545455\n",
       "ninja movie                      10.000000\n",
       "the netherlands in world war ii  10.000000\n",
       "space opera                      11.000000\n",
       "buddy picture                    22.000000\n",
       "\n",
       "[360 rows x 1 columns]"
      ]
     },
     "execution_count": 144,
     "metadata": {},
     "output_type": "execute_result"
    }
   ],
   "source": [
    "movie_genre.reset_index()[['genre_name', 'diff']].groupby('genre_name').mean().sort_values('diff')"
   ]
  },
  {
   "cell_type": "code",
   "execution_count": 128,
   "id": "a7a8e9e9",
   "metadata": {},
   "outputs": [
    {
     "data": {
      "text/plain": [
       "Text(0, 0.6, 'Number of movies')"
      ]
     },
     "execution_count": 128,
     "metadata": {},
     "output_type": "execute_result"
    },
    {
     "data": {
      "image/png": "[encoded data removed]",
      "text/plain": [
       "<Figure size 720x432 with 16 Axes>"
      ]
     },
     "metadata": {
      "needs_background": "light"
     },
     "output_type": "display_data"
    }
   ],
   "source": [
    "fig, ax = plt.subplots(4,4,figsize= (10,6), sharey = True, sharex = True)\n",
    "\n",
    "for i in range(16):\n",
    "    sbplt = ax[i%4, math.floor(i/4)]\n",
    "    sbplt.axhline(y=0, color='r', linestyle='-')\n",
    "    sbplt.plot(movie_genre.xs(list_genres[i], level='genre_name').values)\n",
    "    sbplt.set_title(list_genres[i])\n",
    "    \n",
    "fig.tight_layout()\n",
    "\n",
    "fig.text(0.4,0, \"Release year\")\n",
    "fig.text(0,0.6, \"Number of movies\", rotation = 90)"
   ]
  },
  {
   "cell_type": "code",
   "execution_count": null,
   "id": "6653917b",
   "metadata": {},
   "outputs": [],
   "source": []
  },
  {
   "cell_type": "code",
   "execution_count": 129,
   "id": "1d6ff7a9",
   "metadata": {},
   "outputs": [
    {
     "name": "stdout",
     "output_type": "stream",
     "text": [
      "152085\n",
      "28022\n",
      "25138\n"
     ]
    }
   ],
   "source": [
    "print(len(movie_genre[movie_genre['diff'] > 0]))\n",
    "print(len(movie_genre[movie_genre['diff'] < 0]))\n",
    "print(len(movie_genre[movie_genre['diff'] == 0]))"
   ]
  },
  {
   "cell_type": "code",
   "execution_count": null,
   "id": "60a5a36e",
   "metadata": {},
   "outputs": [],
   "source": []
  }
 ],
 "metadata": {
  "kernelspec": {
   "display_name": "Python 3 (ipykernel)",
   "language": "python",
   "name": "python3"
  },
  "language_info": {
   "codemirror_mode": {
    "name": "ipython",
    "version": 3
   },
   "file_extension": ".py",
   "mimetype": "text/x-python",
   "name": "python",
   "nbconvert_exporter": "python",
   "pygments_lexer": "ipython3",
   "version": "3.9.7"
  }
 },
 "nbformat": 4,
 "nbformat_minor": 5
}
